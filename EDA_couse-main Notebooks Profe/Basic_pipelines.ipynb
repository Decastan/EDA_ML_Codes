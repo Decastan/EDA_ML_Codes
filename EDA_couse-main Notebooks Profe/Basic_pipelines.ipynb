{
  "nbformat": 4,
  "nbformat_minor": 0,
  "metadata": {
    "colab": {
      "provenance": [],
      "authorship_tag": "ABX9TyNin+jPV3x7ePqppikjFDtO",
      "include_colab_link": true
    },
    "kernelspec": {
      "name": "python3",
      "display_name": "Python 3"
    },
    "language_info": {
      "name": "python"
    }
  },
  "cells": [
    {
      "cell_type": "markdown",
      "metadata": {
        "id": "view-in-github",
        "colab_type": "text"
      },
      "source": [
        "<a href=\"https://colab.research.google.com/github/armandoordonez/eda_couse/blob/main/Basic_pipelines.ipynb\" target=\"_parent\"><img src=\"https://colab.research.google.com/assets/colab-badge.svg\" alt=\"Open In Colab\"/></a>"
      ]
    },
    {
      "cell_type": "code",
      "execution_count": 14,
      "metadata": {
        "id": "TWVEwdTxOHLW"
      },
      "outputs": [],
      "source": [
        "# Pipeline\n",
        "from sklearn.pipeline import Pipeline\n",
        "\n",
        "# Support Vector Classifier\n",
        "from sklearn.svm import SVC\n",
        "\n",
        "# Scaler\n",
        "from sklearn.preprocessing import StandardScaler\n",
        "\n",
        "# Dataset\n",
        "from sklearn.datasets import make_classification\n",
        "X, y = make_classification(random_state=0)\n",
        "\n",
        "# Splitter\n",
        "from sklearn.model_selection import train_test_split\n"
      ]
    },
    {
      "cell_type": "code",
      "source": [
        "X"
      ],
      "metadata": {
        "colab": {
          "base_uri": "https://localhost:8080/"
        },
        "id": "BBuQNcnzOg_T",
        "outputId": "444c446d-c571-4d4f-bc52-900a7d0476d9"
      },
      "execution_count": 16,
      "outputs": [
        {
          "output_type": "execute_result",
          "data": {
            "text/plain": [
              "array([[-0.03926799,  0.13191176, -0.21120598, ...,  1.97698901,\n",
              "         1.02122474, -0.46931074],\n",
              "       [ 0.77416061,  0.10490717, -0.33281176, ...,  1.2678044 ,\n",
              "         0.62251914, -1.49026539],\n",
              "       [-0.0148577 ,  0.67057045, -0.21416666, ..., -0.10486202,\n",
              "        -0.10169727, -0.45130304],\n",
              "       ...,\n",
              "       [ 0.29673317, -0.49610233, -0.86404499, ..., -1.10453952,\n",
              "         2.01406015,  0.69042902],\n",
              "       [ 0.08617684,  0.9836362 ,  0.17124355, ...,  2.11564734,\n",
              "         0.11273794,  1.20985013],\n",
              "       [-1.58249448, -1.42279491, -0.56430103, ...,  1.26661394,\n",
              "        -1.31771734,  1.61805427]])"
            ]
          },
          "metadata": {},
          "execution_count": 16
        }
      ]
    },
    {
      "cell_type": "code",
      "source": [
        "# Dividimos en test y train\n",
        "X_train, X_test, y_train, y_test = train_test_split(X, y, random_state=0)\n",
        "\n",
        "# Create the pipeline\n",
        "pipe = Pipeline([\n",
        "    ('scaler', StandardScaler()),\n",
        "    ('svc', SVC())\n",
        "    ])\n",
        "\n",
        "# The pipeline can be used as any other estimator\n",
        "# and avoids leaking the test set into the train set\n",
        "\n",
        "pipe.fit(X_train, y_train)\n",
        "\n",
        "pipe.score(X_test, y_test)"
      ],
      "metadata": {
        "colab": {
          "base_uri": "https://localhost:8080/"
        },
        "id": "_jqPgUMXOp2C",
        "outputId": "a8c6535c-9f08-4d41-eaf0-407b7663d62e"
      },
      "execution_count": 13,
      "outputs": [
        {
          "output_type": "execute_result",
          "data": {
            "text/plain": [
              "0.88"
            ]
          },
          "metadata": {},
          "execution_count": 13
        }
      ]
    },
    {
      "cell_type": "code",
      "source": [],
      "metadata": {
        "id": "tp_5cACCPEWj"
      },
      "execution_count": null,
      "outputs": []
    }
  ]
}