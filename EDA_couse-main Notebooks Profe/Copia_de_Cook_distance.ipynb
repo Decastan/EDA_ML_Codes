{
  "nbformat": 4,
  "nbformat_minor": 0,
  "metadata": {
    "colab": {
      "provenance": [],
      "authorship_tag": "ABX9TyNTKAoTxGTYkSDE14WtOqHi",
      "include_colab_link": true
    },
    "kernelspec": {
      "name": "python3",
      "display_name": "Python 3"
    },
    "language_info": {
      "name": "python"
    }
  },
  "cells": [
    {
      "cell_type": "markdown",
      "metadata": {
        "id": "view-in-github",
        "colab_type": "text"
      },
      "source": [
        "<a href=\"https://colab.research.google.com/github/armandoordonez/eda_couse/blob/main/Copia_de_Cook_distance.ipynb\" target=\"_parent\"><img src=\"https://colab.research.google.com/assets/colab-badge.svg\" alt=\"Open In Colab\"/></a>"
      ]
    },
    {
      "cell_type": "code",
      "execution_count": 13,
      "metadata": {
        "id": "pE2YlveoP0g_"
      },
      "outputs": [],
      "source": [
        "import pandas as pd\n",
        "import seaborn as sns\n",
        "\n",
        "\n",
        "import numpy as np\n",
        "from matplotlib import pyplot as plt\n"
      ]
    },
    {
      "cell_type": "code",
      "source": [
        "#create data frame with no outliers\n",
        "\n",
        "data1 = {'orden': [1, 2, 2, 3, 4, 5, 7, 3, 2, 12, 11, 15, 14, 17, 22], 'edad': [22, 23, 24, 23, 19, 34, 35, 36, 36, 34, 32, 38, 41,\n",
        "                                42, 44]}\n",
        "wo_outliers = pd.DataFrame(data1)\n",
        "print(\"without\", wo_outliers)\n",
        "\n",
        "data2 = {'orden': [1, 2, 2, 3, 4, 5, 7, 3, 2, 12, 11, 15, 14, 17, 22], 'edad': [190, 23, 24, 23, 19, 34, 35, 36, 36, 34, 32, 38, 41,42, 180]}\n",
        "w_outliers = pd.DataFrame(data2)\n",
        "print(\"with\", w_outliers)"
      ],
      "metadata": {
        "colab": {
          "base_uri": "https://localhost:8080/"
        },
        "id": "GA_TiPshP3Kk",
        "outputId": "10e15021-df1b-428f-9ab6-166b134c0d0d"
      },
      "execution_count": 39,
      "outputs": [
        {
          "output_type": "stream",
          "name": "stdout",
          "text": [
            "without     orden  edad\n",
            "0       1    22\n",
            "1       2    23\n",
            "2       2    24\n",
            "3       3    23\n",
            "4       4    19\n",
            "5       5    34\n",
            "6       7    35\n",
            "7       3    36\n",
            "8       2    36\n",
            "9      12    34\n",
            "10     11    32\n",
            "11     15    38\n",
            "12     14    41\n",
            "13     17    42\n",
            "14     22    44\n",
            "with     orden  edad\n",
            "0       1   190\n",
            "1       2    23\n",
            "2       2    24\n",
            "3       3    23\n",
            "4       4    19\n",
            "5       5    34\n",
            "6       7    35\n",
            "7       3    36\n",
            "8       2    36\n",
            "9      12    34\n",
            "10     11    32\n",
            "11     15    38\n",
            "12     14    41\n",
            "13     17    42\n",
            "14     22   180\n"
          ]
        }
      ]
    },
    {
      "cell_type": "code",
      "source": [
        "plt.rcParams[\"figure.figsize\"] = [7.00, 3.50]\n",
        "plt.rcParams[\"figure.autolayout\"] = True\n",
        "\n",
        "f, axes = plt.subplots(1, 2)\n",
        "\n",
        "axes[0].title.set_text('with outliers')\n",
        "axes[1].title.set_text('without outliers')\n",
        "\n",
        "sns.regplot(x=wo_outliers[\"orden\"], y=wo_outliers['edad'], ax=axes[1],label=\"without outliers\",)\n",
        "sns.regplot(x=w_outliers[\"orden\"], y=w_outliers['edad'], ax=axes[0],label=\"with outliers\")\n",
        "plt.show()\n"
      ],
      "metadata": {
        "colab": {
          "base_uri": "https://localhost:8080/",
          "height": 261
        },
        "id": "9oW9EMR0SIm5",
        "outputId": "24ac6fce-48e5-4627-eb73-cf3f7e54d4b4"
      },
      "execution_count": 40,
      "outputs": [
        {
          "output_type": "display_data",
          "data": {
            "text/plain": [
              "<Figure size 504x252 with 2 Axes>"
            ],
            "image/png": "[encoded data removed]"
          },
          "metadata": {
            "needs_background": "light"
          }
        }
      ]
    },
    {
      "cell_type": "code",
      "source": [
        "\n",
        "\n",
        "#fit the linear regression model to the dataset with outliers\n",
        "\n",
        "\n",
        "import statsmodels.api as sm\n",
        "\n",
        "#define response variable\n",
        "y = w_outliers['edad']\n",
        "#define explanatory variable\n",
        "x = w_outliers['orden']\n",
        "\n",
        "#add constant to predictor variables\n",
        "x = sm.add_constant(x)\n",
        "\n",
        "#fit linear regression model\n",
        "model = sm.OLS(y,x).fit() \n",
        "\n",
        "np.set_printoptions(suppress=True)\n",
        "\n",
        "#create instance of influence\n",
        "influence = model.get_influence()\n",
        "\n",
        "#obtain Cook's distance for each observation\n",
        "cooks = influence.cooks_distance\n",
        "\n",
        "#display Cook's distances\n",
        "print(cooks)"
      ],
      "metadata": {
        "colab": {
          "base_uri": "https://localhost:8080/"
        },
        "id": "T0hSb2SKP55a",
        "outputId": "cfd35eb3-4724-4815-f042-f365b380f845"
      },
      "execution_count": 21,
      "outputs": [
        {
          "output_type": "stream",
          "name": "stdout",
          "text": [
            "(array([0.78167086, 0.00778515, 0.00688738, 0.00812162, 0.01188796,\n",
            "       0.00239595, 0.00313348, 0.0007978 , 0.00040285, 0.01371104,\n",
            "       0.01165023, 0.02876499, 0.01597468, 0.04477099, 1.63100305]), array([0.47800785, 0.99224969, 0.9931399 , 0.9919163 , 0.98819315,\n",
            "       0.99760735, 0.99687218, 0.99920257, 0.99959725, 0.98639677,\n",
            "       0.98842768, 0.97170645, 0.98417152, 0.95636321, 0.23334581]))\n"
          ]
        }
      ]
    },
    {
      "cell_type": "code",
      "source": [
        "# Plot Cook's Distance with a horizontal line at 4/n to see which observations\n",
        "#exceed this thresdhold\n",
        "\n",
        "def abline(slope, intercept):\n",
        "    axes = plt.gca()\n",
        "    x_vals = np.array(axes.get_xlim())\n",
        "    y_vals = intercept + slope * x_vals\n",
        "    plt.plot(x_vals, y_vals, '--')\n",
        "\n",
        "\n",
        "n = len(w_outliers.index)\n",
        "\n",
        "plt.plot(w_outliers['orden'],cooks[0],'o', color='black')\n",
        "abline(0,4/n)"
      ],
      "metadata": {
        "id": "w1HgU2pCQHkc",
        "colab": {
          "base_uri": "https://localhost:8080/",
          "height": 261
        },
        "outputId": "6fe18bfa-1e0c-4529-ddbe-cfd173f4249b"
      },
      "execution_count": 26,
      "outputs": [
        {
          "output_type": "display_data",
          "data": {
            "text/plain": [
              "<Figure size 504x252 with 1 Axes>"
            ],
            "image/png": "[encoded data removed]"
          },
          "metadata": {
            "needs_background": "light"
          }
        }
      ]
    },
    {
      "cell_type": "code",
      "source": [],
      "metadata": {
        "id": "pL1WZDTgQSXo"
      },
      "execution_count": null,
      "outputs": []
    },
    {
      "cell_type": "code",
      "source": [
        "plt.rcParams[\"figure.figsize\"] = [7.00, 3.50]\n",
        "plt.rcParams[\"figure.autolayout\"] = True\n",
        "\n",
        "f, axes = plt.subplots(1, 2)\n",
        "\n",
        "axes[0].title.set_text('with outliers')\n",
        "axes[1].title.set_text('Removed')\n",
        "\n",
        "removed_outliers= w_outliers[cooks[0] < 4/n]\n",
        "\n",
        "print(removed_outliers)\n",
        "print(w_outliers)\n",
        "\n",
        "sns.regplot(x=w_outliers[\"orden\"], y=w_outliers['edad'], ax=axes[0],label=\"with outliers\")\n",
        "sns.regplot(x=removed_outliers[\"orden\"], y=removed_outliers['edad'], ax=axes[1],label=\"removed outliers\",)\n",
        "\n",
        "plt.show()\n"
      ],
      "metadata": {
        "id": "r27pi7HWQW2i",
        "colab": {
          "base_uri": "https://localhost:8080/",
          "height": 782
        },
        "outputId": "9ea6d1e1-8afe-4e8d-84c5-b8ec55733c1c"
      },
      "execution_count": 46,
      "outputs": [
        {
          "output_type": "stream",
          "name": "stdout",
          "text": [
            "    orden  edad\n",
            "1       2    23\n",
            "2       2    24\n",
            "3       3    23\n",
            "4       4    19\n",
            "5       5    34\n",
            "6       7    35\n",
            "7       3    36\n",
            "8       2    36\n",
            "9      12    34\n",
            "10     11    32\n",
            "11     15    38\n",
            "12     14    41\n",
            "13     17    42\n",
            "    orden  edad\n",
            "0       1   190\n",
            "1       2    23\n",
            "2       2    24\n",
            "3       3    23\n",
            "4       4    19\n",
            "5       5    34\n",
            "6       7    35\n",
            "7       3    36\n",
            "8       2    36\n",
            "9      12    34\n",
            "10     11    32\n",
            "11     15    38\n",
            "12     14    41\n",
            "13     17    42\n",
            "14     22   180\n"
          ]
        },
        {
          "output_type": "display_data",
          "data": {
            "text/plain": [
              "<Figure size 504x252 with 2 Axes>"
            ],
            "image/png": "[encoded data removed]"
          },
          "metadata": {
            "needs_background": "light"
          }
        }
      ]
    },
    {
      "cell_type": "code",
      "source": [],
      "metadata": {
        "id": "YVxD-KocQSap"
      },
      "execution_count": null,
      "outputs": []
    },
    {
      "cell_type": "code",
      "source": [],
      "metadata": {
        "id": "23DZVv3_QSeb"
      },
      "execution_count": null,
      "outputs": []
    },
    {
      "cell_type": "code",
      "source": [],
      "metadata": {
        "id": "TlprvgLTQSjc"
      },
      "execution_count": null,
      "outputs": []
    }
  ]
}