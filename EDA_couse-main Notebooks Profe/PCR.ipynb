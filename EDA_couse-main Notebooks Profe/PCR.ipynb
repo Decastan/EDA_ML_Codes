{
  "nbformat": 4,
  "nbformat_minor": 0,
  "metadata": {
    "colab": {
      "provenance": [],
      "include_colab_link": true
    },
    "kernelspec": {
      "name": "python3",
      "display_name": "Python 3"
    },
    "language_info": {
      "name": "python"
    }
  },
  "cells": [
    {
      "cell_type": "markdown",
      "metadata": {
        "id": "view-in-github",
        "colab_type": "text"
      },
      "source": [
        "<a href=\"https://colab.research.google.com/github/armandoordonez/eda_couse/blob/main/PCR.ipynb\" target=\"_parent\"><img src=\"https://colab.research.google.com/assets/colab-badge.svg\" alt=\"Open In Colab\"/></a>"
      ]
    },
    {
      "cell_type": "code",
      "execution_count": null,
      "metadata": {
        "id": "aUqwP0bOzrk2"
      },
      "outputs": [],
      "source": [
        "#Based on: Análisis de componentes princiaples PCA con Python by Joaquín Amat Rodrigo, available under a Attribution 4.0 International (CC BY 4.0) at https://www.cienciadedatos.net/documentos/py19-pca-python.html"
      ]
    },
    {
      "cell_type": "markdown",
      "source": [
        "El departamento de calidad de una empresa de alimentación se encarga de medir el contenido en grasa de la carne que comercializa. Este estudio se realiza mediante técnicas de analítica química, un proceso relativamente costoso en tiempo y recursos. Una alternativa que permitiría reducir costes y optimizar tiempo es emplear un espectrofotómetro (instrumento capaz de detectar la absorbancia que tiene un material a diferentes tipos de luz en función de sus características) e inferir el contenido en grasa a partir de sus medidas.\n",
        "\n",
        "Antes de dar por válida esta nueva técnica, la empresa necesita comprobar qué margen de error tiene respecto al análisis químico. Para ello, se mide el espectro de absorbancia a 100 longitudes de onda en 215 muestras de carne, cuyo contenido en grasa se obtiene también por análisis químico, y se entrena un modelo con el objetivo de predecir el contenido en grasa a partir de los valores dados por el espectrofotómetro.\n",
        "\n",
        "Los datos meatspec.csv empleados en este ejemplo se han obtenido del magnífico libro Linear Models with R, Second Edition."
      ],
      "metadata": {
        "id": "yjM-b4e0Yjm6"
      }
    },
    {
      "cell_type": "code",
      "source": [
        "# Tratamiento de datos\n",
        "# ==============================================================================\n",
        "import numpy as np\n",
        "import pandas as pd\n",
        "import statsmodels.api as sm\n",
        "\n",
        "# Gráficos\n",
        "# ==============================================================================\n",
        "import matplotlib.pyplot as plt\n",
        "import matplotlib.font_manager\n",
        "from matplotlib import style\n",
        "style.use('ggplot') or plt.style.use('ggplot')\n",
        "\n",
        "# Preprocesado y modelado\n",
        "# ==============================================================================\n",
        "from sklearn.decomposition import PCA\n",
        "from sklearn.pipeline import make_pipeline\n",
        "from sklearn.preprocessing import StandardScaler\n",
        "from sklearn.model_selection import KFold\n",
        "from sklearn.model_selection import GridSearchCV\n",
        "from sklearn.linear_model import LinearRegression\n",
        "from sklearn.model_selection import train_test_split\n",
        "from sklearn.metrics import mean_squared_error\n",
        "import multiprocessing\n",
        "# Configuración warnings\n",
        "# ==============================================================================\n",
        "import warnings\n",
        "warnings.filterwarnings('ignore')"
      ],
      "metadata": {
        "id": "yS8NevHlzwTy"
      },
      "execution_count": 1,
      "outputs": []
    },
    {
      "cell_type": "code",
      "source": [
        "datos = pd.read_csv('https://raw.githubusercontent.com/armandoordonez/eda_couse/main/data/meatspec.csv')\n",
        "datos = datos.drop(columns = datos.columns[0])\n",
        "  "
      ],
      "metadata": {
        "id": "EYaaqh0h6tj4"
      },
      "execution_count": 2,
      "outputs": []
    },
    {
      "cell_type": "code",
      "source": [
        "datos.head()"
      ],
      "metadata": {
        "id": "XoI39fteYFcZ",
        "outputId": "72a672dc-0f9b-4bb4-cee4-a3d5f72b5fd1",
        "colab": {
          "base_uri": "https://localhost:8080/",
          "height": 236
        }
      },
      "execution_count": 3,
      "outputs": [
        {
          "output_type": "execute_result",
          "data": {
            "text/plain": [
              "        V1       V2       V3       V4       V5       V6       V7       V8  \\\n",
              "0  2.61776  2.61814  2.61859  2.61912  2.61981  2.62071  2.62186  2.62334   \n",
              "1  2.83454  2.83871  2.84283  2.84705  2.85138  2.85587  2.86060  2.86566   \n",
              "2  2.58284  2.58458  2.58629  2.58808  2.58996  2.59192  2.59401  2.59627   \n",
              "3  2.82286  2.82460  2.82630  2.82814  2.83001  2.83192  2.83392  2.83606   \n",
              "4  2.78813  2.78989  2.79167  2.79350  2.79538  2.79746  2.79984  2.80254   \n",
              "\n",
              "        V9      V10  ...      V92      V93      V94      V95      V96  \\\n",
              "0  2.62511  2.62722  ...  2.98145  2.96072  2.94013  2.91978  2.89966   \n",
              "1  2.87093  2.87661  ...  3.29186  3.27921  3.26655  3.25369  3.24045   \n",
              "2  2.59873  2.60131  ...  2.68951  2.67009  2.65112  2.63262  2.61461   \n",
              "3  2.83842  2.84097  ...  2.97367  2.94951  2.92576  2.90251  2.87988   \n",
              "4  2.80553  2.80890  ...  3.30025  3.27907  3.25831  3.23784  3.21765   \n",
              "\n",
              "       V97      V98      V99     V100   fat  \n",
              "0  2.87964  2.85960  2.83940  2.81920  22.5  \n",
              "1  3.22659  3.21181  3.19600  3.17942  40.1  \n",
              "2  2.59718  2.58034  2.56404  2.54816   8.4  \n",
              "3  2.85794  2.83672  2.81617  2.79622   5.9  \n",
              "4  3.19766  3.17770  3.15770  3.13753  25.5  \n",
              "\n",
              "[5 rows x 101 columns]"
            ],
            "text/html": [
              "\n",
              "  <div id=\"df-339f8ed2-f59a-4ba8-8969-678a68396ec5\">\n",
              "    <div class=\"colab-df-container\">\n",
              "      <div>\n",
              "<style scoped>\n",
              "    .dataframe tbody tr th:only-of-type {\n",
              "        vertical-align: middle;\n",
              "    }\n",
              "\n",
              "    .dataframe tbody tr th {\n",
              "        vertical-align: top;\n",
              "    }\n",
              "\n",
              "    .dataframe thead th {\n",
              "        text-align: right;\n",
              "    }\n",
              "</style>\n",
              "<table border=\"1\" class=\"dataframe\">\n",
              "  <thead>\n",
              "    <tr style=\"text-align: right;\">\n",
              "      <th></th>\n",
              "      <th>V1</th>\n",
              "      <th>V2</th>\n",
              "      <th>V3</th>\n",
              "      <th>V4</th>\n",
              "      <th>V5</th>\n",
              "      <th>V6</th>\n",
              "      <th>V7</th>\n",
              "      <th>V8</th>\n",
              "      <th>V9</th>\n",
              "      <th>V10</th>\n",
              "      <th>...</th>\n",
              "      <th>V92</th>\n",
              "      <th>V93</th>\n",
              "      <th>V94</th>\n",
              "      <th>V95</th>\n",
              "      <th>V96</th>\n",
              "      <th>V97</th>\n",
              "      <th>V98</th>\n",
              "      <th>V99</th>\n",
              "      <th>V100</th>\n",
              "      <th>fat</th>\n",
              "    </tr>\n",
              "  </thead>\n",
              "  <tbody>\n",
              "    <tr>\n",
              "      <th>0</th>\n",
              "      <td>2.61776</td>\n",
              "      <td>2.61814</td>\n",
              "      <td>2.61859</td>\n",
              "      <td>2.61912</td>\n",
              "      <td>2.61981</td>\n",
              "      <td>2.62071</td>\n",
              "      <td>2.62186</td>\n",
              "      <td>2.62334</td>\n",
              "      <td>2.62511</td>\n",
              "      <td>2.62722</td>\n",
              "      <td>...</td>\n",
              "      <td>2.98145</td>\n",
              "      <td>2.96072</td>\n",
              "      <td>2.94013</td>\n",
              "      <td>2.91978</td>\n",
              "      <td>2.89966</td>\n",
              "      <td>2.87964</td>\n",
              "      <td>2.85960</td>\n",
              "      <td>2.83940</td>\n",
              "      <td>2.81920</td>\n",
              "      <td>22.5</td>\n",
              "    </tr>\n",
              "    <tr>\n",
              "      <th>1</th>\n",
              "      <td>2.83454</td>\n",
              "      <td>2.83871</td>\n",
              "      <td>2.84283</td>\n",
              "      <td>2.84705</td>\n",
              "      <td>2.85138</td>\n",
              "      <td>2.85587</td>\n",
              "      <td>2.86060</td>\n",
              "      <td>2.86566</td>\n",
              "      <td>2.87093</td>\n",
              "      <td>2.87661</td>\n",
              "      <td>...</td>\n",
              "      <td>3.29186</td>\n",
              "      <td>3.27921</td>\n",
              "      <td>3.26655</td>\n",
              "      <td>3.25369</td>\n",
              "      <td>3.24045</td>\n",
              "      <td>3.22659</td>\n",
              "      <td>3.21181</td>\n",
              "      <td>3.19600</td>\n",
              "      <td>3.17942</td>\n",
              "      <td>40.1</td>\n",
              "    </tr>\n",
              "    <tr>\n",
              "      <th>2</th>\n",
              "      <td>2.58284</td>\n",
              "      <td>2.58458</td>\n",
              "      <td>2.58629</td>\n",
              "      <td>2.58808</td>\n",
              "      <td>2.58996</td>\n",
              "      <td>2.59192</td>\n",
              "      <td>2.59401</td>\n",
              "      <td>2.59627</td>\n",
              "      <td>2.59873</td>\n",
              "      <td>2.60131</td>\n",
              "      <td>...</td>\n",
              "      <td>2.68951</td>\n",
              "      <td>2.67009</td>\n",
              "      <td>2.65112</td>\n",
              "      <td>2.63262</td>\n",
              "      <td>2.61461</td>\n",
              "      <td>2.59718</td>\n",
              "      <td>2.58034</td>\n",
              "      <td>2.56404</td>\n",
              "      <td>2.54816</td>\n",
              "      <td>8.4</td>\n",
              "    </tr>\n",
              "    <tr>\n",
              "      <th>3</th>\n",
              "      <td>2.82286</td>\n",
              "      <td>2.82460</td>\n",
              "      <td>2.82630</td>\n",
              "      <td>2.82814</td>\n",
              "      <td>2.83001</td>\n",
              "      <td>2.83192</td>\n",
              "      <td>2.83392</td>\n",
              "      <td>2.83606</td>\n",
              "      <td>2.83842</td>\n",
              "      <td>2.84097</td>\n",
              "      <td>...</td>\n",
              "      <td>2.97367</td>\n",
              "      <td>2.94951</td>\n",
              "      <td>2.92576</td>\n",
              "      <td>2.90251</td>\n",
              "      <td>2.87988</td>\n",
              "      <td>2.85794</td>\n",
              "      <td>2.83672</td>\n",
              "      <td>2.81617</td>\n",
              "      <td>2.79622</td>\n",
              "      <td>5.9</td>\n",
              "    </tr>\n",
              "    <tr>\n",
              "      <th>4</th>\n",
              "      <td>2.78813</td>\n",
              "      <td>2.78989</td>\n",
              "      <td>2.79167</td>\n",
              "      <td>2.79350</td>\n",
              "      <td>2.79538</td>\n",
              "      <td>2.79746</td>\n",
              "      <td>2.79984</td>\n",
              "      <td>2.80254</td>\n",
              "      <td>2.80553</td>\n",
              "      <td>2.80890</td>\n",
              "      <td>...</td>\n",
              "      <td>3.30025</td>\n",
              "      <td>3.27907</td>\n",
              "      <td>3.25831</td>\n",
              "      <td>3.23784</td>\n",
              "      <td>3.21765</td>\n",
              "      <td>3.19766</td>\n",
              "      <td>3.17770</td>\n",
              "      <td>3.15770</td>\n",
              "      <td>3.13753</td>\n",
              "      <td>25.5</td>\n",
              "    </tr>\n",
              "  </tbody>\n",
              "</table>\n",
              "<p>5 rows × 101 columns</p>\n",
              "</div>\n",
              "      <button class=\"colab-df-convert\" onclick=\"convertToInteractive('df-339f8ed2-f59a-4ba8-8969-678a68396ec5')\"\n",
              "              title=\"Convert this dataframe to an interactive table.\"\n",
              "              style=\"display:none;\">\n",
              "        \n",
              "  <svg xmlns=\"http://www.w3.org/2000/svg\" height=\"24px\"viewBox=\"0 0 24 24\"\n",
              "       width=\"24px\">\n",
              "    <path d=\"M0 0h24v24H0V0z\" fill=\"none\"/>\n",
              "    <path d=\"M18.56 5.44l.94 2.06.94-2.06 2.06-.94-2.06-.94-.94-2.06-.94 2.06-2.06.94zm-11 1L8.5 8.5l.94-2.06 2.06-.94-2.06-.94L8.5 2.5l-.94 2.06-2.06.94zm10 10l.94 2.06.94-2.06 2.06-.94-2.06-.94-.94-2.06-.94 2.06-2.06.94z\"/><path d=\"M17.41 7.96l-1.37-1.37c-.4-.4-.92-.59-1.43-.59-.52 0-1.04.2-1.43.59L10.3 9.45l-7.72 7.72c-.78.78-.78 2.05 0 2.83L4 21.41c.39.39.9.59 1.41.59.51 0 1.02-.2 1.41-.59l7.78-7.78 2.81-2.81c.8-.78.8-2.07 0-2.86zM5.41 20L4 18.59l7.72-7.72 1.47 1.35L5.41 20z\"/>\n",
              "  </svg>\n",
              "      </button>\n",
              "      \n",
              "  <style>\n",
              "    .colab-df-container {\n",
              "      display:flex;\n",
              "      flex-wrap:wrap;\n",
              "      gap: 12px;\n",
              "    }\n",
              "\n",
              "    .colab-df-convert {\n",
              "      background-color: #E8F0FE;\n",
              "      border: none;\n",
              "      border-radius: 50%;\n",
              "      cursor: pointer;\n",
              "      display: none;\n",
              "      fill: #1967D2;\n",
              "      height: 32px;\n",
              "      padding: 0 0 0 0;\n",
              "      width: 32px;\n",
              "    }\n",
              "\n",
              "    .colab-df-convert:hover {\n",
              "      background-color: #E2EBFA;\n",
              "      box-shadow: 0px 1px 2px rgba(60, 64, 67, 0.3), 0px 1px 3px 1px rgba(60, 64, 67, 0.15);\n",
              "      fill: #174EA6;\n",
              "    }\n",
              "\n",
              "    [theme=dark] .colab-df-convert {\n",
              "      background-color: #3B4455;\n",
              "      fill: #D2E3FC;\n",
              "    }\n",
              "\n",
              "    [theme=dark] .colab-df-convert:hover {\n",
              "      background-color: #434B5C;\n",
              "      box-shadow: 0px 1px 3px 1px rgba(0, 0, 0, 0.15);\n",
              "      filter: drop-shadow(0px 1px 2px rgba(0, 0, 0, 0.3));\n",
              "      fill: #FFFFFF;\n",
              "    }\n",
              "  </style>\n",
              "\n",
              "      <script>\n",
              "        const buttonEl =\n",
              "          document.querySelector('#df-339f8ed2-f59a-4ba8-8969-678a68396ec5 button.colab-df-convert');\n",
              "        buttonEl.style.display =\n",
              "          google.colab.kernel.accessAllowed ? 'block' : 'none';\n",
              "\n",
              "        async function convertToInteractive(key) {\n",
              "          const element = document.querySelector('#df-339f8ed2-f59a-4ba8-8969-678a68396ec5');\n",
              "          const dataTable =\n",
              "            await google.colab.kernel.invokeFunction('convertToInteractive',\n",
              "                                                     [key], {});\n",
              "          if (!dataTable) return;\n",
              "\n",
              "          const docLinkHtml = 'Like what you see? Visit the ' +\n",
              "            '<a target=\"_blank\" href=https://colab.research.google.com/notebooks/data_table.ipynb>data table notebook</a>'\n",
              "            + ' to learn more about interactive tables.';\n",
              "          element.innerHTML = '';\n",
              "          dataTable['output_type'] = 'display_data';\n",
              "          await google.colab.output.renderOutput(dataTable, element);\n",
              "          const docLink = document.createElement('div');\n",
              "          docLink.innerHTML = docLinkHtml;\n",
              "          element.appendChild(docLink);\n",
              "        }\n",
              "      </script>\n",
              "    </div>\n",
              "  </div>\n",
              "  "
            ]
          },
          "metadata": {},
          "execution_count": 3
        }
      ]
    },
    {
      "cell_type": "code",
      "source": [
        "datos.shape"
      ],
      "metadata": {
        "id": "mIsat1zYYgFW",
        "outputId": "192d88c3-ceb8-4ee3-9329-69dc8e2f0e7e",
        "colab": {
          "base_uri": "https://localhost:8080/"
        }
      },
      "execution_count": 4,
      "outputs": [
        {
          "output_type": "execute_result",
          "data": {
            "text/plain": [
              "(215, 101)"
            ]
          },
          "metadata": {},
          "execution_count": 4
        }
      ]
    },
    {
      "cell_type": "code",
      "source": [
        "# verificar correlacion entre variables\n",
        "\n",
        "# Correlación entre columnas numéricas\n",
        "# ==============================================================================\n",
        "\n",
        "def tidy_corr_matrix(corr_mat):\n",
        "    '''\n",
        "    Función para convertir una matriz de correlación de pandas en formato tidy\n",
        "    '''\n",
        "    corr_mat = corr_mat.stack().reset_index()\n",
        "    corr_mat.columns = ['variable_1','variable_2','r']\n",
        "    corr_mat = corr_mat.loc[corr_mat['variable_1'] != corr_mat['variable_2'], :]\n",
        "    corr_mat['abs_r'] = np.abs(corr_mat['r'])\n",
        "    corr_mat = corr_mat.sort_values('abs_r', ascending=False)\n",
        "    \n",
        "    return(corr_mat)\n",
        "\n",
        "corr_matrix = datos.select_dtypes(include=['float64', 'int']) \\\n",
        "              .corr(method='pearson')\n",
        "display(tidy_corr_matrix(corr_matrix).head(5))"
      ],
      "metadata": {
        "id": "0czLtzXVY-E6",
        "outputId": "eee4db4a-b6b4-4796-deb3-6d9fdef8244c",
        "colab": {
          "base_uri": "https://localhost:8080/",
          "height": 206
        }
      },
      "execution_count": 5,
      "outputs": [
        {
          "output_type": "display_data",
          "data": {
            "text/plain": [
              "     variable_1 variable_2         r     abs_r\n",
              "1019        V11        V10  0.999996  0.999996\n",
              "919         V10        V11  0.999996  0.999996\n",
              "1021        V11        V12  0.999996  0.999996\n",
              "1121        V12        V11  0.999996  0.999996\n",
              "917         V10         V9  0.999996  0.999996"
            ],
            "text/html": [
              "\n",
              "  <div id=\"df-422f477c-9de6-4592-8383-47dd1c2d984f\">\n",
              "    <div class=\"colab-df-container\">\n",
              "      <div>\n",
              "<style scoped>\n",
              "    .dataframe tbody tr th:only-of-type {\n",
              "        vertical-align: middle;\n",
              "    }\n",
              "\n",
              "    .dataframe tbody tr th {\n",
              "        vertical-align: top;\n",
              "    }\n",
              "\n",
              "    .dataframe thead th {\n",
              "        text-align: right;\n",
              "    }\n",
              "</style>\n",
              "<table border=\"1\" class=\"dataframe\">\n",
              "  <thead>\n",
              "    <tr style=\"text-align: right;\">\n",
              "      <th></th>\n",
              "      <th>variable_1</th>\n",
              "      <th>variable_2</th>\n",
              "      <th>r</th>\n",
              "      <th>abs_r</th>\n",
              "    </tr>\n",
              "  </thead>\n",
              "  <tbody>\n",
              "    <tr>\n",
              "      <th>1019</th>\n",
              "      <td>V11</td>\n",
              "      <td>V10</td>\n",
              "      <td>0.999996</td>\n",
              "      <td>0.999996</td>\n",
              "    </tr>\n",
              "    <tr>\n",
              "      <th>919</th>\n",
              "      <td>V10</td>\n",
              "      <td>V11</td>\n",
              "      <td>0.999996</td>\n",
              "      <td>0.999996</td>\n",
              "    </tr>\n",
              "    <tr>\n",
              "      <th>1021</th>\n",
              "      <td>V11</td>\n",
              "      <td>V12</td>\n",
              "      <td>0.999996</td>\n",
              "      <td>0.999996</td>\n",
              "    </tr>\n",
              "    <tr>\n",
              "      <th>1121</th>\n",
              "      <td>V12</td>\n",
              "      <td>V11</td>\n",
              "      <td>0.999996</td>\n",
              "      <td>0.999996</td>\n",
              "    </tr>\n",
              "    <tr>\n",
              "      <th>917</th>\n",
              "      <td>V10</td>\n",
              "      <td>V9</td>\n",
              "      <td>0.999996</td>\n",
              "      <td>0.999996</td>\n",
              "    </tr>\n",
              "  </tbody>\n",
              "</table>\n",
              "</div>\n",
              "      <button class=\"colab-df-convert\" onclick=\"convertToInteractive('df-422f477c-9de6-4592-8383-47dd1c2d984f')\"\n",
              "              title=\"Convert this dataframe to an interactive table.\"\n",
              "              style=\"display:none;\">\n",
              "        \n",
              "  <svg xmlns=\"http://www.w3.org/2000/svg\" height=\"24px\"viewBox=\"0 0 24 24\"\n",
              "       width=\"24px\">\n",
              "    <path d=\"M0 0h24v24H0V0z\" fill=\"none\"/>\n",
              "    <path d=\"M18.56 5.44l.94 2.06.94-2.06 2.06-.94-2.06-.94-.94-2.06-.94 2.06-2.06.94zm-11 1L8.5 8.5l.94-2.06 2.06-.94-2.06-.94L8.5 2.5l-.94 2.06-2.06.94zm10 10l.94 2.06.94-2.06 2.06-.94-2.06-.94-.94-2.06-.94 2.06-2.06.94z\"/><path d=\"M17.41 7.96l-1.37-1.37c-.4-.4-.92-.59-1.43-.59-.52 0-1.04.2-1.43.59L10.3 9.45l-7.72 7.72c-.78.78-.78 2.05 0 2.83L4 21.41c.39.39.9.59 1.41.59.51 0 1.02-.2 1.41-.59l7.78-7.78 2.81-2.81c.8-.78.8-2.07 0-2.86zM5.41 20L4 18.59l7.72-7.72 1.47 1.35L5.41 20z\"/>\n",
              "  </svg>\n",
              "      </button>\n",
              "      \n",
              "  <style>\n",
              "    .colab-df-container {\n",
              "      display:flex;\n",
              "      flex-wrap:wrap;\n",
              "      gap: 12px;\n",
              "    }\n",
              "\n",
              "    .colab-df-convert {\n",
              "      background-color: #E8F0FE;\n",
              "      border: none;\n",
              "      border-radius: 50%;\n",
              "      cursor: pointer;\n",
              "      display: none;\n",
              "      fill: #1967D2;\n",
              "      height: 32px;\n",
              "      padding: 0 0 0 0;\n",
              "      width: 32px;\n",
              "    }\n",
              "\n",
              "    .colab-df-convert:hover {\n",
              "      background-color: #E2EBFA;\n",
              "      box-shadow: 0px 1px 2px rgba(60, 64, 67, 0.3), 0px 1px 3px 1px rgba(60, 64, 67, 0.15);\n",
              "      fill: #174EA6;\n",
              "    }\n",
              "\n",
              "    [theme=dark] .colab-df-convert {\n",
              "      background-color: #3B4455;\n",
              "      fill: #D2E3FC;\n",
              "    }\n",
              "\n",
              "    [theme=dark] .colab-df-convert:hover {\n",
              "      background-color: #434B5C;\n",
              "      box-shadow: 0px 1px 3px 1px rgba(0, 0, 0, 0.15);\n",
              "      filter: drop-shadow(0px 1px 2px rgba(0, 0, 0, 0.3));\n",
              "      fill: #FFFFFF;\n",
              "    }\n",
              "  </style>\n",
              "\n",
              "      <script>\n",
              "        const buttonEl =\n",
              "          document.querySelector('#df-422f477c-9de6-4592-8383-47dd1c2d984f button.colab-df-convert');\n",
              "        buttonEl.style.display =\n",
              "          google.colab.kernel.accessAllowed ? 'block' : 'none';\n",
              "\n",
              "        async function convertToInteractive(key) {\n",
              "          const element = document.querySelector('#df-422f477c-9de6-4592-8383-47dd1c2d984f');\n",
              "          const dataTable =\n",
              "            await google.colab.kernel.invokeFunction('convertToInteractive',\n",
              "                                                     [key], {});\n",
              "          if (!dataTable) return;\n",
              "\n",
              "          const docLinkHtml = 'Like what you see? Visit the ' +\n",
              "            '<a target=\"_blank\" href=https://colab.research.google.com/notebooks/data_table.ipynb>data table notebook</a>'\n",
              "            + ' to learn more about interactive tables.';\n",
              "          element.innerHTML = '';\n",
              "          dataTable['output_type'] = 'display_data';\n",
              "          await google.colab.output.renderOutput(dataTable, element);\n",
              "          const docLink = document.createElement('div');\n",
              "          docLink.innerHTML = docLinkHtml;\n",
              "          element.appendChild(docLink);\n",
              "        }\n",
              "      </script>\n",
              "    </div>\n",
              "  </div>\n",
              "  "
            ]
          },
          "metadata": {}
        }
      ]
    },
    {
      "cell_type": "code",
      "source": [
        "# División de los datos en train y test\n",
        "# ==============================================================================\n",
        "X = datos.drop(columns='fat')\n",
        "y = datos['fat']\n",
        "\n",
        "X_train, X_test, y_train, y_test = train_test_split(\n",
        "                                        X,\n",
        "                                        y.values.reshape(-1,1),\n",
        "                                        train_size   = 0.7,\n",
        "                                        random_state = 1234,\n",
        "                                        shuffle      = True\n",
        "                                    )"
      ],
      "metadata": {
        "id": "iOs2BTTnZDZP"
      },
      "execution_count": 6,
      "outputs": []
    },
    {
      "cell_type": "code",
      "source": [
        "# Creación y entrenamiento del modelo\n",
        "# ==============================================================================\n",
        "modelo = LinearRegression(normalize=True)\n",
        "modelo.fit(X = X_train, y = y_train)"
      ],
      "metadata": {
        "id": "580qDc9lZO-1",
        "outputId": "822b6ab2-e44d-4a44-e772-98a8dfd3ab60",
        "colab": {
          "base_uri": "https://localhost:8080/"
        }
      },
      "execution_count": 7,
      "outputs": [
        {
          "output_type": "execute_result",
          "data": {
            "text/plain": [
              "LinearRegression(normalize=True)"
            ]
          },
          "metadata": {},
          "execution_count": 7
        }
      ]
    },
    {
      "cell_type": "code",
      "source": [
        "# Predicciones test\n",
        "# ==============================================================================\n",
        "predicciones = modelo.predict(X=X_test)\n",
        "predicciones = predicciones.flatten()\n",
        "\n",
        "# Error de test del modelo \n",
        "# ==============================================================================\n",
        "rmse_ols = mean_squared_error(\n",
        "            y_true  = y_test,\n",
        "            y_pred  = predicciones,\n",
        "            squared = False\n",
        "           )\n",
        "print(\"\")\n",
        "print(f\"El error (rmse) de test es: {rmse_ols}\")"
      ],
      "metadata": {
        "id": "iRmZHc3JZRtG",
        "outputId": "6b2ff05b-0dcb-4792-8c07-2958b409806f",
        "colab": {
          "base_uri": "https://localhost:8080/"
        }
      },
      "execution_count": 8,
      "outputs": [
        {
          "output_type": "stream",
          "name": "stdout",
          "text": [
            "\n",
            "El error (rmse) de test es: 3.839667585595677\n"
          ]
        }
      ]
    },
    {
      "cell_type": "code",
      "source": [
        "# Entrenamiento modelo de regresión precedido por PCA con escalado\n",
        "# ==============================================================================\n",
        "pipe_modelado = make_pipeline(StandardScaler(), PCA(), LinearRegression())\n",
        "pipe_modelado.fit(X=X_train, y=y_train)"
      ],
      "metadata": {
        "id": "djcmU_1vZUjH",
        "outputId": "ac4d9fba-00d5-4a78-869e-197b6e8c195e",
        "colab": {
          "base_uri": "https://localhost:8080/"
        }
      },
      "execution_count": 9,
      "outputs": [
        {
          "output_type": "execute_result",
          "data": {
            "text/plain": [
              "Pipeline(steps=[('standardscaler', StandardScaler()), ('pca', PCA()),\n",
              "                ('linearregression', LinearRegression())])"
            ]
          },
          "metadata": {},
          "execution_count": 9
        }
      ]
    },
    {
      "cell_type": "code",
      "source": [
        "pipe_modelado.set_params\n"
      ],
      "metadata": {
        "id": "ZdmaFKEJZbQW",
        "outputId": "533909bc-6c8e-42e3-9738-4735fd0cac28",
        "colab": {
          "base_uri": "https://localhost:8080/"
        }
      },
      "execution_count": 10,
      "outputs": [
        {
          "output_type": "execute_result",
          "data": {
            "text/plain": [
              "<bound method Pipeline.set_params of Pipeline(steps=[('standardscaler', StandardScaler()), ('pca', PCA()),\n",
              "                ('linearregression', LinearRegression())])>"
            ]
          },
          "metadata": {},
          "execution_count": 10
        }
      ]
    },
    {
      "cell_type": "code",
      "source": [
        "# Predicciones test\n",
        "# ==============================================================================\n",
        "predicciones = pipe_modelado.predict(X=X_test)\n",
        "predicciones = predicciones.flatten()\n",
        "\n",
        "# Error de test del modelo \n",
        "# ==============================================================================\n",
        "rmse_pcr = mean_squared_error(\n",
        "            y_true  = y_test,\n",
        "            y_pred  = predicciones,\n",
        "            squared = False\n",
        "           )\n",
        "print(\"\")\n",
        "print(f\"El error (rmse) de test es: {rmse_pcr}\")"
      ],
      "metadata": {
        "id": "A-DMP10_Zebk",
        "outputId": "a36017ec-9f50-4173-ed27-78b9d92dfd75",
        "colab": {
          "base_uri": "https://localhost:8080/"
        }
      },
      "execution_count": 11,
      "outputs": [
        {
          "output_type": "stream",
          "name": "stdout",
          "text": [
            "\n",
            "El error (rmse) de test es: 3.8396675856366214\n"
          ]
        }
      ]
    },
    {
      "cell_type": "code",
      "source": [
        "# Grid de hiperparámetros evaluados\n",
        "# ==============================================================================\n",
        "param_grid = {'pca__n_components': [1, 2, 4, 6, 8, 10, 15, 20, 30, 50]}\n",
        "\n",
        "# Búsqueda por grid search con validación cruzada\n",
        "# ==============================================================================\n",
        "grid = GridSearchCV(\n",
        "        estimator  = pipe_modelado,\n",
        "        param_grid = param_grid,\n",
        "        scoring    = 'neg_root_mean_squared_error',\n",
        "        n_jobs     = multiprocessing.cpu_count() - 1,\n",
        "        cv         = KFold(n_splits=5, random_state=123,shuffle=True), \n",
        "        refit      = True,\n",
        "        verbose    = 0,\n",
        "        return_train_score = True,\n",
        "        \n",
        "       )\n",
        "\n",
        "grid.fit(X = X_train, y = y_train)\n",
        "\n",
        "# Resultados\n",
        "# ==============================================================================\n",
        "resultados = pd.DataFrame(grid.cv_results_)\n",
        "resultados.filter(regex = '(param.*|mean_t|std_t)') \\\n",
        "    .drop(columns = 'params') \\\n",
        "    .sort_values('mean_test_score', ascending = False) \\\n",
        "    .head(3)"
      ],
      "metadata": {
        "id": "biaSMsz1ZlNX",
        "outputId": "9201ee4a-0e3c-4ad4-914b-d9491b368d0c",
        "colab": {
          "base_uri": "https://localhost:8080/",
          "height": 144
        }
      },
      "execution_count": 14,
      "outputs": [
        {
          "output_type": "execute_result",
          "data": {
            "text/plain": [
              "  param_pca__n_components  mean_test_score  std_test_score  mean_train_score  \\\n",
              "8                      30        -2.562054        1.072744         -1.499404   \n",
              "5                      10        -2.825356        0.514680         -2.442293   \n",
              "9                      50        -2.885758        1.029969         -0.985038   \n",
              "\n",
              "   std_train_score  \n",
              "8         0.105063  \n",
              "5         0.134784  \n",
              "9         0.066330  "
            ],
            "text/html": [
              "\n",
              "  <div id=\"df-dcabb7d1-9b31-4a00-b46f-2f1850b67b51\">\n",
              "    <div class=\"colab-df-container\">\n",
              "      <div>\n",
              "<style scoped>\n",
              "    .dataframe tbody tr th:only-of-type {\n",
              "        vertical-align: middle;\n",
              "    }\n",
              "\n",
              "    .dataframe tbody tr th {\n",
              "        vertical-align: top;\n",
              "    }\n",
              "\n",
              "    .dataframe thead th {\n",
              "        text-align: right;\n",
              "    }\n",
              "</style>\n",
              "<table border=\"1\" class=\"dataframe\">\n",
              "  <thead>\n",
              "    <tr style=\"text-align: right;\">\n",
              "      <th></th>\n",
              "      <th>param_pca__n_components</th>\n",
              "      <th>mean_test_score</th>\n",
              "      <th>std_test_score</th>\n",
              "      <th>mean_train_score</th>\n",
              "      <th>std_train_score</th>\n",
              "    </tr>\n",
              "  </thead>\n",
              "  <tbody>\n",
              "    <tr>\n",
              "      <th>8</th>\n",
              "      <td>30</td>\n",
              "      <td>-2.562054</td>\n",
              "      <td>1.072744</td>\n",
              "      <td>-1.499404</td>\n",
              "      <td>0.105063</td>\n",
              "    </tr>\n",
              "    <tr>\n",
              "      <th>5</th>\n",
              "      <td>10</td>\n",
              "      <td>-2.825356</td>\n",
              "      <td>0.514680</td>\n",
              "      <td>-2.442293</td>\n",
              "      <td>0.134784</td>\n",
              "    </tr>\n",
              "    <tr>\n",
              "      <th>9</th>\n",
              "      <td>50</td>\n",
              "      <td>-2.885758</td>\n",
              "      <td>1.029969</td>\n",
              "      <td>-0.985038</td>\n",
              "      <td>0.066330</td>\n",
              "    </tr>\n",
              "  </tbody>\n",
              "</table>\n",
              "</div>\n",
              "      <button class=\"colab-df-convert\" onclick=\"convertToInteractive('df-dcabb7d1-9b31-4a00-b46f-2f1850b67b51')\"\n",
              "              title=\"Convert this dataframe to an interactive table.\"\n",
              "              style=\"display:none;\">\n",
              "        \n",
              "  <svg xmlns=\"http://www.w3.org/2000/svg\" height=\"24px\"viewBox=\"0 0 24 24\"\n",
              "       width=\"24px\">\n",
              "    <path d=\"M0 0h24v24H0V0z\" fill=\"none\"/>\n",
              "    <path d=\"M18.56 5.44l.94 2.06.94-2.06 2.06-.94-2.06-.94-.94-2.06-.94 2.06-2.06.94zm-11 1L8.5 8.5l.94-2.06 2.06-.94-2.06-.94L8.5 2.5l-.94 2.06-2.06.94zm10 10l.94 2.06.94-2.06 2.06-.94-2.06-.94-.94-2.06-.94 2.06-2.06.94z\"/><path d=\"M17.41 7.96l-1.37-1.37c-.4-.4-.92-.59-1.43-.59-.52 0-1.04.2-1.43.59L10.3 9.45l-7.72 7.72c-.78.78-.78 2.05 0 2.83L4 21.41c.39.39.9.59 1.41.59.51 0 1.02-.2 1.41-.59l7.78-7.78 2.81-2.81c.8-.78.8-2.07 0-2.86zM5.41 20L4 18.59l7.72-7.72 1.47 1.35L5.41 20z\"/>\n",
              "  </svg>\n",
              "      </button>\n",
              "      \n",
              "  <style>\n",
              "    .colab-df-container {\n",
              "      display:flex;\n",
              "      flex-wrap:wrap;\n",
              "      gap: 12px;\n",
              "    }\n",
              "\n",
              "    .colab-df-convert {\n",
              "      background-color: #E8F0FE;\n",
              "      border: none;\n",
              "      border-radius: 50%;\n",
              "      cursor: pointer;\n",
              "      display: none;\n",
              "      fill: #1967D2;\n",
              "      height: 32px;\n",
              "      padding: 0 0 0 0;\n",
              "      width: 32px;\n",
              "    }\n",
              "\n",
              "    .colab-df-convert:hover {\n",
              "      background-color: #E2EBFA;\n",
              "      box-shadow: 0px 1px 2px rgba(60, 64, 67, 0.3), 0px 1px 3px 1px rgba(60, 64, 67, 0.15);\n",
              "      fill: #174EA6;\n",
              "    }\n",
              "\n",
              "    [theme=dark] .colab-df-convert {\n",
              "      background-color: #3B4455;\n",
              "      fill: #D2E3FC;\n",
              "    }\n",
              "\n",
              "    [theme=dark] .colab-df-convert:hover {\n",
              "      background-color: #434B5C;\n",
              "      box-shadow: 0px 1px 3px 1px rgba(0, 0, 0, 0.15);\n",
              "      filter: drop-shadow(0px 1px 2px rgba(0, 0, 0, 0.3));\n",
              "      fill: #FFFFFF;\n",
              "    }\n",
              "  </style>\n",
              "\n",
              "      <script>\n",
              "        const buttonEl =\n",
              "          document.querySelector('#df-dcabb7d1-9b31-4a00-b46f-2f1850b67b51 button.colab-df-convert');\n",
              "        buttonEl.style.display =\n",
              "          google.colab.kernel.accessAllowed ? 'block' : 'none';\n",
              "\n",
              "        async function convertToInteractive(key) {\n",
              "          const element = document.querySelector('#df-dcabb7d1-9b31-4a00-b46f-2f1850b67b51');\n",
              "          const dataTable =\n",
              "            await google.colab.kernel.invokeFunction('convertToInteractive',\n",
              "                                                     [key], {});\n",
              "          if (!dataTable) return;\n",
              "\n",
              "          const docLinkHtml = 'Like what you see? Visit the ' +\n",
              "            '<a target=\"_blank\" href=https://colab.research.google.com/notebooks/data_table.ipynb>data table notebook</a>'\n",
              "            + ' to learn more about interactive tables.';\n",
              "          element.innerHTML = '';\n",
              "          dataTable['output_type'] = 'display_data';\n",
              "          await google.colab.output.renderOutput(dataTable, element);\n",
              "          const docLink = document.createElement('div');\n",
              "          docLink.innerHTML = docLinkHtml;\n",
              "          element.appendChild(docLink);\n",
              "        }\n",
              "      </script>\n",
              "    </div>\n",
              "  </div>\n",
              "  "
            ]
          },
          "metadata": {},
          "execution_count": 14
        }
      ]
    },
    {
      "cell_type": "code",
      "source": [
        "# Gráfico resultados validación cruzada para cada hiperparámetro\n",
        "# ==============================================================================\n",
        "fig, ax = plt.subplots(nrows=1, ncols=1, figsize=(7, 3.84), sharey=True)\n",
        "\n",
        "resultados.plot('param_pca__n_components', 'mean_train_score', ax=ax)\n",
        "resultados.plot('param_pca__n_components', 'mean_test_score', ax=ax)\n",
        "ax.fill_between(resultados.param_pca__n_components.astype(np.float),\n",
        "                resultados['mean_train_score'] + resultados['std_train_score'],\n",
        "                resultados['mean_train_score'] - resultados['std_train_score'],\n",
        "                alpha=0.2)\n",
        "ax.fill_between(resultados.param_pca__n_components.astype(np.float),\n",
        "                resultados['mean_test_score'] + resultados['std_test_score'],\n",
        "                resultados['mean_test_score'] - resultados['std_test_score'],\n",
        "                alpha=0.2)\n",
        "ax.legend()\n",
        "ax.set_title('Evolución del error CV')\n",
        "ax.set_ylabel('neg_root_mean_squared_error');"
      ],
      "metadata": {
        "id": "d7XlStTHZ0o3",
        "outputId": "b1a59ba1-18cf-43bd-b12b-7e7ebd270016",
        "colab": {
          "base_uri": "https://localhost:8080/",
          "height": 291
        }
      },
      "execution_count": 15,
      "outputs": [
        {
          "output_type": "display_data",
          "data": {
            "text/plain": [
              "<Figure size 504x276.48 with 1 Axes>"
            ],
            "image/png": "[encoded data removed]"
          },
          "metadata": {}
        }
      ]
    },
    {
      "cell_type": "code",
      "source": [
        "# Mejores hiperparámetros por validación cruzada\n",
        "# ==============================================================================\n",
        "print(\"----------------------------------------\")\n",
        "print(\"Mejores hiperparámetros encontrados (cv)\")\n",
        "print(\"----------------------------------------\")\n",
        "print(grid.best_params_, \":\", grid.best_score_, grid.scoring)"
      ],
      "metadata": {
        "id": "4eUEezrlaao2",
        "outputId": "3f916957-9b86-4e0f-e6cf-8daec2ed98d0",
        "colab": {
          "base_uri": "https://localhost:8080/"
        }
      },
      "execution_count": 16,
      "outputs": [
        {
          "output_type": "stream",
          "name": "stdout",
          "text": [
            "----------------------------------------\n",
            "Mejores hiperparámetros encontrados (cv)\n",
            "----------------------------------------\n",
            "{'pca__n_components': 30} : -2.5620540741068263 neg_root_mean_squared_error\n"
          ]
        }
      ]
    },
    {
      "cell_type": "code",
      "source": [
        "# Entrenamiento modelo de regresión precedido por PCA con escalado\n",
        "# ==============================================================================\n",
        "pipe_modelado = make_pipeline(StandardScaler(), PCA(n_components=5), LinearRegression())\n",
        "pipe_modelado.fit(X=X_train, y=y_train)"
      ],
      "metadata": {
        "id": "LHXN06G_a0X-",
        "outputId": "0957af3a-35ea-4fbd-b482-50643cc8d0f8",
        "colab": {
          "base_uri": "https://localhost:8080/"
        }
      },
      "execution_count": 17,
      "outputs": [
        {
          "output_type": "execute_result",
          "data": {
            "text/plain": [
              "Pipeline(steps=[('standardscaler', StandardScaler()),\n",
              "                ('pca', PCA(n_components=5)),\n",
              "                ('linearregression', LinearRegression())])"
            ]
          },
          "metadata": {},
          "execution_count": 17
        }
      ]
    },
    {
      "cell_type": "code",
      "source": [
        "# Predicciones test\n",
        "# ==============================================================================\n",
        "predicciones = pipe_modelado.predict(X=X_test)\n",
        "predicciones = predicciones.flatten()\n",
        "\n",
        "# Error de test del modelo \n",
        "# ==============================================================================\n",
        "rmse_pcr = mean_squared_error(\n",
        "            y_true  = y_test,\n",
        "            y_pred  = predicciones,\n",
        "            squared = False\n",
        "           )\n",
        "print(\"\")\n",
        "print(f\"El error (rmse) de test es: {rmse_pcr}\")"
      ],
      "metadata": {
        "id": "fkNnq7yLa2se",
        "outputId": "c41ba845-04d8-4402-f564-1a9c30235712",
        "colab": {
          "base_uri": "https://localhost:8080/"
        }
      },
      "execution_count": 18,
      "outputs": [
        {
          "output_type": "stream",
          "name": "stdout",
          "text": [
            "\n",
            "El error (rmse) de test es: 3.359334804522669\n"
          ]
        }
      ]
    },
    {
      "cell_type": "code",
      "source": [],
      "metadata": {
        "id": "lrMtimrJa5EH"
      },
      "execution_count": null,
      "outputs": []
    }
  ]
}