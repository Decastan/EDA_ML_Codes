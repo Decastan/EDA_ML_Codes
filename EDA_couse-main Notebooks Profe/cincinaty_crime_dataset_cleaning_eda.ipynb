{
  "cells": [
    {
      "cell_type": "markdown",
      "metadata": {
        "id": "view-in-github",
        "colab_type": "text"
      },
      "source": [
        "<a href=\"https://colab.research.google.com/github/armandoordonez/eda/blob/main/cincinaty_crime_dataset_cleaning_eda.ipynb\" target=\"_parent\"><img src=\"https://colab.research.google.com/assets/colab-badge.svg\" alt=\"Open In Colab\"/></a>"
      ]
    },
    {
      "metadata": {
        "_uuid": "8f2839f25d086af736a60e9eeb907d3b93b6e0e5",
        "_cell_guid": "b1076dfc-b9ad-4769-8c92-a6c4dae69d19",
        "trusted": true,
        "colab": {
          "base_uri": "https://localhost:8080/"
        },
        "id": "HfILQKtqNHfU",
        "outputId": "48e838fa-c616-4fa7-cdc2-2996bfb9ce9f"
      },
      "cell_type": "code",
      "source": [
        "from google.colab import drive\n",
        "drive.mount('/content/drive')"
      ],
      "execution_count": 1,
      "outputs": [
        {
          "output_type": "stream",
          "name": "stdout",
          "text": [
            "Mounted at /content/drive\n"
          ]
        }
      ]
    },
    {
      "cell_type": "code",
      "source": [
        "import pandas as pd\n",
        "import numpy as np\n",
        "import random as rnd\n",
        "\n",
        "import seaborn as sns\n",
        "import matplotlib.pyplot as plt\n",
        "%matplotlib inline\n",
        "\n",
        "# https://data.cincinnati-oh.gov/safety/PDI-Police-Data-Initiative-Crime-Incidents/k59e-2pvf/data"
      ],
      "metadata": {
        "id": "2L5pFcGBYKYE"
      },
      "execution_count": 2,
      "outputs": []
    },
    {
      "cell_type": "code",
      "source": [
        "# set up dict of dtypes\n",
        "dtypes = {'INSTANCEID': object,'INCIDENT_NO': object,'DATE_REPORTED': object,'DATE_FROM': object,'DATE_TO': object,\n",
        "         'CLSD': object,'UCR': object,'DST': object,'BEAT': object,'OFFENSE': str,\n",
        "         'LOCATION': object,'THEFT_CODE': object,'FLOOR': object,'SIDE': object,\n",
        "         'OPENING': object,'HATE_BIAS': object,'DAYOFWEEK' : object,\n",
        "         'RPT_AREA': object,'CPD_NEIGHBORHOOD': object,'WEAPONS': object,'DATE_OF_CLEARANCE': object,'HOUR_FROM': object,'HOUR_TO': object,'ADDRESS_X': object,'LONGITUDE_X': object,\n",
        "         'LATITUDE_X': object,'VICTIM_AGE': object,'VICTIM_RACE': object,'VICTIM_ETNICITY': object,'VICTIM_GENDER': object,'SUSPECT_AGE': object,'SUSPECT_RACE': object,'SUSPECT_ETNICITY': object,'SUSPECT_GENDER': object,'TOTALNUMBERVICTIMS': object,'TOTALSUSPECTS': object,'UCR_GROUP': object,'ZIP': object,'COM_COUNCIL_NEIGHBORHOOD': object,'SNA_NEIGHBORHOOD':object}\n",
        "\n",
        "# set up column names\n",
        "colnames = ['INSTANCEID','INCIDENT_NO','DATE_REPORTED','DATE_FROM','DATE_TO',\n",
        "            'CLSD','UCR','DST','BEAT','OFFENSE','LOCATION','THEFT_CODE','FLOOR','SIDE','OPENING','HATE_BIAS','DAYOFWEEK'\n",
        "            ,'RPT_AREA','CPD_NEIGHBORHOOD','WEAPONS','DATE_OF_CLEARANCE','HOUR_FROM','HOUR_TO','ADDRESS_X','LONGITUDE_X'\n",
        "            ,'LATITUDE_X','VICTIM_AGE','VICTIM_RACE','VICTIM_ETNICITY','VICTIM_GENDER','SUSPECT_AGE','SUSPECT_RACE','SUSPECT_ETNICITY','SUSPECT_GENDER','TOTALNUMBERVICTIMS','TOTALSUSPECTS','UCR_GROUP','ZIP','COM_COUNCIL_NEIGHBORHOOD','SNA_NEIGHBORHOOD']\n",
        "\n",
        "len(colnames)"
      ],
      "metadata": {
        "colab": {
          "base_uri": "https://localhost:8080/"
        },
        "id": "k9UWPrGfb0p_",
        "outputId": "23801816-1a30-4af0-cb5e-fd21adf9275e"
      },
      "execution_count": 6,
      "outputs": [
        {
          "output_type": "execute_result",
          "data": {
            "text/plain": [
              "40"
            ]
          },
          "metadata": {},
          "execution_count": 6
        }
      ]
    },
    {
      "metadata": {
        "_uuid": "d629ff2d2480ee46fbb7e2d37f6b5fab8052498a",
        "_cell_guid": "79c7e3d0-c299-4dcb-8224-4455121ee9b0",
        "trusted": true,
        "colab": {
          "base_uri": "https://localhost:8080/",
          "height": 543
        },
        "id": "_B4OSf-GNHfX",
        "outputId": "9bc9a924-1d9e-448c-f032-91225131f7c7"
      },
      "cell_type": "code",
      "source": [
        "# set limit of the records to retrieve\n",
        "srow = 1\n",
        "nrows = 10\n",
        "\n",
        "df = pd.read_csv('/content/drive/MyDrive/eda/Crime_Incidents.csv', skiprows=srow, nrows=nrows, header=None,names=colnames, dtype=dtypes)\n",
        "df.head(5)\n"
      ],
      "execution_count": 7,
      "outputs": [
        {
          "output_type": "execute_result",
          "data": {
            "text/plain": [
              "                             INSTANCEID INCIDENT_NO           DATE_REPORTED  \\\n",
              "0  BD851313-FD57-40B5-B7D9-67CFF1084FDE   229028734  10/26/2022 02:47:00 PM   \n",
              "1  A2BB5A67-689A-45CE-A6D6-2E1D9633DE80   229028729  10/26/2022 02:35:49 PM   \n",
              "2  FF5106AF-F260-419F-83E7-0E9142096653   229028730  10/26/2022 02:18:00 PM   \n",
              "3  83943E8F-4056-4748-A2E6-35DA2A4DCA69   229028728  10/26/2022 02:04:00 PM   \n",
              "4  C47D556E-1B77-4221-B65A-9E22A1110351   229028747  10/26/2022 02:00:00 PM   \n",
              "\n",
              "                DATE_FROM                 DATE_TO  \\\n",
              "0  07/01/2022 12:00:00 AM  10/26/2022 02:15:00 PM   \n",
              "1  10/26/2022 01:54:00 PM  10/26/2022 02:10:00 PM   \n",
              "2  10/26/2022 02:15:00 PM  10/26/2022 02:16:00 PM   \n",
              "3  10/25/2022 12:00:00 AM  10/25/2022 01:00:00 PM   \n",
              "4  10/26/2022 01:00:00 PM  10/26/2022 01:23:00 PM   \n",
              "\n",
              "                           CLSD  UCR               DST BEAT  \\\n",
              "0                           NaN  600                 4    5   \n",
              "1  F--CLEARED BY ARREST - ADULT  600                 3    3   \n",
              "2  F--CLEARED BY ARREST - ADULT  301  CENTRAL BUSINESS    1   \n",
              "3      I--INVESTIGATION PENDING  552                 4    3   \n",
              "4      I--INVESTIGATION PENDING  600                 1    2   \n",
              "\n",
              "                 OFFENSE  ... SUSPECT_AGE SUSPECT_RACE      SUSPECT_ETNICITY  \\\n",
              "0                  THEFT  ...     UNKNOWN          NaN                   NaN   \n",
              "1                  THEFT  ...     UNKNOWN          NaN                   NaN   \n",
              "2                ROBBERY  ...     UNKNOWN          NaN                   NaN   \n",
              "3  BREAKING AND ENTERING  ...     UNKNOWN      UNKNOWN               UNKNOWN   \n",
              "4                  THEFT  ...     UNKNOWN        BLACK  NOT OF HISPANIC ORIG   \n",
              "\n",
              "  SUSPECT_GENDER TOTALNUMBERVICTIMS TOTALSUSPECTS                   UCR_GROUP  \\\n",
              "0            NaN                  1           NaN                       THEFT   \n",
              "1            NaN                  1           NaN                       THEFT   \n",
              "2            NaN                  1           NaN                     ROBBERY   \n",
              "3        UNKNOWN                  1             1  BURGLARY/BREAKING ENTERING   \n",
              "4           MALE                  1             1                       THEFT   \n",
              "\n",
              "     ZIP COM_COUNCIL_NEIGHBORHOOD SNA_NEIGHBORHOOD  \n",
              "0  45237                BOND HILL        BOND HILL  \n",
              "1  45211                 WESTWOOD         WESTWOOD  \n",
              "2  45202                      NaN              NaN  \n",
              "3  45219                 AVONDALE         AVONDALE  \n",
              "4  45202                PENDLETON        PENDLETON  \n",
              "\n",
              "[5 rows x 40 columns]"
            ],
            "text/html": [
              "\n",
              "  <div id=\"df-19010ae0-5748-4011-8a43-9b933a54eac0\">\n",
              "    <div class=\"colab-df-container\">\n",
              "      <div>\n",
              "<style scoped>\n",
              "    .dataframe tbody tr th:only-of-type {\n",
              "        vertical-align: middle;\n",
              "    }\n",
              "\n",
              "    .dataframe tbody tr th {\n",
              "        vertical-align: top;\n",
              "    }\n",
              "\n",
              "    .dataframe thead th {\n",
              "        text-align: right;\n",
              "    }\n",
              "</style>\n",
              "<table border=\"1\" class=\"dataframe\">\n",
              "  <thead>\n",
              "    <tr style=\"text-align: right;\">\n",
              "      <th></th>\n",
              "      <th>INSTANCEID</th>\n",
              "      <th>INCIDENT_NO</th>\n",
              "      <th>DATE_REPORTED</th>\n",
              "      <th>DATE_FROM</th>\n",
              "      <th>DATE_TO</th>\n",
              "      <th>CLSD</th>\n",
              "      <th>UCR</th>\n",
              "      <th>DST</th>\n",
              "      <th>BEAT</th>\n",
              "      <th>OFFENSE</th>\n",
              "      <th>...</th>\n",
              "      <th>SUSPECT_AGE</th>\n",
              "      <th>SUSPECT_RACE</th>\n",
              "      <th>SUSPECT_ETNICITY</th>\n",
              "      <th>SUSPECT_GENDER</th>\n",
              "      <th>TOTALNUMBERVICTIMS</th>\n",
              "      <th>TOTALSUSPECTS</th>\n",
              "      <th>UCR_GROUP</th>\n",
              "      <th>ZIP</th>\n",
              "      <th>COM_COUNCIL_NEIGHBORHOOD</th>\n",
              "      <th>SNA_NEIGHBORHOOD</th>\n",
              "    </tr>\n",
              "  </thead>\n",
              "  <tbody>\n",
              "    <tr>\n",
              "      <th>0</th>\n",
              "      <td>BD851313-FD57-40B5-B7D9-67CFF1084FDE</td>\n",
              "      <td>229028734</td>\n",
              "      <td>10/26/2022 02:47:00 PM</td>\n",
              "      <td>07/01/2022 12:00:00 AM</td>\n",
              "      <td>10/26/2022 02:15:00 PM</td>\n",
              "      <td>NaN</td>\n",
              "      <td>600</td>\n",
              "      <td>4</td>\n",
              "      <td>5</td>\n",
              "      <td>THEFT</td>\n",
              "      <td>...</td>\n",
              "      <td>UNKNOWN</td>\n",
              "      <td>NaN</td>\n",
              "      <td>NaN</td>\n",
              "      <td>NaN</td>\n",
              "      <td>1</td>\n",
              "      <td>NaN</td>\n",
              "      <td>THEFT</td>\n",
              "      <td>45237</td>\n",
              "      <td>BOND HILL</td>\n",
              "      <td>BOND HILL</td>\n",
              "    </tr>\n",
              "    <tr>\n",
              "      <th>1</th>\n",
              "      <td>A2BB5A67-689A-45CE-A6D6-2E1D9633DE80</td>\n",
              "      <td>229028729</td>\n",
              "      <td>10/26/2022 02:35:49 PM</td>\n",
              "      <td>10/26/2022 01:54:00 PM</td>\n",
              "      <td>10/26/2022 02:10:00 PM</td>\n",
              "      <td>F--CLEARED BY ARREST - ADULT</td>\n",
              "      <td>600</td>\n",
              "      <td>3</td>\n",
              "      <td>3</td>\n",
              "      <td>THEFT</td>\n",
              "      <td>...</td>\n",
              "      <td>UNKNOWN</td>\n",
              "      <td>NaN</td>\n",
              "      <td>NaN</td>\n",
              "      <td>NaN</td>\n",
              "      <td>1</td>\n",
              "      <td>NaN</td>\n",
              "      <td>THEFT</td>\n",
              "      <td>45211</td>\n",
              "      <td>WESTWOOD</td>\n",
              "      <td>WESTWOOD</td>\n",
              "    </tr>\n",
              "    <tr>\n",
              "      <th>2</th>\n",
              "      <td>FF5106AF-F260-419F-83E7-0E9142096653</td>\n",
              "      <td>229028730</td>\n",
              "      <td>10/26/2022 02:18:00 PM</td>\n",
              "      <td>10/26/2022 02:15:00 PM</td>\n",
              "      <td>10/26/2022 02:16:00 PM</td>\n",
              "      <td>F--CLEARED BY ARREST - ADULT</td>\n",
              "      <td>301</td>\n",
              "      <td>CENTRAL BUSINESS</td>\n",
              "      <td>1</td>\n",
              "      <td>ROBBERY</td>\n",
              "      <td>...</td>\n",
              "      <td>UNKNOWN</td>\n",
              "      <td>NaN</td>\n",
              "      <td>NaN</td>\n",
              "      <td>NaN</td>\n",
              "      <td>1</td>\n",
              "      <td>NaN</td>\n",
              "      <td>ROBBERY</td>\n",
              "      <td>45202</td>\n",
              "      <td>NaN</td>\n",
              "      <td>NaN</td>\n",
              "    </tr>\n",
              "    <tr>\n",
              "      <th>3</th>\n",
              "      <td>83943E8F-4056-4748-A2E6-35DA2A4DCA69</td>\n",
              "      <td>229028728</td>\n",
              "      <td>10/26/2022 02:04:00 PM</td>\n",
              "      <td>10/25/2022 12:00:00 AM</td>\n",
              "      <td>10/25/2022 01:00:00 PM</td>\n",
              "      <td>I--INVESTIGATION PENDING</td>\n",
              "      <td>552</td>\n",
              "      <td>4</td>\n",
              "      <td>3</td>\n",
              "      <td>BREAKING AND ENTERING</td>\n",
              "      <td>...</td>\n",
              "      <td>UNKNOWN</td>\n",
              "      <td>UNKNOWN</td>\n",
              "      <td>UNKNOWN</td>\n",
              "      <td>UNKNOWN</td>\n",
              "      <td>1</td>\n",
              "      <td>1</td>\n",
              "      <td>BURGLARY/BREAKING ENTERING</td>\n",
              "      <td>45219</td>\n",
              "      <td>AVONDALE</td>\n",
              "      <td>AVONDALE</td>\n",
              "    </tr>\n",
              "    <tr>\n",
              "      <th>4</th>\n",
              "      <td>C47D556E-1B77-4221-B65A-9E22A1110351</td>\n",
              "      <td>229028747</td>\n",
              "      <td>10/26/2022 02:00:00 PM</td>\n",
              "      <td>10/26/2022 01:00:00 PM</td>\n",
              "      <td>10/26/2022 01:23:00 PM</td>\n",
              "      <td>I--INVESTIGATION PENDING</td>\n",
              "      <td>600</td>\n",
              "      <td>1</td>\n",
              "      <td>2</td>\n",
              "      <td>THEFT</td>\n",
              "      <td>...</td>\n",
              "      <td>UNKNOWN</td>\n",
              "      <td>BLACK</td>\n",
              "      <td>NOT OF HISPANIC ORIG</td>\n",
              "      <td>MALE</td>\n",
              "      <td>1</td>\n",
              "      <td>1</td>\n",
              "      <td>THEFT</td>\n",
              "      <td>45202</td>\n",
              "      <td>PENDLETON</td>\n",
              "      <td>PENDLETON</td>\n",
              "    </tr>\n",
              "  </tbody>\n",
              "</table>\n",
              "<p>5 rows × 40 columns</p>\n",
              "</div>\n",
              "      <button class=\"colab-df-convert\" onclick=\"convertToInteractive('df-19010ae0-5748-4011-8a43-9b933a54eac0')\"\n",
              "              title=\"Convert this dataframe to an interactive table.\"\n",
              "              style=\"display:none;\">\n",
              "        \n",
              "  <svg xmlns=\"http://www.w3.org/2000/svg\" height=\"24px\"viewBox=\"0 0 24 24\"\n",
              "       width=\"24px\">\n",
              "    <path d=\"M0 0h24v24H0V0z\" fill=\"none\"/>\n",
              "    <path d=\"M18.56 5.44l.94 2.06.94-2.06 2.06-.94-2.06-.94-.94-2.06-.94 2.06-2.06.94zm-11 1L8.5 8.5l.94-2.06 2.06-.94-2.06-.94L8.5 2.5l-.94 2.06-2.06.94zm10 10l.94 2.06.94-2.06 2.06-.94-2.06-.94-.94-2.06-.94 2.06-2.06.94z\"/><path d=\"M17.41 7.96l-1.37-1.37c-.4-.4-.92-.59-1.43-.59-.52 0-1.04.2-1.43.59L10.3 9.45l-7.72 7.72c-.78.78-.78 2.05 0 2.83L4 21.41c.39.39.9.59 1.41.59.51 0 1.02-.2 1.41-.59l7.78-7.78 2.81-2.81c.8-.78.8-2.07 0-2.86zM5.41 20L4 18.59l7.72-7.72 1.47 1.35L5.41 20z\"/>\n",
              "  </svg>\n",
              "      </button>\n",
              "      \n",
              "  <style>\n",
              "    .colab-df-container {\n",
              "      display:flex;\n",
              "      flex-wrap:wrap;\n",
              "      gap: 12px;\n",
              "    }\n",
              "\n",
              "    .colab-df-convert {\n",
              "      background-color: #E8F0FE;\n",
              "      border: none;\n",
              "      border-radius: 50%;\n",
              "      cursor: pointer;\n",
              "      display: none;\n",
              "      fill: #1967D2;\n",
              "      height: 32px;\n",
              "      padding: 0 0 0 0;\n",
              "      width: 32px;\n",
              "    }\n",
              "\n",
              "    .colab-df-convert:hover {\n",
              "      background-color: #E2EBFA;\n",
              "      box-shadow: 0px 1px 2px rgba(60, 64, 67, 0.3), 0px 1px 3px 1px rgba(60, 64, 67, 0.15);\n",
              "      fill: #174EA6;\n",
              "    }\n",
              "\n",
              "    [theme=dark] .colab-df-convert {\n",
              "      background-color: #3B4455;\n",
              "      fill: #D2E3FC;\n",
              "    }\n",
              "\n",
              "    [theme=dark] .colab-df-convert:hover {\n",
              "      background-color: #434B5C;\n",
              "      box-shadow: 0px 1px 3px 1px rgba(0, 0, 0, 0.15);\n",
              "      filter: drop-shadow(0px 1px 2px rgba(0, 0, 0, 0.3));\n",
              "      fill: #FFFFFF;\n",
              "    }\n",
              "  </style>\n",
              "\n",
              "      <script>\n",
              "        const buttonEl =\n",
              "          document.querySelector('#df-19010ae0-5748-4011-8a43-9b933a54eac0 button.colab-df-convert');\n",
              "        buttonEl.style.display =\n",
              "          google.colab.kernel.accessAllowed ? 'block' : 'none';\n",
              "\n",
              "        async function convertToInteractive(key) {\n",
              "          const element = document.querySelector('#df-19010ae0-5748-4011-8a43-9b933a54eac0');\n",
              "          const dataTable =\n",
              "            await google.colab.kernel.invokeFunction('convertToInteractive',\n",
              "                                                     [key], {});\n",
              "          if (!dataTable) return;\n",
              "\n",
              "          const docLinkHtml = 'Like what you see? Visit the ' +\n",
              "            '<a target=\"_blank\" href=https://colab.research.google.com/notebooks/data_table.ipynb>data table notebook</a>'\n",
              "            + ' to learn more about interactive tables.';\n",
              "          element.innerHTML = '';\n",
              "          dataTable['output_type'] = 'display_data';\n",
              "          await google.colab.output.renderOutput(dataTable, element);\n",
              "          const docLink = document.createElement('div');\n",
              "          docLink.innerHTML = docLinkHtml;\n",
              "          element.appendChild(docLink);\n",
              "        }\n",
              "      </script>\n",
              "    </div>\n",
              "  </div>\n",
              "  "
            ]
          },
          "metadata": {},
          "execution_count": 7
        }
      ]
    },
    {
      "metadata": {
        "trusted": true,
        "colab": {
          "base_uri": "https://localhost:8080/"
        },
        "id": "82gZSRqtNHfX",
        "outputId": "4768dc9c-0841-4cde-aa23-4fb6dc362811"
      },
      "cell_type": "code",
      "source": [
        "df.dtypes"
      ],
      "execution_count": 9,
      "outputs": [
        {
          "output_type": "execute_result",
          "data": {
            "text/plain": [
              "INSTANCEID                  object\n",
              "INCIDENT_NO                 object\n",
              "DATE_REPORTED               object\n",
              "DATE_FROM                   object\n",
              "DATE_TO                     object\n",
              "CLSD                        object\n",
              "UCR                         object\n",
              "DST                         object\n",
              "BEAT                        object\n",
              "OFFENSE                     object\n",
              "LOCATION                    object\n",
              "THEFT_CODE                  object\n",
              "FLOOR                       object\n",
              "SIDE                        object\n",
              "OPENING                     object\n",
              "HATE_BIAS                   object\n",
              "DAYOFWEEK                   object\n",
              "RPT_AREA                    object\n",
              "CPD_NEIGHBORHOOD            object\n",
              "WEAPONS                     object\n",
              "DATE_OF_CLEARANCE           object\n",
              "HOUR_FROM                   object\n",
              "HOUR_TO                     object\n",
              "ADDRESS_X                   object\n",
              "LONGITUDE_X                 object\n",
              "LATITUDE_X                  object\n",
              "VICTIM_AGE                  object\n",
              "VICTIM_RACE                 object\n",
              "VICTIM_ETNICITY             object\n",
              "VICTIM_GENDER               object\n",
              "SUSPECT_AGE                 object\n",
              "SUSPECT_RACE                object\n",
              "SUSPECT_ETNICITY            object\n",
              "SUSPECT_GENDER              object\n",
              "TOTALNUMBERVICTIMS          object\n",
              "TOTALSUSPECTS               object\n",
              "UCR_GROUP                   object\n",
              "ZIP                         object\n",
              "COM_COUNCIL_NEIGHBORHOOD    object\n",
              "SNA_NEIGHBORHOOD            object\n",
              "dtype: object"
            ]
          },
          "metadata": {},
          "execution_count": 9
        }
      ]
    },
    {
      "cell_type": "code",
      "source": [],
      "metadata": {
        "colab": {
          "base_uri": "https://localhost:8080/"
        },
        "id": "ZnD8YJroZWP8",
        "outputId": "14fb3072-ce00-4d0a-bc0b-f28fedff8015"
      },
      "execution_count": 5,
      "outputs": [
        {
          "output_type": "stream",
          "name": "stdout",
          "text": [
            "Mounted at /content/drive\n"
          ]
        }
      ]
    },
    {
      "cell_type": "code",
      "source": [],
      "metadata": {
        "id": "okkJK3SUYGW8"
      },
      "execution_count": null,
      "outputs": []
    },
    {
      "metadata": {
        "trusted": true,
        "id": "r2RVcysvNHfX",
        "outputId": "262ed258-7675-4e70-b452-f181668deeb6"
      },
      "cell_type": "code",
      "source": [
        "raw_data.info()"
      ],
      "execution_count": null,
      "outputs": [
        {
          "output_type": "stream",
          "text": "<class 'pandas.core.frame.DataFrame'>\nRangeIndex: 7125756 entries, 0 to 7125755\nData columns (total 22 columns):\n #   Column                Dtype  \n---  ------                -----  \n 0   ID                    int64  \n 1   Case Number           object \n 2   Date                  object \n 3   Block                 object \n 4   IUCR                  object \n 5   Primary Type          object \n 6   Description           object \n 7   Location Description  object \n 8   Arrest                bool   \n 9   Domestic              bool   \n 10  Beat                  int64  \n 11  District              float64\n 12  Ward                  float64\n 13  Community Area        float64\n 14  FBI Code              object \n 15  X Coordinate          float64\n 16  Y Coordinate          float64\n 17  Year                  int64  \n 18  Updated On            object \n 19  Latitude              float64\n 20  Longitude             float64\n 21  Location              object \ndtypes: bool(2), float64(7), int64(3), object(10)\nmemory usage: 1.1+ GB\n",
          "name": "stdout"
        }
      ]
    },
    {
      "metadata": {
        "id": "z_sM1-F3NHfY"
      },
      "cell_type": "markdown",
      "source": [
        "Dropping columns with no bearing to crime and beat:"
      ]
    },
    {
      "metadata": {
        "trusted": true,
        "id": "6iObKdCwNHfY"
      },
      "cell_type": "code",
      "source": [
        "raw_data = raw_data.drop(['ID', 'Case Number', 'Date', 'IUCR', 'X Coordinate', 'Y Coordinate', 'Updated On','Latitude', 'Longitude', 'Location'], axis = 1)"
      ],
      "execution_count": null,
      "outputs": []
    },
    {
      "metadata": {
        "trusted": true,
        "id": "uU_xlApxNHfZ",
        "outputId": "19b37313-26d1-4fd0-d0b0-313a6266bac5"
      },
      "cell_type": "code",
      "source": [
        "raw_data.head()"
      ],
      "execution_count": null,
      "outputs": [
        {
          "output_type": "execute_result",
          "execution_count": 54,
          "data": {
            "text/plain": "                  Block         Primary Type  \\\n0       016XX E 86TH PL   DECEPTIVE PRACTICE   \n1    092XX S RACINE AVE  CRIM SEXUAL ASSAULT   \n2       026XX W 79TH ST             BURGLARY   \n3  060XX S EBERHART AVE                THEFT   \n4   001XX W RANDOLPH ST  CRIM SEXUAL ASSAULT   \n\n                           Description Location Description  Arrest  Domestic  \\\n0  FINANCIAL IDENTITY THEFT OVER $ 300            RESIDENCE   False     False   \n1                       NON-AGGRAVATED            RESIDENCE   False     False   \n2                       UNLAWFUL ENTRY                OTHER   False     False   \n3                            OVER $500            RESIDENCE   False     False   \n4                       NON-AGGRAVATED          HOTEL/MOTEL   False     False   \n\n   Beat  District  Ward  Community Area FBI Code  Year              Updated On  \n0   412       4.0   8.0            45.0       11  2001  08/05/2017 03:50:08 PM  \n1  2222      22.0  21.0            73.0       02  2017  02/11/2018 03:57:41 PM  \n2   835       8.0  18.0            70.0       05  2017  02/11/2018 03:57:41 PM  \n3   313       3.0  20.0            42.0       06  2017  02/11/2018 03:57:41 PM  \n4   122       1.0  42.0            32.0       02  2017  02/11/2018 03:57:41 PM  ",
            "text/html": "<div>\n<style scoped>\n    .dataframe tbody tr th:only-of-type {\n        vertical-align: middle;\n    }\n\n    .dataframe tbody tr th {\n        vertical-align: top;\n    }\n\n    .dataframe thead th {\n        text-align: right;\n    }\n</style>\n<table border=\"1\" class=\"dataframe\">\n  <thead>\n    <tr style=\"text-align: right;\">\n      <th></th>\n      <th>Block</th>\n      <th>Primary Type</th>\n      <th>Description</th>\n      <th>Location Description</th>\n      <th>Arrest</th>\n      <th>Domestic</th>\n      <th>Beat</th>\n      <th>District</th>\n      <th>Ward</th>\n      <th>Community Area</th>\n      <th>FBI Code</th>\n      <th>Year</th>\n      <th>Updated On</th>\n    </tr>\n  </thead>\n  <tbody>\n    <tr>\n      <th>0</th>\n      <td>016XX E 86TH PL</td>\n      <td>DECEPTIVE PRACTICE</td>\n      <td>FINANCIAL IDENTITY THEFT OVER $ 300</td>\n      <td>RESIDENCE</td>\n      <td>False</td>\n      <td>False</td>\n      <td>412</td>\n      <td>4.0</td>\n      <td>8.0</td>\n      <td>45.0</td>\n      <td>11</td>\n      <td>2001</td>\n      <td>08/05/2017 03:50:08 PM</td>\n    </tr>\n    <tr>\n      <th>1</th>\n      <td>092XX S RACINE AVE</td>\n      <td>CRIM SEXUAL ASSAULT</td>\n      <td>NON-AGGRAVATED</td>\n      <td>RESIDENCE</td>\n      <td>False</td>\n      <td>False</td>\n      <td>2222</td>\n      <td>22.0</td>\n      <td>21.0</td>\n      <td>73.0</td>\n      <td>02</td>\n      <td>2017</td>\n      <td>02/11/2018 03:57:41 PM</td>\n    </tr>\n    <tr>\n      <th>2</th>\n      <td>026XX W 79TH ST</td>\n      <td>BURGLARY</td>\n      <td>UNLAWFUL ENTRY</td>\n      <td>OTHER</td>\n      <td>False</td>\n      <td>False</td>\n      <td>835</td>\n      <td>8.0</td>\n      <td>18.0</td>\n      <td>70.0</td>\n      <td>05</td>\n      <td>2017</td>\n      <td>02/11/2018 03:57:41 PM</td>\n    </tr>\n    <tr>\n      <th>3</th>\n      <td>060XX S EBERHART AVE</td>\n      <td>THEFT</td>\n      <td>OVER $500</td>\n      <td>RESIDENCE</td>\n      <td>False</td>\n      <td>False</td>\n      <td>313</td>\n      <td>3.0</td>\n      <td>20.0</td>\n      <td>42.0</td>\n      <td>06</td>\n      <td>2017</td>\n      <td>02/11/2018 03:57:41 PM</td>\n    </tr>\n    <tr>\n      <th>4</th>\n      <td>001XX W RANDOLPH ST</td>\n      <td>CRIM SEXUAL ASSAULT</td>\n      <td>NON-AGGRAVATED</td>\n      <td>HOTEL/MOTEL</td>\n      <td>False</td>\n      <td>False</td>\n      <td>122</td>\n      <td>1.0</td>\n      <td>42.0</td>\n      <td>32.0</td>\n      <td>02</td>\n      <td>2017</td>\n      <td>02/11/2018 03:57:41 PM</td>\n    </tr>\n  </tbody>\n</table>\n</div>"
          },
          "metadata": {}
        }
      ]
    },
    {
      "metadata": {
        "trusted": true,
        "id": "jd9sbBjSNHfa",
        "outputId": "bdaa121b-64ff-40ad-b5fe-93b6572a1b47"
      },
      "cell_type": "code",
      "source": [
        "raw_data.describe()"
      ],
      "execution_count": null,
      "outputs": [
        {
          "output_type": "execute_result",
          "execution_count": 55,
          "data": {
            "text/plain": "               Beat      District          Ward  Community Area          Year\ncount  7.125756e+06  7.125709e+06  6.510929e+06    6.512271e+06  7.125756e+06\nmean   1.189106e+03  1.129553e+01  2.271014e+01    3.755007e+01  2.008891e+03\nstd    7.031086e+02  6.946027e+00  1.383451e+01    2.153572e+01  5.439426e+00\nmin    1.110000e+02  1.000000e+00  1.000000e+00    0.000000e+00  2.001000e+03\n25%    6.220000e+02  6.000000e+00  1.000000e+01    2.300000e+01  2.004000e+03\n50%    1.111000e+03  1.000000e+01  2.200000e+01    3.200000e+01  2.008000e+03\n75%    1.731000e+03  1.700000e+01  3.400000e+01    5.700000e+01  2.013000e+03\nmax    2.535000e+03  3.100000e+01  5.000000e+01    7.700000e+01  2.020000e+03",
            "text/html": "<div>\n<style scoped>\n    .dataframe tbody tr th:only-of-type {\n        vertical-align: middle;\n    }\n\n    .dataframe tbody tr th {\n        vertical-align: top;\n    }\n\n    .dataframe thead th {\n        text-align: right;\n    }\n</style>\n<table border=\"1\" class=\"dataframe\">\n  <thead>\n    <tr style=\"text-align: right;\">\n      <th></th>\n      <th>Beat</th>\n      <th>District</th>\n      <th>Ward</th>\n      <th>Community Area</th>\n      <th>Year</th>\n    </tr>\n  </thead>\n  <tbody>\n    <tr>\n      <th>count</th>\n      <td>7.125756e+06</td>\n      <td>7.125709e+06</td>\n      <td>6.510929e+06</td>\n      <td>6.512271e+06</td>\n      <td>7.125756e+06</td>\n    </tr>\n    <tr>\n      <th>mean</th>\n      <td>1.189106e+03</td>\n      <td>1.129553e+01</td>\n      <td>2.271014e+01</td>\n      <td>3.755007e+01</td>\n      <td>2.008891e+03</td>\n    </tr>\n    <tr>\n      <th>std</th>\n      <td>7.031086e+02</td>\n      <td>6.946027e+00</td>\n      <td>1.383451e+01</td>\n      <td>2.153572e+01</td>\n      <td>5.439426e+00</td>\n    </tr>\n    <tr>\n      <th>min</th>\n      <td>1.110000e+02</td>\n      <td>1.000000e+00</td>\n      <td>1.000000e+00</td>\n      <td>0.000000e+00</td>\n      <td>2.001000e+03</td>\n    </tr>\n    <tr>\n      <th>25%</th>\n      <td>6.220000e+02</td>\n      <td>6.000000e+00</td>\n      <td>1.000000e+01</td>\n      <td>2.300000e+01</td>\n      <td>2.004000e+03</td>\n    </tr>\n    <tr>\n      <th>50%</th>\n      <td>1.111000e+03</td>\n      <td>1.000000e+01</td>\n      <td>2.200000e+01</td>\n      <td>3.200000e+01</td>\n      <td>2.008000e+03</td>\n    </tr>\n    <tr>\n      <th>75%</th>\n      <td>1.731000e+03</td>\n      <td>1.700000e+01</td>\n      <td>3.400000e+01</td>\n      <td>5.700000e+01</td>\n      <td>2.013000e+03</td>\n    </tr>\n    <tr>\n      <th>max</th>\n      <td>2.535000e+03</td>\n      <td>3.100000e+01</td>\n      <td>5.000000e+01</td>\n      <td>7.700000e+01</td>\n      <td>2.020000e+03</td>\n    </tr>\n  </tbody>\n</table>\n</div>"
          },
          "metadata": {}
        }
      ]
    },
    {
      "metadata": {
        "trusted": true,
        "id": "0_1F8sIXNHfb",
        "outputId": "06a0e2a9-d2c5-402b-c8f8-9105a516b2ea"
      },
      "cell_type": "code",
      "source": [
        "raw_data.describe(include=[np.object])"
      ],
      "execution_count": null,
      "outputs": [
        {
          "output_type": "execute_result",
          "execution_count": 56,
          "data": {
            "text/plain": "                   Block Primary Type Description Location Description  \\\ncount            7125756      7125756     7125756              7119005   \nunique             60939           36         517                  212   \ntop     100XX W OHARE ST        THEFT      SIMPLE               STREET   \nfreq               15667      1506732      839446              1852489   \n\n       FBI Code              Updated On  \ncount   7125756                 7125756  \nunique       26                    3459  \ntop          06  02/10/2018 03:50:01 PM  \nfreq    1506732                 2789100  ",
            "text/html": "<div>\n<style scoped>\n    .dataframe tbody tr th:only-of-type {\n        vertical-align: middle;\n    }\n\n    .dataframe tbody tr th {\n        vertical-align: top;\n    }\n\n    .dataframe thead th {\n        text-align: right;\n    }\n</style>\n<table border=\"1\" class=\"dataframe\">\n  <thead>\n    <tr style=\"text-align: right;\">\n      <th></th>\n      <th>Block</th>\n      <th>Primary Type</th>\n      <th>Description</th>\n      <th>Location Description</th>\n      <th>FBI Code</th>\n      <th>Updated On</th>\n    </tr>\n  </thead>\n  <tbody>\n    <tr>\n      <th>count</th>\n      <td>7125756</td>\n      <td>7125756</td>\n      <td>7125756</td>\n      <td>7119005</td>\n      <td>7125756</td>\n      <td>7125756</td>\n    </tr>\n    <tr>\n      <th>unique</th>\n      <td>60939</td>\n      <td>36</td>\n      <td>517</td>\n      <td>212</td>\n      <td>26</td>\n      <td>3459</td>\n    </tr>\n    <tr>\n      <th>top</th>\n      <td>100XX W OHARE ST</td>\n      <td>THEFT</td>\n      <td>SIMPLE</td>\n      <td>STREET</td>\n      <td>06</td>\n      <td>02/10/2018 03:50:01 PM</td>\n    </tr>\n    <tr>\n      <th>freq</th>\n      <td>15667</td>\n      <td>1506732</td>\n      <td>839446</td>\n      <td>1852489</td>\n      <td>1506732</td>\n      <td>2789100</td>\n    </tr>\n  </tbody>\n</table>\n</div>"
          },
          "metadata": {}
        }
      ]
    },
    {
      "metadata": {
        "trusted": true,
        "id": "DRv0aBvCNHfb",
        "outputId": "060ddc1f-3d9c-4756-f4d4-48cd7f0dfd22"
      },
      "cell_type": "code",
      "source": [
        "raw_data.describe(include=[np.bool])"
      ],
      "execution_count": null,
      "outputs": [
        {
          "output_type": "execute_result",
          "execution_count": 57,
          "data": {
            "text/plain": "         Arrest Domestic\ncount   7125756  7125756\nunique        2        2\ntop       False    False\nfreq    5175134  6176078",
            "text/html": "<div>\n<style scoped>\n    .dataframe tbody tr th:only-of-type {\n        vertical-align: middle;\n    }\n\n    .dataframe tbody tr th {\n        vertical-align: top;\n    }\n\n    .dataframe thead th {\n        text-align: right;\n    }\n</style>\n<table border=\"1\" class=\"dataframe\">\n  <thead>\n    <tr style=\"text-align: right;\">\n      <th></th>\n      <th>Arrest</th>\n      <th>Domestic</th>\n    </tr>\n  </thead>\n  <tbody>\n    <tr>\n      <th>count</th>\n      <td>7125756</td>\n      <td>7125756</td>\n    </tr>\n    <tr>\n      <th>unique</th>\n      <td>2</td>\n      <td>2</td>\n    </tr>\n    <tr>\n      <th>top</th>\n      <td>False</td>\n      <td>False</td>\n    </tr>\n    <tr>\n      <th>freq</th>\n      <td>5175134</td>\n      <td>6176078</td>\n    </tr>\n  </tbody>\n</table>\n</div>"
          },
          "metadata": {}
        }
      ]
    },
    {
      "metadata": {
        "id": "4-G7JkWqNHfc"
      },
      "cell_type": "markdown",
      "source": [
        "We need to ennumerate the data for Arrest and Domestic numerically now. We will let 0 represent False and 1 represent True"
      ]
    },
    {
      "metadata": {
        "trusted": true,
        "id": "6CHHLv6jNHfc"
      },
      "cell_type": "code",
      "source": [
        "raw_data['Arrest'] = raw_data['Arrest'].map( {True: 1, False: 0} ).astype(int)\n",
        "raw_data['Domestic'] = raw_data['Domestic'].map( {True: 1, False: 0} ).astype(int)"
      ],
      "execution_count": null,
      "outputs": []
    },
    {
      "metadata": {
        "trusted": true,
        "id": "cd2ddOQ2NHfc",
        "outputId": "c2cd4a45-7d7b-487c-e5ee-1be00cb82d60"
      },
      "cell_type": "code",
      "source": [
        "raw_data.head()"
      ],
      "execution_count": null,
      "outputs": [
        {
          "output_type": "execute_result",
          "execution_count": 59,
          "data": {
            "text/plain": "                  Block         Primary Type  \\\n0       016XX E 86TH PL   DECEPTIVE PRACTICE   \n1    092XX S RACINE AVE  CRIM SEXUAL ASSAULT   \n2       026XX W 79TH ST             BURGLARY   \n3  060XX S EBERHART AVE                THEFT   \n4   001XX W RANDOLPH ST  CRIM SEXUAL ASSAULT   \n\n                           Description Location Description  Arrest  Domestic  \\\n0  FINANCIAL IDENTITY THEFT OVER $ 300            RESIDENCE       0         0   \n1                       NON-AGGRAVATED            RESIDENCE       0         0   \n2                       UNLAWFUL ENTRY                OTHER       0         0   \n3                            OVER $500            RESIDENCE       0         0   \n4                       NON-AGGRAVATED          HOTEL/MOTEL       0         0   \n\n   Beat  District  Ward  Community Area FBI Code  Year              Updated On  \n0   412       4.0   8.0            45.0       11  2001  08/05/2017 03:50:08 PM  \n1  2222      22.0  21.0            73.0       02  2017  02/11/2018 03:57:41 PM  \n2   835       8.0  18.0            70.0       05  2017  02/11/2018 03:57:41 PM  \n3   313       3.0  20.0            42.0       06  2017  02/11/2018 03:57:41 PM  \n4   122       1.0  42.0            32.0       02  2017  02/11/2018 03:57:41 PM  ",
            "text/html": "<div>\n<style scoped>\n    .dataframe tbody tr th:only-of-type {\n        vertical-align: middle;\n    }\n\n    .dataframe tbody tr th {\n        vertical-align: top;\n    }\n\n    .dataframe thead th {\n        text-align: right;\n    }\n</style>\n<table border=\"1\" class=\"dataframe\">\n  <thead>\n    <tr style=\"text-align: right;\">\n      <th></th>\n      <th>Block</th>\n      <th>Primary Type</th>\n      <th>Description</th>\n      <th>Location Description</th>\n      <th>Arrest</th>\n      <th>Domestic</th>\n      <th>Beat</th>\n      <th>District</th>\n      <th>Ward</th>\n      <th>Community Area</th>\n      <th>FBI Code</th>\n      <th>Year</th>\n      <th>Updated On</th>\n    </tr>\n  </thead>\n  <tbody>\n    <tr>\n      <th>0</th>\n      <td>016XX E 86TH PL</td>\n      <td>DECEPTIVE PRACTICE</td>\n      <td>FINANCIAL IDENTITY THEFT OVER $ 300</td>\n      <td>RESIDENCE</td>\n      <td>0</td>\n      <td>0</td>\n      <td>412</td>\n      <td>4.0</td>\n      <td>8.0</td>\n      <td>45.0</td>\n      <td>11</td>\n      <td>2001</td>\n      <td>08/05/2017 03:50:08 PM</td>\n    </tr>\n    <tr>\n      <th>1</th>\n      <td>092XX S RACINE AVE</td>\n      <td>CRIM SEXUAL ASSAULT</td>\n      <td>NON-AGGRAVATED</td>\n      <td>RESIDENCE</td>\n      <td>0</td>\n      <td>0</td>\n      <td>2222</td>\n      <td>22.0</td>\n      <td>21.0</td>\n      <td>73.0</td>\n      <td>02</td>\n      <td>2017</td>\n      <td>02/11/2018 03:57:41 PM</td>\n    </tr>\n    <tr>\n      <th>2</th>\n      <td>026XX W 79TH ST</td>\n      <td>BURGLARY</td>\n      <td>UNLAWFUL ENTRY</td>\n      <td>OTHER</td>\n      <td>0</td>\n      <td>0</td>\n      <td>835</td>\n      <td>8.0</td>\n      <td>18.0</td>\n      <td>70.0</td>\n      <td>05</td>\n      <td>2017</td>\n      <td>02/11/2018 03:57:41 PM</td>\n    </tr>\n    <tr>\n      <th>3</th>\n      <td>060XX S EBERHART AVE</td>\n      <td>THEFT</td>\n      <td>OVER $500</td>\n      <td>RESIDENCE</td>\n      <td>0</td>\n      <td>0</td>\n      <td>313</td>\n      <td>3.0</td>\n      <td>20.0</td>\n      <td>42.0</td>\n      <td>06</td>\n      <td>2017</td>\n      <td>02/11/2018 03:57:41 PM</td>\n    </tr>\n    <tr>\n      <th>4</th>\n      <td>001XX W RANDOLPH ST</td>\n      <td>CRIM SEXUAL ASSAULT</td>\n      <td>NON-AGGRAVATED</td>\n      <td>HOTEL/MOTEL</td>\n      <td>0</td>\n      <td>0</td>\n      <td>122</td>\n      <td>1.0</td>\n      <td>42.0</td>\n      <td>32.0</td>\n      <td>02</td>\n      <td>2017</td>\n      <td>02/11/2018 03:57:41 PM</td>\n    </tr>\n  </tbody>\n</table>\n</div>"
          },
          "metadata": {}
        }
      ]
    },
    {
      "metadata": {
        "id": "328htvw3NHfd"
      },
      "cell_type": "markdown",
      "source": [
        "Primary Type is the type of crime committed...let's see what different types of crimes there are:"
      ]
    },
    {
      "metadata": {
        "trusted": true,
        "id": "XyFH_DHGNHfd",
        "outputId": "89931860-a5a0-426d-adf3-2ae37fa5ad84"
      },
      "cell_type": "code",
      "source": [
        "raw_data['Primary Type'].unique()"
      ],
      "execution_count": null,
      "outputs": [
        {
          "output_type": "execute_result",
          "execution_count": 60,
          "data": {
            "text/plain": "array(['DECEPTIVE PRACTICE', 'CRIM SEXUAL ASSAULT', 'BURGLARY', 'THEFT',\n       'OFFENSE INVOLVING CHILDREN', 'CRIMINAL DAMAGE', 'OTHER OFFENSE',\n       'SEX OFFENSE', 'CRIMINAL SEXUAL ASSAULT', 'BATTERY', 'ASSAULT',\n       'NARCOTICS', 'MOTOR VEHICLE THEFT', 'ROBBERY', 'CRIMINAL TRESPASS',\n       'WEAPONS VIOLATION', 'OBSCENITY', 'LIQUOR LAW VIOLATION',\n       'PROSTITUTION', 'NON-CRIMINAL', 'PUBLIC PEACE VIOLATION',\n       'INTIMIDATION', 'ARSON', 'INTERFERENCE WITH PUBLIC OFFICER',\n       'GAMBLING', 'STALKING', 'KIDNAPPING', 'OTHER NARCOTIC VIOLATION',\n       'CONCEALED CARRY LICENSE VIOLATION', 'HOMICIDE', 'RITUALISM',\n       'HUMAN TRAFFICKING', 'PUBLIC INDECENCY', 'NON - CRIMINAL',\n       'NON-CRIMINAL (SUBJECT SPECIFIED)', 'DOMESTIC VIOLENCE'],\n      dtype=object)"
          },
          "metadata": {}
        }
      ]
    },
    {
      "metadata": {
        "id": "BQbwYkoqNHfd"
      },
      "cell_type": "markdown",
      "source": [
        "We must make a delineation between what is a \"relevant\" crime to use and what isn't..."
      ]
    },
    {
      "metadata": {
        "trusted": true,
        "id": "Oh2IrlguNHfd"
      },
      "cell_type": "markdown",
      "source": [
        "Now, let's look at Location Description and ennumerate it:"
      ]
    },
    {
      "metadata": {
        "trusted": true,
        "id": "dSBHprciNHfd",
        "outputId": "e44c6cbb-792c-40b8-f38e-57efa1f2abb6"
      },
      "cell_type": "code",
      "source": [
        "raw_data['Location Description'].unique()"
      ],
      "execution_count": null,
      "outputs": [
        {
          "output_type": "execute_result",
          "execution_count": 62,
          "data": {
            "text/plain": "array(['RESIDENCE', 'OTHER', 'HOTEL/MOTEL', nan, 'APARTMENT', 'SIDEWALK',\n       'PARKING LOT/GARAGE(NON.RESID.)', 'RESIDENCE-GARAGE',\n       'HOSPITAL BUILDING/GROUNDS', 'BANK', 'RESTAURANT',\n       'DAY CARE CENTER', 'SCHOOL, PUBLIC, BUILDING', 'STREET',\n       'AIRPORT BUILDING NON-TERMINAL - SECURE AREA',\n       'RESIDENCE PORCH/HALLWAY', 'RESIDENTIAL YARD (FRONT/BACK)',\n       'BAR OR TAVERN', 'AIRPORT TERMINAL LOWER LEVEL - NON-SECURE AREA',\n       'DEPARTMENT STORE', 'ALLEY', 'VEHICLE NON-COMMERCIAL',\n       'GOVERNMENT BUILDING/PROPERTY', 'AUTO / BOAT / RV DEALERSHIP',\n       'VACANT LOT/LAND', 'WAREHOUSE', 'POOL ROOM',\n       'COMMERCIAL / BUSINESS OFFICE', 'POLICE FACILITY/VEH PARKING LOT',\n       'PARK PROPERTY', 'MEDICAL/DENTAL OFFICE', 'BOAT/WATERCRAFT',\n       'GROCERY FOOD STORE', 'CTA STATION', 'CONVENIENCE STORE',\n       'ATHLETIC CLUB', 'SMALL RETAIL STORE', 'AIRPORT/AIRCRAFT',\n       'ANIMAL HOSPITAL', 'ATM (AUTOMATIC TELLER MACHINE)', 'CTA BUS',\n       'CURRENCY EXCHANGE', 'DRIVEWAY - RESIDENTIAL',\n       'AIRPORT TERMINAL UPPER LEVEL - NON-SECURE AREA',\n       'CONSTRUCTION SITE', 'SPORTS ARENA/STADIUM',\n       'FACTORY/MANUFACTURING BUILDING', 'LIBRARY', 'GAS STATION',\n       'CTA PLATFORM', 'CTA TRAIN', 'CHURCH/SYNAGOGUE/PLACE OF WORSHIP',\n       'AIRPORT VENDING ESTABLISHMENT', 'SCHOOL, PRIVATE, BUILDING',\n       'NURSING HOME/RETIREMENT HOME', 'BRIDGE', 'PAWN SHOP',\n       'OTHER RAILROAD PROP / TRAIN DEPOT', 'CHA PARKING LOT/GROUNDS',\n       'CTA GARAGE / OTHER PROPERTY', 'COLLEGE/UNIVERSITY GROUNDS',\n       'CAR WASH', 'AIRPORT EXTERIOR - NON-SECURE AREA',\n       'JAIL / LOCK-UP FACILITY', 'ABANDONED BUILDING',\n       'SCHOOL, PUBLIC, GROUNDS',\n       'AIRPORT TERMINAL UPPER LEVEL - SECURE AREA', 'AIRCRAFT',\n       'DRUG STORE', 'TAVERN/LIQUOR STORE', 'CHA APARTMENT',\n       'LAKEFRONT/WATERFRONT/RIVERBANK',\n       'AIRPORT BUILDING NON-TERMINAL - NON-SECURE AREA',\n       'OTHER COMMERCIAL TRANSPORTATION', 'HIGHWAY/EXPRESSWAY',\n       'CHA HALLWAY/STAIRWELL/ELEVATOR', 'SCHOOL, PRIVATE, GROUNDS',\n       'TAXICAB', 'VEHICLE-COMMERCIAL', 'CLEANING STORE',\n       'APPLIANCE STORE', 'FIRE STATION', 'DELIVERY TRUCK',\n       'COLLEGE/UNIVERSITY RESIDENCE HALL', 'CREDIT UNION',\n       'FEDERAL BUILDING', 'CTA BUS STOP', 'MOVIE HOUSE/THEATER',\n       'AIRPORT EXTERIOR - SECURE AREA', 'BARBERSHOP', 'SAVINGS AND LOAN',\n       'AIRPORT PARKING LOT',\n       'AIRPORT TERMINAL LOWER LEVEL - SECURE AREA', 'CEMETARY',\n       'AIRPORT TRANSPORTATION SYSTEM (ATS)', 'BOWLING ALLEY',\n       'NEWSSTAND', 'VEHICLE - OTHER RIDE SERVICE',\n       'COIN OPERATED MACHINE',\n       'AIRPORT TERMINAL MEZZANINE - NON-SECURE AREA', 'FOREST PRESERVE',\n       'VEHICLE - OTHER RIDE SHARE SERVICE (E.G., UBER, LYFT)',\n       'SCHOOL - PUBLIC BUILDING', 'VEHICLE - DELIVERY TRUCK',\n       'SCHOOL - PRIVATE BUILDING',\n       'PARKING LOT / GARAGE (NON RESIDENTIAL)',\n       'CTA TRACKS - RIGHT OF WAY', 'RESIDENCE - PORCH / HALLWAY',\n       'PARKING LOT', 'OTHER (SPECIFY)', 'PORCH', 'HOUSE', 'AUTO',\n       'MEDICAL / DENTAL OFFICE', 'RETAIL STORE',\n       'CHURCH / SYNAGOGUE / PLACE OF WORSHIP', 'CHA PARKING LOT',\n       'CHA GROUNDS', 'YARD', 'LAKEFRONT / WATERFRONT / RIVERBANK',\n       'KENNEL', 'FARM', 'VEHICLE-COMMERCIAL - TROLLEY BUS',\n       'RESIDENCE - YARD (FRONT / BACK)', 'VACANT LOT / LAND',\n       'RAILROAD PROPERTY', 'RESIDENCE - GARAGE',\n       'HOSPITAL BUILDING / GROUNDS', 'NURSING / RETIREMENT HOME',\n       'VACANT LOT', 'CTA \"L\" PLATFORM', 'CHA PARKING LOT / GROUNDS',\n       'TRAILER', 'BOAT / WATERCRAFT', 'VEHICLE - COMMERCIAL',\n       'HOTEL / MOTEL', 'SCHOOL - PUBLIC GROUNDS', 'GANGWAY',\n       'BARBER SHOP/BEAUTY SALON', 'GARAGE', 'HOTEL', 'STAIRWELL',\n       'SCHOOL YARD', 'VEHICLE-COMMERCIAL - ENTERTAINMENT/PARTY BUS',\n       'POLICE FACILITY / VEHICLE PARKING LOT', 'HALLWAY',\n       'VEHICLE - OTHER RIDE SHARE SERVICE (LYFT, UBER, ETC.)',\n       'CTA SUBWAY STATION', 'HORSE STABLE',\n       'COLLEGE / UNIVERSITY - GROUNDS', 'DRIVEWAY',\n       'TAVERN / LIQUOR STORE', 'GOVERNMENT BUILDING / PROPERTY',\n       'OFFICE', 'CHA HALLWAY / STAIRWELL / ELEVATOR',\n       'FACTORY / MANUFACTURING BUILDING', 'CLUB',\n       'CTA PARKING LOT / GARAGE / OTHER PROPERTY',\n       'OTHER RAILROAD PROPERTY / TRAIN DEPOT', 'CTA PROPERTY',\n       'VESTIBULE', 'COLLEGE / UNIVERSITY - RESIDENCE HALL',\n       'GAS STATION DRIVE/PROP.', 'MOVIE HOUSE / THEATER',\n       'SPORTS ARENA / STADIUM', 'SCHOOL - PRIVATE GROUNDS',\n       'HIGHWAY / EXPRESSWAY', 'LIQUOR STORE', 'TAXI CAB', 'CHA HALLWAY',\n       'WOODED AREA', 'COUNTY JAIL', 'TAVERN', 'COACH HOUSE', 'DUMPSTER',\n       'YMCA', 'BASEMENT', 'CHA STAIRWELL', 'CHURCH PROPERTY',\n       'CHA ELEVATOR', 'SEWER', 'LIVERY STAND OFFICE',\n       'GARAGE/AUTO REPAIR', 'CHURCH', 'CHA BREEZEWAY', 'TRUCK',\n       'CHA LOBBY', 'PRAIRIE', 'PUBLIC GRAMMAR SCHOOL', 'RIVER',\n       'JUNK YARD/GARBAGE DUMP', 'FUNERAL PARLOR', 'RIVER BANK',\n       'NURSING HOME', 'MOTEL', 'LAKE', 'CHA PLAY LOT',\n       'PUBLIC HIGH SCHOOL', 'GOVERNMENT BUILDING', 'CTA \"L\" TRAIN',\n       'ELEVATOR', 'POOLROOM', 'LAUNDRY ROOM', 'CLEANERS/LAUNDROMAT',\n       'EXPRESSWAY EMBANKMENT', 'HOSPITAL', 'LAGOON', 'TRUCKING TERMINAL',\n       'ROOMING HOUSE', 'FACTORY', 'LIVERY AUTO', 'BANQUET HALL',\n       'LOADING DOCK'], dtype=object)"
          },
          "metadata": {}
        }
      ]
    },
    {
      "metadata": {
        "id": "PjcacS9PNHfe"
      },
      "cell_type": "markdown",
      "source": []
    }
  ],
  "metadata": {
    "kernelspec": {
      "language": "python",
      "display_name": "Python 3",
      "name": "python3"
    },
    "language_info": {
      "pygments_lexer": "ipython3",
      "nbconvert_exporter": "python",
      "version": "3.6.4",
      "file_extension": ".py",
      "codemirror_mode": {
        "name": "ipython",
        "version": 3
      },
      "name": "python",
      "mimetype": "text/x-python"
    },
    "colab": {
      "provenance": [],
      "include_colab_link": true
    }
  },
  "nbformat": 4,
  "nbformat_minor": 0
}