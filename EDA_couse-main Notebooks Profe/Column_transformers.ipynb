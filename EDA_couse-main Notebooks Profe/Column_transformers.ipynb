{
  "nbformat": 4,
  "nbformat_minor": 0,
  "metadata": {
    "colab": {
      "provenance": [],
      "authorship_tag": "ABX9TyPJQrsV9CRKhl+mlENUUet8",
      "include_colab_link": true
    },
    "kernelspec": {
      "name": "python3",
      "display_name": "Python 3"
    },
    "language_info": {
      "name": "python"
    }
  },
  "cells": [
    {
      "cell_type": "markdown",
      "metadata": {
        "id": "view-in-github",
        "colab_type": "text"
      },
      "source": [
        "<a href=\"https://colab.research.google.com/github/armandoordonez/eda_couse/blob/main/Column_transformers.ipynb\" target=\"_parent\"><img src=\"https://colab.research.google.com/assets/colab-badge.svg\" alt=\"Open In Colab\"/></a>"
      ]
    },
    {
      "cell_type": "code",
      "execution_count": 7,
      "metadata": {
        "colab": {
          "base_uri": "https://localhost:8080/",
          "height": 206
        },
        "id": "Zyyr2F7Od8zB",
        "outputId": "7da2565f-0e28-436d-e0f4-773d14bf89c5"
      },
      "outputs": [
        {
          "output_type": "execute_result",
          "data": {
            "text/plain": [
              "   0      1      2      3       4       5       6      7   8\n",
              "0  M  0.455  0.365  0.095  0.5140  0.2245  0.1010  0.150  15\n",
              "1  M  0.350  0.265  0.090  0.2255  0.0995  0.0485  0.070   7\n",
              "2  F  0.530  0.420  0.135  0.6770  0.2565  0.1415  0.210   9\n",
              "3  M  0.440  0.365  0.125  0.5160  0.2155  0.1140  0.155  10\n",
              "4  I  0.330  0.255  0.080  0.2050  0.0895  0.0395  0.055   7"
            ],
            "text/html": [
              "\n",
              "  <div id=\"df-0651ee69-f850-40f8-aba6-d6eab6f716c1\">\n",
              "    <div class=\"colab-df-container\">\n",
              "      <div>\n",
              "<style scoped>\n",
              "    .dataframe tbody tr th:only-of-type {\n",
              "        vertical-align: middle;\n",
              "    }\n",
              "\n",
              "    .dataframe tbody tr th {\n",
              "        vertical-align: top;\n",
              "    }\n",
              "\n",
              "    .dataframe thead th {\n",
              "        text-align: right;\n",
              "    }\n",
              "</style>\n",
              "<table border=\"1\" class=\"dataframe\">\n",
              "  <thead>\n",
              "    <tr style=\"text-align: right;\">\n",
              "      <th></th>\n",
              "      <th>0</th>\n",
              "      <th>1</th>\n",
              "      <th>2</th>\n",
              "      <th>3</th>\n",
              "      <th>4</th>\n",
              "      <th>5</th>\n",
              "      <th>6</th>\n",
              "      <th>7</th>\n",
              "      <th>8</th>\n",
              "    </tr>\n",
              "  </thead>\n",
              "  <tbody>\n",
              "    <tr>\n",
              "      <th>0</th>\n",
              "      <td>M</td>\n",
              "      <td>0.455</td>\n",
              "      <td>0.365</td>\n",
              "      <td>0.095</td>\n",
              "      <td>0.5140</td>\n",
              "      <td>0.2245</td>\n",
              "      <td>0.1010</td>\n",
              "      <td>0.150</td>\n",
              "      <td>15</td>\n",
              "    </tr>\n",
              "    <tr>\n",
              "      <th>1</th>\n",
              "      <td>M</td>\n",
              "      <td>0.350</td>\n",
              "      <td>0.265</td>\n",
              "      <td>0.090</td>\n",
              "      <td>0.2255</td>\n",
              "      <td>0.0995</td>\n",
              "      <td>0.0485</td>\n",
              "      <td>0.070</td>\n",
              "      <td>7</td>\n",
              "    </tr>\n",
              "    <tr>\n",
              "      <th>2</th>\n",
              "      <td>F</td>\n",
              "      <td>0.530</td>\n",
              "      <td>0.420</td>\n",
              "      <td>0.135</td>\n",
              "      <td>0.6770</td>\n",
              "      <td>0.2565</td>\n",
              "      <td>0.1415</td>\n",
              "      <td>0.210</td>\n",
              "      <td>9</td>\n",
              "    </tr>\n",
              "    <tr>\n",
              "      <th>3</th>\n",
              "      <td>M</td>\n",
              "      <td>0.440</td>\n",
              "      <td>0.365</td>\n",
              "      <td>0.125</td>\n",
              "      <td>0.5160</td>\n",
              "      <td>0.2155</td>\n",
              "      <td>0.1140</td>\n",
              "      <td>0.155</td>\n",
              "      <td>10</td>\n",
              "    </tr>\n",
              "    <tr>\n",
              "      <th>4</th>\n",
              "      <td>I</td>\n",
              "      <td>0.330</td>\n",
              "      <td>0.255</td>\n",
              "      <td>0.080</td>\n",
              "      <td>0.2050</td>\n",
              "      <td>0.0895</td>\n",
              "      <td>0.0395</td>\n",
              "      <td>0.055</td>\n",
              "      <td>7</td>\n",
              "    </tr>\n",
              "  </tbody>\n",
              "</table>\n",
              "</div>\n",
              "      <button class=\"colab-df-convert\" onclick=\"convertToInteractive('df-0651ee69-f850-40f8-aba6-d6eab6f716c1')\"\n",
              "              title=\"Convert this dataframe to an interactive table.\"\n",
              "              style=\"display:none;\">\n",
              "        \n",
              "  <svg xmlns=\"http://www.w3.org/2000/svg\" height=\"24px\"viewBox=\"0 0 24 24\"\n",
              "       width=\"24px\">\n",
              "    <path d=\"M0 0h24v24H0V0z\" fill=\"none\"/>\n",
              "    <path d=\"M18.56 5.44l.94 2.06.94-2.06 2.06-.94-2.06-.94-.94-2.06-.94 2.06-2.06.94zm-11 1L8.5 8.5l.94-2.06 2.06-.94-2.06-.94L8.5 2.5l-.94 2.06-2.06.94zm10 10l.94 2.06.94-2.06 2.06-.94-2.06-.94-.94-2.06-.94 2.06-2.06.94z\"/><path d=\"M17.41 7.96l-1.37-1.37c-.4-.4-.92-.59-1.43-.59-.52 0-1.04.2-1.43.59L10.3 9.45l-7.72 7.72c-.78.78-.78 2.05 0 2.83L4 21.41c.39.39.9.59 1.41.59.51 0 1.02-.2 1.41-.59l7.78-7.78 2.81-2.81c.8-.78.8-2.07 0-2.86zM5.41 20L4 18.59l7.72-7.72 1.47 1.35L5.41 20z\"/>\n",
              "  </svg>\n",
              "      </button>\n",
              "      \n",
              "  <style>\n",
              "    .colab-df-container {\n",
              "      display:flex;\n",
              "      flex-wrap:wrap;\n",
              "      gap: 12px;\n",
              "    }\n",
              "\n",
              "    .colab-df-convert {\n",
              "      background-color: #E8F0FE;\n",
              "      border: none;\n",
              "      border-radius: 50%;\n",
              "      cursor: pointer;\n",
              "      display: none;\n",
              "      fill: #1967D2;\n",
              "      height: 32px;\n",
              "      padding: 0 0 0 0;\n",
              "      width: 32px;\n",
              "    }\n",
              "\n",
              "    .colab-df-convert:hover {\n",
              "      background-color: #E2EBFA;\n",
              "      box-shadow: 0px 1px 2px rgba(60, 64, 67, 0.3), 0px 1px 3px 1px rgba(60, 64, 67, 0.15);\n",
              "      fill: #174EA6;\n",
              "    }\n",
              "\n",
              "    [theme=dark] .colab-df-convert {\n",
              "      background-color: #3B4455;\n",
              "      fill: #D2E3FC;\n",
              "    }\n",
              "\n",
              "    [theme=dark] .colab-df-convert:hover {\n",
              "      background-color: #434B5C;\n",
              "      box-shadow: 0px 1px 3px 1px rgba(0, 0, 0, 0.15);\n",
              "      filter: drop-shadow(0px 1px 2px rgba(0, 0, 0, 0.3));\n",
              "      fill: #FFFFFF;\n",
              "    }\n",
              "  </style>\n",
              "\n",
              "      <script>\n",
              "        const buttonEl =\n",
              "          document.querySelector('#df-0651ee69-f850-40f8-aba6-d6eab6f716c1 button.colab-df-convert');\n",
              "        buttonEl.style.display =\n",
              "          google.colab.kernel.accessAllowed ? 'block' : 'none';\n",
              "\n",
              "        async function convertToInteractive(key) {\n",
              "          const element = document.querySelector('#df-0651ee69-f850-40f8-aba6-d6eab6f716c1');\n",
              "          const dataTable =\n",
              "            await google.colab.kernel.invokeFunction('convertToInteractive',\n",
              "                                                     [key], {});\n",
              "          if (!dataTable) return;\n",
              "\n",
              "          const docLinkHtml = 'Like what you see? Visit the ' +\n",
              "            '<a target=\"_blank\" href=https://colab.research.google.com/notebooks/data_table.ipynb>data table notebook</a>'\n",
              "            + ' to learn more about interactive tables.';\n",
              "          element.innerHTML = '';\n",
              "          dataTable['output_type'] = 'display_data';\n",
              "          await google.colab.output.renderOutput(dataTable, element);\n",
              "          const docLink = document.createElement('div');\n",
              "          docLink.innerHTML = docLinkHtml;\n",
              "          element.appendChild(docLink);\n",
              "        }\n",
              "      </script>\n",
              "    </div>\n",
              "  </div>\n",
              "  "
            ]
          },
          "metadata": {},
          "execution_count": 7
        }
      ],
      "source": [
        "# Based on: https://machinelearningmastery.com/columntransformer-for-numerical-and-categorical-data/\n",
        "\n",
        "# example of using the ColumnTransformer for the Abalone dataset\n",
        "from numpy import mean\n",
        "from numpy import std\n",
        "from numpy import absolute\n",
        "from pandas import read_csv\n",
        "from sklearn.model_selection import cross_val_score\n",
        "from sklearn.model_selection import KFold\n",
        "from sklearn.compose import ColumnTransformer\n",
        "from sklearn.pipeline import Pipeline\n",
        "from sklearn.preprocessing import OneHotEncoder\n",
        "from sklearn.preprocessing import MinMaxScaler\n",
        "from sklearn.svm import SVR\n",
        " \n",
        "# load dataset\n",
        "url = 'https://raw.githubusercontent.com/jbrownlee/Datasets/master/abalone.csv'\n",
        "dataframe = read_csv(url, header=None)\n",
        "dataframe.head()\n"
      ]
    },
    {
      "cell_type": "markdown",
      "source": [
        "1. Title of Database: Abalone data\n",
        "\n",
        "2. Relevant Information Paragraph:\n",
        "\n",
        "   Predicting the age of abalone from physical measurements.  The age of\n",
        "   abalone is determined by cutting the shell through the cone, staining it,\n",
        "   and counting the number of rings through a microscope -- a boring and\n",
        "   time-consuming task.  Other measurements, which are easier to obtain, are\n",
        "   used to predict the age.  Further information, such as weather patterns\n",
        "   and location (hence food availability) may be required to solve the problem.\n",
        "\n",
        "   From the original data examples with missing values were removed (the\n",
        "   majority having the predicted value missing), and the ranges of the\n",
        "   continuous values have been scaled for use with an ANN (by dividing by 200).\n",
        "\n",
        "   Data comes from an original (non-machine-learning) study:\n",
        "\n",
        "\tWarwick J Nash, Tracy L Sellers, Simon R Talbot, Andrew J Cawthorn and\n",
        "\tWes B Ford (1994) \"The Population Biology of Abalone (_Haliotis_\n",
        "\tspecies) in Tasmania. I. Blacklip Abalone (_H. rubra_) from the North\n",
        "\tCoast and Islands of Bass Strait\", Sea Fisheries Division, Technical\n",
        "\tReport No. 48 (ISSN 1034-3288)\n",
        "\n",
        "\n",
        "Attribute information:\n",
        "\n",
        "   Given is the attribute name, attribute type, the measurement unit and a\n",
        "   brief description.  The number of rings is the value to predict: either\n",
        "   as a continuous value or as a classification problem.\n",
        "\n",
        "\tName\t\tData Type\tMeas.\tDescription\n",
        "\t----\t\t---------\t-----\t-----------\n",
        "\tSex\t\tnominal\t\t\tM, F, and I (infant)\n",
        "\tLength\t\tcontinuous\tmm\tLongest shell measurement\n",
        "\tDiameter\tcontinuous\tmm\tperpendicular to length\n",
        "\tHeight\t\tcontinuous\tmm\twith meat in shell\n",
        "\tWhole weight\tcontinuous\tgrams\twhole abalone\n",
        "\tShucked weight\tcontinuous\tgrams\tweight of meat\n",
        "\tViscera weight\tcontinuous\tgrams\tgut weight (after bleeding)\n",
        "\tShell weight\tcontinuous\tgrams\tafter being dried\n",
        "\tRings\t\tinteger\t\t\t+1.5 gives the age in years\n",
        "\n"
      ],
      "metadata": {
        "id": "ReJKzoVwjH3E"
      }
    },
    {
      "cell_type": "code",
      "source": [
        "# split into inputs and outputs\n",
        "last_ix = len(dataframe.columns) - 1\n",
        "X, y = dataframe.drop(last_ix, axis=1), dataframe[last_ix]\n",
        "print(X.shape, y.shape)"
      ],
      "metadata": {
        "colab": {
          "base_uri": "https://localhost:8080/"
        },
        "id": "m6do0Ajad_L-",
        "outputId": "12045e39-2abc-4e16-847b-bd523df14037"
      },
      "execution_count": 11,
      "outputs": [
        {
          "output_type": "stream",
          "name": "stdout",
          "text": [
            "(4177, 8) (4177,)\n"
          ]
        }
      ]
    },
    {
      "cell_type": "code",
      "source": [
        "# determine categorical and numerical features\n",
        "numerical_ix = X.select_dtypes(include=['int64', 'float64']).columns\n",
        "categorical_ix = X.select_dtypes(include=['object', 'bool']).columns"
      ],
      "metadata": {
        "id": "Nnm4ORY5eEiB"
      },
      "execution_count": 3,
      "outputs": []
    },
    {
      "cell_type": "code",
      "source": [
        "# define the data preparation for the columns\n",
        "t = [('cat', OneHotEncoder(), categorical_ix),\n",
        "     ('num', MinMaxScaler(), numerical_ix)]\n",
        "col_transform = ColumnTransformer(transformers=t)\n"
      ],
      "metadata": {
        "id": "evr9Qdx_eKpg"
      },
      "execution_count": 9,
      "outputs": []
    },
    {
      "cell_type": "code",
      "source": [
        "# define the model Support Vector Regression.\n",
        "model = SVR(kernel='rbf',gamma='scale',C=100)\n",
        "\n",
        "# define the data preparation and modeling pipeline\n",
        "\n",
        "pipeline = Pipeline(steps=[('prep',col_transform), ('m', model)])\n",
        "\n",
        "# define the model cross-validation configuration\n",
        "cv = KFold(n_splits=10, shuffle=True, random_state=1)\n",
        "\n",
        "\n",
        "# evaluate the pipeline using cross validation and calculate MAE\n",
        "scores = cross_val_score(pipeline, X, y, scoring='neg_mean_absolute_error', cv=cv, n_jobs=-1)\n",
        "\n",
        "\n",
        "# convert MAE scores to positive values\n",
        "scores = absolute(scores)\n",
        "\n",
        "\n",
        "# summarize the model performance\n",
        "print('MAE: %.3f (%.3f)' % (mean(scores), std(scores)))"
      ],
      "metadata": {
        "colab": {
          "base_uri": "https://localhost:8080/"
        },
        "id": "qN4OLp6oeMZJ",
        "outputId": "1d2e432d-b015-46c7-b10e-99729c225a14"
      },
      "execution_count": 12,
      "outputs": [
        {
          "output_type": "stream",
          "name": "stdout",
          "text": [
            "MAE: 1.465 (0.047)\n"
          ]
        }
      ]
    },
    {
      "cell_type": "markdown",
      "source": [
        "Mean Absolute Error (MAE): MAE measures the average magnitude of the errors in a set of predictions, without considering their direction. It’s the average over the test sample of the absolute differences between prediction and actual observation where all individual differences have equal weight.\n",
        "\n",
        "![mae.gif](data:image/gif;base64,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)"
      ],
      "metadata": {
        "id": "DVE2GXwNhiyV"
      }
    },
    {
      "cell_type": "code",
      "source": [],
      "metadata": {
        "id": "S4aPW9zeeOJD"
      },
      "execution_count": null,
      "outputs": []
    }
  ]
}