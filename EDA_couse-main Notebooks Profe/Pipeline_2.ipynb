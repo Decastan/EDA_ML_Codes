{
  "nbformat": 4,
  "nbformat_minor": 0,
  "metadata": {
    "colab": {
      "provenance": [],
      "authorship_tag": "ABX9TyP0ON+luHLPuCtzuo79GMoJ",
      "include_colab_link": true
    },
    "kernelspec": {
      "name": "python3",
      "display_name": "Python 3"
    },
    "language_info": {
      "name": "python"
    }
  },
  "cells": [
    {
      "cell_type": "markdown",
      "metadata": {
        "id": "view-in-github",
        "colab_type": "text"
      },
      "source": [
        "<a href=\"https://colab.research.google.com/github/armandoordonez/eda_couse/blob/main/Pipeline_2.ipynb\" target=\"_parent\"><img src=\"https://colab.research.google.com/assets/colab-badge.svg\" alt=\"Open In Colab\"/></a>"
      ]
    },
    {
      "cell_type": "code",
      "execution_count": 11,
      "metadata": {
        "colab": {
          "base_uri": "https://localhost:8080/"
        },
        "id": "kLD0lCSKfvwC",
        "outputId": "89192c13-8f29-44a9-e78d-33be58764e6b"
      },
      "outputs": [
        {
          "output_type": "stream",
          "name": "stdout",
          "text": [
            "FeatureUnion(transformer_list=[('pca', PCA(n_components=3)),\n",
            "                               ('select_best', SelectKBest(k=6))])\n"
          ]
        }
      ],
      "source": [
        "# Based on: https://www.askpython.com/python/examples/pipelining-in-python\n",
        "\n",
        "# Create a pipeline that extracts features from the data then creates a model\n",
        "from sklearn.linear_model import LogisticRegression\n",
        "from sklearn.decomposition import PCA\n",
        "from sklearn.feature_selection import SelectKBest\n",
        "from pandas import read_csv\n",
        "from sklearn.model_selection import KFold\n",
        "from sklearn.model_selection import cross_val_score\n",
        "from sklearn.pipeline import Pipeline\n",
        "from sklearn.pipeline import FeatureUnion\n",
        " \n",
        "# data laoded into global variables\n",
        "url_data = \"https://raw.githubusercontent.com/jbrownlee/Datasets/master/pima-indians-diabetes.data.csv\"\n",
        "varnames = ['var_preg', 'var_plas', 'var_pres', 'var_skin', 'var_test', 'var_mass', 'var_pedi', 'var_age', 'var_class']\n",
        "vardataframe = read_csv(url_data, names=varnames)\n",
        "vararray = vardataframe.values\n",
        "varX = vararray[:,0:8]\n",
        "varY = vararray[:,8]\n",
        " \n",
        "# creating feature union\n",
        "urlfeatures = []\n",
        "urlfeatures.append(('pca', PCA(n_components=3)))\n",
        "urlfeatures.append(('select_best', SelectKBest(k=6)))\n",
        "feature_union = FeatureUnion(urlfeatures)\n",
        "print(feature_union)\n"
      ]
    },
    {
      "cell_type": "code",
      "source": [
        " \n",
        "# Here, pipeline is created\n",
        "estimators = []\n",
        "estimators.append(('feature_union', feature_union))\n",
        "estimators.append(('logistic', LogisticRegression(max_iter=1000)))\n",
        "\n",
        "model = Pipeline(estimators)\n",
        " \n",
        "# The pipelie is tested here\n",
        "seed = 7\n",
        "varkfold = KFold(n_splits=10)\n",
        "dataresults = cross_val_score(model, varX, varY, cv=varkfold)\n",
        "print(dataresults.mean())"
      ],
      "metadata": {
        "id": "Bl2T4lYogT1M"
      },
      "execution_count": null,
      "outputs": []
    }
  ]
}