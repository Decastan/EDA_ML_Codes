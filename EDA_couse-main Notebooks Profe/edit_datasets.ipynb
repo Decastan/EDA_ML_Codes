{
  "nbformat": 4,
  "nbformat_minor": 0,
  "metadata": {
    "anaconda-cloud": {},
    "kernelspec": {
      "display_name": "Python 3",
      "language": "python",
      "name": "python3"
    },
    "language_info": {
      "codemirror_mode": {
        "name": "ipython",
        "version": 3
      },
      "file_extension": ".py",
      "mimetype": "text/x-python",
      "name": "python",
      "nbconvert_exporter": "python",
      "pygments_lexer": "ipython3",
      "version": "3.7.3"
    },
    "colab": {
      "name": "1_intro_carga_dataset_csv.ipynb",
      "provenance": [],
      "toc_visible": true
    }
  },
  "cells": [
    {
      "cell_type": "markdown",
      "metadata": {
        "id": "gsIBV2-2Q6wx"
      },
      "source": [
        "<p><img height=\"45px\" src=\"https://drive.google.com/uc?id=1aJx1i5ecv6L6R5zUqK_ry6vuDnBDmprd\"align=\"left\" hspace=\"10px\" vspace=\"0px\"></p>\n",
        "\n",
        "<h1>Carga y lectura de un Dataset en formato CSV</h1>\n",
        "<br>\n",
        "\n",
        "*Tiempo aproximado:* ***10 minutos***\n",
        "\n",
        "---"
      ]
    },
    {
      "cell_type": "markdown",
      "metadata": {
        "id": "RMuC6hS2Q6wz"
      },
      "source": [
        "# **Introducción**\n",
        "\n",
        "Con esta práctica aprenderá a cargar un *dataset* en Google Colab y obtendrá algunos conocimientos fundamentales de la librería **Pandas**. Pandas es una librería de código abierto construida sobre Python para el análisis y manipulación de datos, es rápida, potente, flexible y fácil de utilizar.\n"
      ]
    },
    {
      "cell_type": "markdown",
      "metadata": {
        "id": "StF-RteDQ6w0"
      },
      "source": [
        "# **Adquisición de datos**\n",
        "\n",
        "Un conjunto de datos se puede almacenar en diversos formatos (.csv, .json, .xlsx, etc.) y lugares (desde una máquina local hasta un repositorio en línea).\n",
        "<br><br>\n",
        "El conjunto de datos con el que trabajará tiene formato CSV (valores separados por comas), contiene la información de 205 automóviles con diferentes características y se encuentra en la nube (https://raw.githubusercontent.com/lvmeninnovations/datasets/main/crispdm/auto.csv). \n",
        "<br><br>\n",
        "Usted aprenderá a cargar el conjunto de datos en un cuaderno de Google Colab por medio de la librería Pandas. Esta librería nos permite leer los datos en forma de *data frame*, es decir, en forma de hojas de datos. Cada fila de la hoja de datos corresponde a una instancia y cada columna corresponde a los valores de un atributo. \n",
        "<br><br>\n",
        "Google Colab tiene la librería Pandas incorporada, de modo que, podrá importarla sin realizar instalaciones extra, tal y como se muestra en el siguiente código.\n",
        "\n"
      ]
    },
    {
      "cell_type": "code",
      "metadata": {
        "jupyter": {
          "outputs_hidden": true
        },
        "id": "30bl9CdhQ6w1"
      },
      "source": [
        "# Importar la librería pandas\n",
        "import pandas as pd"
      ],
      "execution_count": 1,
      "outputs": []
    },
    {
      "cell_type": "markdown",
      "metadata": {
        "id": "2bgSVqcQQ6w4"
      },
      "source": [
        "## Leer los datos\n",
        "\n",
        "Usamos la función ```pandas.read_csv()``` para leer el archivo CSV. Dentro del paréntesis, colocamos la ruta del archivo en comillas, de esta manera, pandas leerá el archivo como un *data frame* desde esa dirección. La ruta del archivo puede ser una URL o la ubicación local del archivo.\n",
        "<br><br>\n",
        "Debido a que los datos no incluyen encabezado, podemos agregar el argumento ```headers = None``` dentro del método ```read_csv()```, para que pandas no establezca automáticamente la primera fila como encabezado.\n",
        "También, le puede asignar a cualquier variable, el conjunto de datos adquirido (nosotros utilizaremos la variable ```df```)."
      ]
    },
    {
      "cell_type": "code",
      "metadata": {
        "jupyter": {
          "outputs_hidden": false
        },
        "id": "lFrZrdnFQ6w5"
      },
      "source": [
        "# Importar la librería pandas\n",
        "import pandas as pd\n",
        "\n",
        "# Leer el conjunto de datos por medio de la URL proporcionada y asignarlo a la variable \"df\"\n",
        "other_path = \"https://raw.githubusercontent.com/armandoordonez/eda_couse/main/climate_temp.csv\"\n",
        "df = pd.read_csv(other_path)"
      ],
      "execution_count": 2,
      "outputs": []
    },
    {
      "cell_type": "markdown",
      "metadata": {
        "id": "Rc9yvO5vQ6w9"
      },
      "source": [
        "Después de leer los datos, podemos utilizar el método ```dataframe.head(n)```para visualizar las primeras *n* filas del *data frame* (*n* es un entero). Al contrario de ```dataframe.head(n)```, ```dataframe.tail(n)``` le mostrará las últimas *n* del *data frame*. Ejecute el siguiente código para visualizar las primeras 5 filas del *dataset*."
      ]
    },
    {
      "cell_type": "code",
      "metadata": {
        "jupyter": {
          "outputs_hidden": false
        },
        "id": "ZewgGfA9Q6w9",
        "colab": {
          "base_uri": "https://localhost:8080/",
          "height": 292
        },
        "outputId": "1fd7c7d0-4fb8-4b93-8eea-04f53e81e4ff"
      },
      "source": [
        "# Mostrar las primeras 5 filas del dataset utilizando el método dataframe.head()\n",
        "print(\"Las primeras 5 filas del data frame:\") \n",
        "df.head(5)"
      ],
      "execution_count": null,
      "outputs": [
        {
          "output_type": "stream",
          "text": [
            "Las primeras 5 filas del data frame:\n"
          ],
          "name": "stdout"
        },
        {
          "output_type": "execute_result",
          "data": {
            "text/html": [
              "<div>\n",
              "<style scoped>\n",
              "    .dataframe tbody tr th:only-of-type {\n",
              "        vertical-align: middle;\n",
              "    }\n",
              "\n",
              "    .dataframe tbody tr th {\n",
              "        vertical-align: top;\n",
              "    }\n",
              "\n",
              "    .dataframe thead th {\n",
              "        text-align: right;\n",
              "    }\n",
              "</style>\n",
              "<table border=\"1\" class=\"dataframe\">\n",
              "  <thead>\n",
              "    <tr style=\"text-align: right;\">\n",
              "      <th></th>\n",
              "      <th>0</th>\n",
              "      <th>1</th>\n",
              "      <th>2</th>\n",
              "      <th>3</th>\n",
              "      <th>4</th>\n",
              "      <th>5</th>\n",
              "      <th>6</th>\n",
              "      <th>7</th>\n",
              "      <th>8</th>\n",
              "      <th>9</th>\n",
              "      <th>10</th>\n",
              "      <th>11</th>\n",
              "      <th>12</th>\n",
              "      <th>13</th>\n",
              "      <th>14</th>\n",
              "      <th>15</th>\n",
              "      <th>16</th>\n",
              "      <th>17</th>\n",
              "      <th>18</th>\n",
              "      <th>19</th>\n",
              "      <th>20</th>\n",
              "      <th>21</th>\n",
              "      <th>22</th>\n",
              "      <th>23</th>\n",
              "      <th>24</th>\n",
              "      <th>25</th>\n",
              "    </tr>\n",
              "  </thead>\n",
              "  <tbody>\n",
              "    <tr>\n",
              "      <th>0</th>\n",
              "      <td>3</td>\n",
              "      <td>?</td>\n",
              "      <td>alfa-romero</td>\n",
              "      <td>gas</td>\n",
              "      <td>std</td>\n",
              "      <td>two</td>\n",
              "      <td>convertible</td>\n",
              "      <td>rwd</td>\n",
              "      <td>front</td>\n",
              "      <td>88.6</td>\n",
              "      <td>168.8</td>\n",
              "      <td>64.1</td>\n",
              "      <td>48.8</td>\n",
              "      <td>2548</td>\n",
              "      <td>dohc</td>\n",
              "      <td>four</td>\n",
              "      <td>130</td>\n",
              "      <td>mpfi</td>\n",
              "      <td>3.47</td>\n",
              "      <td>2.68</td>\n",
              "      <td>9.0</td>\n",
              "      <td>111</td>\n",
              "      <td>5000</td>\n",
              "      <td>21</td>\n",
              "      <td>27</td>\n",
              "      <td>13495</td>\n",
              "    </tr>\n",
              "    <tr>\n",
              "      <th>1</th>\n",
              "      <td>3</td>\n",
              "      <td>?</td>\n",
              "      <td>alfa-romero</td>\n",
              "      <td>gas</td>\n",
              "      <td>std</td>\n",
              "      <td>two</td>\n",
              "      <td>convertible</td>\n",
              "      <td>rwd</td>\n",
              "      <td>front</td>\n",
              "      <td>88.6</td>\n",
              "      <td>168.8</td>\n",
              "      <td>64.1</td>\n",
              "      <td>48.8</td>\n",
              "      <td>2548</td>\n",
              "      <td>dohc</td>\n",
              "      <td>four</td>\n",
              "      <td>130</td>\n",
              "      <td>mpfi</td>\n",
              "      <td>3.47</td>\n",
              "      <td>2.68</td>\n",
              "      <td>9.0</td>\n",
              "      <td>111</td>\n",
              "      <td>5000</td>\n",
              "      <td>21</td>\n",
              "      <td>27</td>\n",
              "      <td>16500</td>\n",
              "    </tr>\n",
              "    <tr>\n",
              "      <th>2</th>\n",
              "      <td>1</td>\n",
              "      <td>?</td>\n",
              "      <td>alfa-romero</td>\n",
              "      <td>gas</td>\n",
              "      <td>std</td>\n",
              "      <td>two</td>\n",
              "      <td>hatchback</td>\n",
              "      <td>rwd</td>\n",
              "      <td>front</td>\n",
              "      <td>94.5</td>\n",
              "      <td>171.2</td>\n",
              "      <td>65.5</td>\n",
              "      <td>52.4</td>\n",
              "      <td>2823</td>\n",
              "      <td>ohcv</td>\n",
              "      <td>six</td>\n",
              "      <td>152</td>\n",
              "      <td>mpfi</td>\n",
              "      <td>2.68</td>\n",
              "      <td>3.47</td>\n",
              "      <td>9.0</td>\n",
              "      <td>154</td>\n",
              "      <td>5000</td>\n",
              "      <td>19</td>\n",
              "      <td>26</td>\n",
              "      <td>16500</td>\n",
              "    </tr>\n",
              "    <tr>\n",
              "      <th>3</th>\n",
              "      <td>2</td>\n",
              "      <td>164</td>\n",
              "      <td>audi</td>\n",
              "      <td>gas</td>\n",
              "      <td>std</td>\n",
              "      <td>four</td>\n",
              "      <td>sedan</td>\n",
              "      <td>fwd</td>\n",
              "      <td>front</td>\n",
              "      <td>99.8</td>\n",
              "      <td>176.6</td>\n",
              "      <td>66.2</td>\n",
              "      <td>54.3</td>\n",
              "      <td>2337</td>\n",
              "      <td>ohc</td>\n",
              "      <td>four</td>\n",
              "      <td>109</td>\n",
              "      <td>mpfi</td>\n",
              "      <td>3.19</td>\n",
              "      <td>3.40</td>\n",
              "      <td>10.0</td>\n",
              "      <td>102</td>\n",
              "      <td>5500</td>\n",
              "      <td>24</td>\n",
              "      <td>30</td>\n",
              "      <td>13950</td>\n",
              "    </tr>\n",
              "    <tr>\n",
              "      <th>4</th>\n",
              "      <td>2</td>\n",
              "      <td>164</td>\n",
              "      <td>audi</td>\n",
              "      <td>gas</td>\n",
              "      <td>std</td>\n",
              "      <td>four</td>\n",
              "      <td>sedan</td>\n",
              "      <td>4wd</td>\n",
              "      <td>front</td>\n",
              "      <td>99.4</td>\n",
              "      <td>176.6</td>\n",
              "      <td>66.4</td>\n",
              "      <td>54.3</td>\n",
              "      <td>2824</td>\n",
              "      <td>ohc</td>\n",
              "      <td>five</td>\n",
              "      <td>136</td>\n",
              "      <td>mpfi</td>\n",
              "      <td>3.19</td>\n",
              "      <td>3.40</td>\n",
              "      <td>8.0</td>\n",
              "      <td>115</td>\n",
              "      <td>5500</td>\n",
              "      <td>18</td>\n",
              "      <td>22</td>\n",
              "      <td>17450</td>\n",
              "    </tr>\n",
              "  </tbody>\n",
              "</table>\n",
              "</div>"
            ],
            "text/plain": [
              "   0    1            2    3    4     5   ...    20   21    22  23  24     25\n",
              "0   3    ?  alfa-romero  gas  std   two  ...   9.0  111  5000  21  27  13495\n",
              "1   3    ?  alfa-romero  gas  std   two  ...   9.0  111  5000  21  27  16500\n",
              "2   1    ?  alfa-romero  gas  std   two  ...   9.0  154  5000  19  26  16500\n",
              "3   2  164         audi  gas  std  four  ...  10.0  102  5500  24  30  13950\n",
              "4   2  164         audi  gas  std  four  ...   8.0  115  5500  18  22  17450\n",
              "\n",
              "[5 rows x 26 columns]"
            ]
          },
          "metadata": {
            "tags": []
          },
          "execution_count": 3
        }
      ]
    },
    {
      "cell_type": "markdown",
      "metadata": {
        "id": "y-m40dwtQ6xC"
      },
      "source": [
        "## Ejercicio 1\n",
        "\n",
        "**Vea las últimas 10 filas del** ***dataframe*** **\"df\".** Ingrese sus líneas de código a continuación:"
      ]
    },
    {
      "cell_type": "code",
      "metadata": {
        "jupyter": {
          "outputs_hidden": false
        },
        "id": "R5DOCF9FQ6xD"
      },
      "source": [
        "#Escriba su código a continuación y presione Shift + Enter para ejecutar\n"
      ],
      "execution_count": null,
      "outputs": []
    },
    {
      "cell_type": "markdown",
      "metadata": {
        "id": "dHx7wq0LQ6xG"
      },
      "source": [
        "**SOLUCIÓN DEL EJERCICIO:**"
      ]
    },
    {
      "cell_type": "markdown",
      "metadata": {
        "id": "1Lmfqf10Q6xH"
      },
      "source": [
        "Haga doble clic **aquí** para ver la solución del Ejercicio 1. \n",
        "\n",
        "<!-- La respuesta es la siguiente:\n",
        "\n",
        "print(\"Las últimas 10 filas del data frame\\n\")\n",
        "df.tail(10)\n",
        "\n",
        "-->"
      ]
    },
    {
      "cell_type": "markdown",
      "metadata": {
        "id": "kI1AsL8vQ6xH"
      },
      "source": [
        "## Agregar encabezado\n",
        "\n",
        "Para describir mejor nuestros datos, podemos agregar un encabezado que indique lo nombres de los atributos utilizados para describir cada automóvil, es decir, los nombres de las columnas de nuestro *dataframe*. La información de este encabezado se encuentra en el repositorio original del *dataset*: https://archive.ics.uci.edu/ml/datasets/Automobile\n",
        "<br><br>\n",
        "El encabezado se debe agregar manualmente siguiendo dos pasos. Primero, creamos una lista ```headers```que incluya todos los nombres de las columnas de manera ordenada. Luego, utilizamos el código ```dataframe.columns = headers``` para reeemplazar el encabezado por la lista que hemos creado."
      ]
    },
    {
      "cell_type": "code",
      "metadata": {
        "jupyter": {
          "outputs_hidden": false
        },
        "id": "M-kU5bHQQ6xI",
        "colab": {
          "base_uri": "https://localhost:8080/",
          "height": 71
        },
        "outputId": "c71e6e24-5b5e-495f-bc99-639c74d1f383"
      },
      "source": [
        "# Crear la lista de nombres para el encabezado\n",
        "headers = [\"factor-riesgo\",\"perdida-promedio-anual\",\"fabricante\",\"tipo-combustible\",\"aspiracion\", \"num-puertas\",\"estilo-carroceria\",\n",
        "         \"traccion\",\"ubicacion-motor\",\"distancia-entre-ejes\", \"longitud\",\"anchura\",\"altura\",\"peso-vacio\",\"tipo-motor\",\n",
        "         \"num-cilindros\", \"tamano-motor\",\"sistema-combustible\",\"calibre\",\"carrera\",\"relacion-compresion\",\"caballos-fuerza\",\n",
        "         \"pico-rpm\",\"millas_por_galon_ciudad\",\"millas_por_galon_carretera\",\"precio\"]\n",
        "print(\"encabezados\\n\", headers)"
      ],
      "execution_count": null,
      "outputs": [
        {
          "output_type": "stream",
          "text": [
            "encabezados\n",
            " ['factor-riesgo', 'perdida-promedio-anual', 'fabricante', 'tipo-combustible', 'aspiracion', 'num-puertas', 'estilo-carroceria', 'traccion', 'ubicacion-motor', 'distancia-entre-ejes', 'longitud', 'anchura', 'altura', 'peso-vacio', 'tipo-motor', 'num-cilindros', 'tamano-motor', 'sistema-combustible', 'calibre', 'carrera', 'relacion-compresion', 'caballos-fuerza', 'pico-rpm', 'millas_por_galon_ciudad', 'millas_por_galon_carretera', 'precio']\n"
          ],
          "name": "stdout"
        }
      ]
    },
    {
      "cell_type": "markdown",
      "metadata": {
        "id": "NnUSTauCQ6xO"
      },
      "source": [
        "Reemplazamos el encabezado y verificamos nuestro *data frame*:"
      ]
    },
    {
      "cell_type": "code",
      "metadata": {
        "jupyter": {
          "outputs_hidden": false
        },
        "id": "iwZvpcBOQ6xO",
        "colab": {
          "base_uri": "https://localhost:8080/",
          "height": 413
        },
        "outputId": "9046c364-9d8a-4a78-cb89-6f0d500fab0d"
      },
      "source": [
        "df.columns = headers\n",
        "df.head(10)"
      ],
      "execution_count": null,
      "outputs": [
        {
          "output_type": "execute_result",
          "data": {
            "text/html": [
              "<div>\n",
              "<style scoped>\n",
              "    .dataframe tbody tr th:only-of-type {\n",
              "        vertical-align: middle;\n",
              "    }\n",
              "\n",
              "    .dataframe tbody tr th {\n",
              "        vertical-align: top;\n",
              "    }\n",
              "\n",
              "    .dataframe thead th {\n",
              "        text-align: right;\n",
              "    }\n",
              "</style>\n",
              "<table border=\"1\" class=\"dataframe\">\n",
              "  <thead>\n",
              "    <tr style=\"text-align: right;\">\n",
              "      <th></th>\n",
              "      <th>factor-riesgo</th>\n",
              "      <th>perdida-promedio-anual</th>\n",
              "      <th>fabricante</th>\n",
              "      <th>tipo-combustible</th>\n",
              "      <th>aspiracion</th>\n",
              "      <th>num-puertas</th>\n",
              "      <th>estilo-carroceria</th>\n",
              "      <th>traccion</th>\n",
              "      <th>ubicacion-motor</th>\n",
              "      <th>distancia-entre-ejes</th>\n",
              "      <th>longitud</th>\n",
              "      <th>anchura</th>\n",
              "      <th>altura</th>\n",
              "      <th>peso-vacio</th>\n",
              "      <th>tipo-motor</th>\n",
              "      <th>num-cilindros</th>\n",
              "      <th>tamano-motor</th>\n",
              "      <th>sistema-combustible</th>\n",
              "      <th>calibre</th>\n",
              "      <th>carrera</th>\n",
              "      <th>relacion-compresion</th>\n",
              "      <th>caballos-fuerza</th>\n",
              "      <th>pico-rpm</th>\n",
              "      <th>millas_por_galon_ciudad</th>\n",
              "      <th>millas_por_galon_carretera</th>\n",
              "      <th>precio</th>\n",
              "    </tr>\n",
              "  </thead>\n",
              "  <tbody>\n",
              "    <tr>\n",
              "      <th>0</th>\n",
              "      <td>3</td>\n",
              "      <td>?</td>\n",
              "      <td>alfa-romero</td>\n",
              "      <td>gas</td>\n",
              "      <td>std</td>\n",
              "      <td>two</td>\n",
              "      <td>convertible</td>\n",
              "      <td>rwd</td>\n",
              "      <td>front</td>\n",
              "      <td>88.6</td>\n",
              "      <td>168.8</td>\n",
              "      <td>64.1</td>\n",
              "      <td>48.8</td>\n",
              "      <td>2548</td>\n",
              "      <td>dohc</td>\n",
              "      <td>four</td>\n",
              "      <td>130</td>\n",
              "      <td>mpfi</td>\n",
              "      <td>3.47</td>\n",
              "      <td>2.68</td>\n",
              "      <td>9.0</td>\n",
              "      <td>111</td>\n",
              "      <td>5000</td>\n",
              "      <td>21</td>\n",
              "      <td>27</td>\n",
              "      <td>13495</td>\n",
              "    </tr>\n",
              "    <tr>\n",
              "      <th>1</th>\n",
              "      <td>3</td>\n",
              "      <td>?</td>\n",
              "      <td>alfa-romero</td>\n",
              "      <td>gas</td>\n",
              "      <td>std</td>\n",
              "      <td>two</td>\n",
              "      <td>convertible</td>\n",
              "      <td>rwd</td>\n",
              "      <td>front</td>\n",
              "      <td>88.6</td>\n",
              "      <td>168.8</td>\n",
              "      <td>64.1</td>\n",
              "      <td>48.8</td>\n",
              "      <td>2548</td>\n",
              "      <td>dohc</td>\n",
              "      <td>four</td>\n",
              "      <td>130</td>\n",
              "      <td>mpfi</td>\n",
              "      <td>3.47</td>\n",
              "      <td>2.68</td>\n",
              "      <td>9.0</td>\n",
              "      <td>111</td>\n",
              "      <td>5000</td>\n",
              "      <td>21</td>\n",
              "      <td>27</td>\n",
              "      <td>16500</td>\n",
              "    </tr>\n",
              "    <tr>\n",
              "      <th>2</th>\n",
              "      <td>1</td>\n",
              "      <td>?</td>\n",
              "      <td>alfa-romero</td>\n",
              "      <td>gas</td>\n",
              "      <td>std</td>\n",
              "      <td>two</td>\n",
              "      <td>hatchback</td>\n",
              "      <td>rwd</td>\n",
              "      <td>front</td>\n",
              "      <td>94.5</td>\n",
              "      <td>171.2</td>\n",
              "      <td>65.5</td>\n",
              "      <td>52.4</td>\n",
              "      <td>2823</td>\n",
              "      <td>ohcv</td>\n",
              "      <td>six</td>\n",
              "      <td>152</td>\n",
              "      <td>mpfi</td>\n",
              "      <td>2.68</td>\n",
              "      <td>3.47</td>\n",
              "      <td>9.0</td>\n",
              "      <td>154</td>\n",
              "      <td>5000</td>\n",
              "      <td>19</td>\n",
              "      <td>26</td>\n",
              "      <td>16500</td>\n",
              "    </tr>\n",
              "    <tr>\n",
              "      <th>3</th>\n",
              "      <td>2</td>\n",
              "      <td>164</td>\n",
              "      <td>audi</td>\n",
              "      <td>gas</td>\n",
              "      <td>std</td>\n",
              "      <td>four</td>\n",
              "      <td>sedan</td>\n",
              "      <td>fwd</td>\n",
              "      <td>front</td>\n",
              "      <td>99.8</td>\n",
              "      <td>176.6</td>\n",
              "      <td>66.2</td>\n",
              "      <td>54.3</td>\n",
              "      <td>2337</td>\n",
              "      <td>ohc</td>\n",
              "      <td>four</td>\n",
              "      <td>109</td>\n",
              "      <td>mpfi</td>\n",
              "      <td>3.19</td>\n",
              "      <td>3.40</td>\n",
              "      <td>10.0</td>\n",
              "      <td>102</td>\n",
              "      <td>5500</td>\n",
              "      <td>24</td>\n",
              "      <td>30</td>\n",
              "      <td>13950</td>\n",
              "    </tr>\n",
              "    <tr>\n",
              "      <th>4</th>\n",
              "      <td>2</td>\n",
              "      <td>164</td>\n",
              "      <td>audi</td>\n",
              "      <td>gas</td>\n",
              "      <td>std</td>\n",
              "      <td>four</td>\n",
              "      <td>sedan</td>\n",
              "      <td>4wd</td>\n",
              "      <td>front</td>\n",
              "      <td>99.4</td>\n",
              "      <td>176.6</td>\n",
              "      <td>66.4</td>\n",
              "      <td>54.3</td>\n",
              "      <td>2824</td>\n",
              "      <td>ohc</td>\n",
              "      <td>five</td>\n",
              "      <td>136</td>\n",
              "      <td>mpfi</td>\n",
              "      <td>3.19</td>\n",
              "      <td>3.40</td>\n",
              "      <td>8.0</td>\n",
              "      <td>115</td>\n",
              "      <td>5500</td>\n",
              "      <td>18</td>\n",
              "      <td>22</td>\n",
              "      <td>17450</td>\n",
              "    </tr>\n",
              "    <tr>\n",
              "      <th>5</th>\n",
              "      <td>2</td>\n",
              "      <td>?</td>\n",
              "      <td>audi</td>\n",
              "      <td>gas</td>\n",
              "      <td>std</td>\n",
              "      <td>two</td>\n",
              "      <td>sedan</td>\n",
              "      <td>fwd</td>\n",
              "      <td>front</td>\n",
              "      <td>99.8</td>\n",
              "      <td>177.3</td>\n",
              "      <td>66.3</td>\n",
              "      <td>53.1</td>\n",
              "      <td>2507</td>\n",
              "      <td>ohc</td>\n",
              "      <td>five</td>\n",
              "      <td>136</td>\n",
              "      <td>mpfi</td>\n",
              "      <td>3.19</td>\n",
              "      <td>3.40</td>\n",
              "      <td>8.5</td>\n",
              "      <td>110</td>\n",
              "      <td>5500</td>\n",
              "      <td>19</td>\n",
              "      <td>25</td>\n",
              "      <td>15250</td>\n",
              "    </tr>\n",
              "    <tr>\n",
              "      <th>6</th>\n",
              "      <td>1</td>\n",
              "      <td>158</td>\n",
              "      <td>audi</td>\n",
              "      <td>gas</td>\n",
              "      <td>std</td>\n",
              "      <td>four</td>\n",
              "      <td>sedan</td>\n",
              "      <td>fwd</td>\n",
              "      <td>front</td>\n",
              "      <td>105.8</td>\n",
              "      <td>192.7</td>\n",
              "      <td>71.4</td>\n",
              "      <td>55.7</td>\n",
              "      <td>2844</td>\n",
              "      <td>ohc</td>\n",
              "      <td>five</td>\n",
              "      <td>136</td>\n",
              "      <td>mpfi</td>\n",
              "      <td>3.19</td>\n",
              "      <td>3.40</td>\n",
              "      <td>8.5</td>\n",
              "      <td>110</td>\n",
              "      <td>5500</td>\n",
              "      <td>19</td>\n",
              "      <td>25</td>\n",
              "      <td>17710</td>\n",
              "    </tr>\n",
              "    <tr>\n",
              "      <th>7</th>\n",
              "      <td>1</td>\n",
              "      <td>?</td>\n",
              "      <td>audi</td>\n",
              "      <td>gas</td>\n",
              "      <td>std</td>\n",
              "      <td>four</td>\n",
              "      <td>wagon</td>\n",
              "      <td>fwd</td>\n",
              "      <td>front</td>\n",
              "      <td>105.8</td>\n",
              "      <td>192.7</td>\n",
              "      <td>71.4</td>\n",
              "      <td>55.7</td>\n",
              "      <td>2954</td>\n",
              "      <td>ohc</td>\n",
              "      <td>five</td>\n",
              "      <td>136</td>\n",
              "      <td>mpfi</td>\n",
              "      <td>3.19</td>\n",
              "      <td>3.40</td>\n",
              "      <td>8.5</td>\n",
              "      <td>110</td>\n",
              "      <td>5500</td>\n",
              "      <td>19</td>\n",
              "      <td>25</td>\n",
              "      <td>18920</td>\n",
              "    </tr>\n",
              "    <tr>\n",
              "      <th>8</th>\n",
              "      <td>1</td>\n",
              "      <td>158</td>\n",
              "      <td>audi</td>\n",
              "      <td>gas</td>\n",
              "      <td>turbo</td>\n",
              "      <td>four</td>\n",
              "      <td>sedan</td>\n",
              "      <td>fwd</td>\n",
              "      <td>front</td>\n",
              "      <td>105.8</td>\n",
              "      <td>192.7</td>\n",
              "      <td>71.4</td>\n",
              "      <td>55.9</td>\n",
              "      <td>3086</td>\n",
              "      <td>ohc</td>\n",
              "      <td>five</td>\n",
              "      <td>131</td>\n",
              "      <td>mpfi</td>\n",
              "      <td>3.13</td>\n",
              "      <td>3.40</td>\n",
              "      <td>8.3</td>\n",
              "      <td>140</td>\n",
              "      <td>5500</td>\n",
              "      <td>17</td>\n",
              "      <td>20</td>\n",
              "      <td>23875</td>\n",
              "    </tr>\n",
              "    <tr>\n",
              "      <th>9</th>\n",
              "      <td>0</td>\n",
              "      <td>?</td>\n",
              "      <td>audi</td>\n",
              "      <td>gas</td>\n",
              "      <td>turbo</td>\n",
              "      <td>two</td>\n",
              "      <td>hatchback</td>\n",
              "      <td>4wd</td>\n",
              "      <td>front</td>\n",
              "      <td>99.5</td>\n",
              "      <td>178.2</td>\n",
              "      <td>67.9</td>\n",
              "      <td>52.0</td>\n",
              "      <td>3053</td>\n",
              "      <td>ohc</td>\n",
              "      <td>five</td>\n",
              "      <td>131</td>\n",
              "      <td>mpfi</td>\n",
              "      <td>3.13</td>\n",
              "      <td>3.40</td>\n",
              "      <td>7.0</td>\n",
              "      <td>160</td>\n",
              "      <td>5500</td>\n",
              "      <td>16</td>\n",
              "      <td>22</td>\n",
              "      <td>?</td>\n",
              "    </tr>\n",
              "  </tbody>\n",
              "</table>\n",
              "</div>"
            ],
            "text/plain": [
              "   factor-riesgo perdida-promedio-anual  ... millas_por_galon_carretera precio\n",
              "0              3                      ?  ...                         27  13495\n",
              "1              3                      ?  ...                         27  16500\n",
              "2              1                      ?  ...                         26  16500\n",
              "3              2                    164  ...                         30  13950\n",
              "4              2                    164  ...                         22  17450\n",
              "5              2                      ?  ...                         25  15250\n",
              "6              1                    158  ...                         25  17710\n",
              "7              1                      ?  ...                         25  18920\n",
              "8              1                    158  ...                         20  23875\n",
              "9              0                      ?  ...                         22      ?\n",
              "\n",
              "[10 rows x 26 columns]"
            ]
          },
          "metadata": {
            "tags": []
          },
          "execution_count": 5
        }
      ]
    },
    {
      "cell_type": "markdown",
      "metadata": {
        "id": "a6ZwPDVkQ6xU"
      },
      "source": [
        "Hasta aquí hemos leído con éxito el conjunto de datos sin procesar y hemos agregado los encabezados correctos al *data frame*."
      ]
    },
    {
      "cell_type": "markdown",
      "metadata": {
        "id": "6spSAoS3Q6xV"
      },
      "source": [
        "## Ejercicio 2\n",
        "**Imprima los nombres de las columnas del dataframe.** Ingrese sus líneas de código a continuación:\n"
      ]
    },
    {
      "cell_type": "code",
      "metadata": {
        "jupyter": {
          "outputs_hidden": false
        },
        "id": "wPaFwnwOQ6xV"
      },
      "source": [
        "# Escriba su código a continuación y presione Shift + Enter para ejecutar \n"
      ],
      "execution_count": null,
      "outputs": []
    },
    {
      "cell_type": "markdown",
      "metadata": {
        "id": "a_c-3cw8FxlI"
      },
      "source": [
        "**SOLUCIÓN DEL EJERCICIO:**"
      ]
    },
    {
      "cell_type": "markdown",
      "metadata": {
        "id": "zhcWRB70Q6xY"
      },
      "source": [
        "Haga doble clic **aquí** para ver la solución del Ejercicio \n",
        "\n",
        "1.   Elemento de la lista\n",
        "2.   Elemento de la lista\n",
        "\n",
        "2. \n",
        "\n",
        "<!-- La respuesta es la siguiente:\n",
        "\n",
        "print(df.columns)\n",
        "\n",
        "-->"
      ]
    },
    {
      "cell_type": "markdown",
      "metadata": {
        "id": "gwb3Cn63Q6xZ"
      },
      "source": [
        "# **Guardar el Dataset**\n",
        "\n",
        "Pandas nos permite guardar el dataset en CSV utilizando el método ```dataframe.to_csv()```. Dentro del paréntesis puede indicar la ruta y nombre del archivo entre comillas.\n",
        "<br><br>\n",
        "Por ejemplo, si desea guardar el dataframe ```df```en su máquina local, debe utilizar la siguiente sintaxis:\n",
        "<br>\n",
        "```df.to_csv(\"automobile.csv\", index=False)```\n",
        "<br><br>\n",
        "La línea de código anterior guardará el archivo en la máquina donde se ejecuta el código, esto quiere decir que quedará guardado en el servidor de Google Colab que le permite trabajar con este cuadero. En consecuencia, para descargar el archivo CSV creado en la nube, puede utilizar la librería ```files```de Google Colab para llevar a cabo esta acción.\n",
        "<br><br>\n",
        "El siguiente código guarda el archivo CSV y lo descarga."
      ]
    },
    {
      "cell_type": "code",
      "metadata": {
        "id": "XjDyNyeyPng9"
      },
      "source": [
        "from google.colab import files\n",
        "df.to_csv(\"automobile.csv\", index=False)\n",
        "files.download(\"automobile.csv\")"
      ],
      "execution_count": null,
      "outputs": []
    },
    {
      "cell_type": "markdown",
      "metadata": {
        "id": "MYeKNl4FQ6xa"
      },
      "source": [
        "**Guía para leer/guardar en otros formatos:**\n",
        "\n",
        "También podemos leer y guardar otros tipos de formatos utilizando funciones similares a **`pd.read_csv()`** y **`df.to_csv()`**. La siguiente tabla muestra una lista de funciones que le pueden servir:\n",
        "\n",
        "\n",
        "| Data Formate  | Read           | Save             |\n",
        "| ------------- |:--------------:| ----------------:|\n",
        "| csv           | `pd.read_csv()`  |`df.to_csv()`     |\n",
        "| json          | `pd.read_json()` |`df.to_json()`    |\n",
        "| excel         | `pd.read_excel()`|`df.to_excel()`   |\n",
        "| hdf           | `pd.read_hdf()`  |`df.to_hdf()`     |\n",
        "| sql           | `pd.read_sql()`  |`df.to_sql()`     |\n",
        "| ...           |   ...          |       ...        |"
      ]
    },
    {
      "cell_type": "markdown",
      "metadata": {
        "id": "rfWT6QrQQ6xb"
      },
      "source": [
        "\n",
        "Después de leer los datos por medio de un *data frame* con Pandas, es tiempo de explorar el *dataset*. **Esta actividad la realizaremos en una práctica posterior.**\n",
        "\n"
      ]
    },
    {
      "cell_type": "markdown",
      "metadata": {
        "id": "p0sRFhYw6C8Z"
      },
      "source": [
        "<h3>Acerca de los autores:</h3>\n",
        "\n",
        "Este cuaderno se hizo con base en el diseñado por <a href=\"https://www.linkedin.com/in/mahdi-noorian-58219234/\" target=\"_blank\">Mahdi Noorian PhD</a>, <a href=\"https://www.linkedin.com/in/joseph-s-50398b136/\" target=\"_blank\">Joseph Santarcangelo</a>, Bahare Talayian, Eric Xiao, Steven Dong, Parizad, Hima Vsudevan, <a href=\"https://www.linkedin.com/in/fiorellawever/\" target=\"_blank\">Fiorella Wenver</a> and <a href=\" https://www.linkedin.com/in/yi-leng-yao-84451275/ \" target=\"_blank\" >Yi Yao</a>.\n",
        "\n",
        "---\n",
        "\n",
        "Utilizamos y modificamos el cuaderno original, acogiéndonos a la Licencia <a href=\"https://cognitiveclass.ai/mit-license/\">MIT License</a>."
      ]
    }
  ]
}