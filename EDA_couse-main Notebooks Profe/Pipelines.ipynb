{
  "nbformat": 4,
  "nbformat_minor": 0,
  "metadata": {
    "colab": {
      "provenance": [],
      "authorship_tag": "ABX9TyN+9l1pEVJFH4Y/hciGyuwK",
      "include_colab_link": true
    },
    "kernelspec": {
      "name": "python3",
      "display_name": "Python 3"
    },
    "language_info": {
      "name": "python"
    }
  },
  "cells": [
    {
      "cell_type": "markdown",
      "metadata": {
        "id": "view-in-github",
        "colab_type": "text"
      },
      "source": [
        "<a href=\"https://colab.research.google.com/github/armandoordonez/eda_couse/blob/main/Pipelines.ipynb\" target=\"_parent\"><img src=\"https://colab.research.google.com/assets/colab-badge.svg\" alt=\"Open In Colab\"/></a>"
      ]
    },
    {
      "cell_type": "code",
      "execution_count": 10,
      "metadata": {
        "id": "wpBIvHapBi0D"
      },
      "outputs": [],
      "source": [
        "# Based on: https://www.askpython.com/python/examples/pipelining-in-python\n",
        "\n",
        "\n",
        "from sklearn.linear_model import LogisticRegression\n",
        "from sklearn.decomposition import PCA\n",
        "from sklearn.feature_selection import SelectKBest\n",
        "from pandas import read_csv\n",
        "from sklearn.model_selection import KFold\n",
        "from sklearn.model_selection import cross_val_score\n",
        "from sklearn.pipeline import Pipeline\n",
        "from sklearn.pipeline import FeatureUnion\n",
        "import pandas as pd\n"
      ]
    },
    {
      "cell_type": "markdown",
      "source": [
        "# Import libraries"
      ],
      "metadata": {
        "id": "lUXmwekaBjVa"
      }
    },
    {
      "cell_type": "code",
      "source": [
        "\n"
      ],
      "metadata": {
        "id": "wgEwflKLBjiv"
      },
      "execution_count": 10,
      "outputs": []
    },
    {
      "cell_type": "code",
      "source": [
        "url_data = \"https://raw.githubusercontent.com/jbrownlee/Datasets/master/pima-indians-diabetes.data.csv\"\n",
        "varnames = ['var_preg', 'var_plas', 'var_pres', 'var_skin', 'var_test', 'var_mass', 'var_pedi', 'var_age', 'var_class']\n",
        "vardataframe = pd.read_csv(url_data, names=varnames)\n",
        "vararray = vardataframe.values\n",
        "varX = vararray[:,0:8]\n",
        "varY = vararray[:,8]"
      ],
      "metadata": {
        "id": "-ye70F8mBoDQ"
      },
      "execution_count": 5,
      "outputs": []
    },
    {
      "cell_type": "code",
      "source": [
        "urlfeatures = []\n",
        "urlfeatures.append(('pca', PCA(n_components=3)))\n",
        "urlfeatures.append(('select_best', SelectKBest(k=6)))\n",
        "\n",
        "feature_union = FeatureUnion(urlfeatures)\n",
        "\n",
        "# Estimators\n",
        "estimators = []\n",
        "estimators.append(('feature_union', feature_union))\n",
        "estimators.append(('logistic', LogisticRegression(max_iter=1000)))\n",
        "\n",
        "# Model\n",
        "model = Pipeline(estimators)\n",
        "\n",
        "# The pipelie is tested here\n",
        "seed = 7\n",
        "varkfold = KFold(n_splits=10)\n",
        "dataresults = cross_val_score(model, varX, varY, cv=varkfold)\n",
        "\n",
        "print(dataresults.mean())"
      ],
      "metadata": {
        "colab": {
          "base_uri": "https://localhost:8080/"
        },
        "id": "sMCOOA6xBsHq",
        "outputId": "1da2698c-b3d0-4699-b708-c507275d8a64"
      },
      "execution_count": 9,
      "outputs": [
        {
          "output_type": "stream",
          "name": "stdout",
          "text": [
            "0.7760423786739576\n"
          ]
        }
      ]
    },
    {
      "cell_type": "code",
      "source": [],
      "metadata": {
        "id": "EjuEo1mfB-3_"
      },
      "execution_count": null,
      "outputs": []
    }
  ]
}