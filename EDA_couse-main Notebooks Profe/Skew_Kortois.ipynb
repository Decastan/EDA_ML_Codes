{
  "nbformat": 4,
  "nbformat_minor": 0,
  "metadata": {
    "colab": {
      "provenance": [],
      "authorship_tag": "ABX9TyMsrkFl/8WosQ/3VrAgwHmD",
      "include_colab_link": true
    },
    "kernelspec": {
      "name": "python3",
      "display_name": "Python 3"
    },
    "language_info": {
      "name": "python"
    }
  },
  "cells": [
    {
      "cell_type": "markdown",
      "metadata": {
        "id": "view-in-github",
        "colab_type": "text"
      },
      "source": [
        "<a href=\"https://colab.research.google.com/github/armandoordonez/eda_couse/blob/main/Skew_Kortois.ipynb\" target=\"_parent\"><img src=\"https://colab.research.google.com/assets/colab-badge.svg\" alt=\"Open In Colab\"/></a>"
      ]
    },
    {
      "cell_type": "code",
      "execution_count": 2,
      "metadata": {
        "colab": {
          "base_uri": "https://localhost:8080/",
          "height": 320
        },
        "id": "Al7D2c2LP9l6",
        "outputId": "7c217633-54f9-4cc0-d188-99caeaa40473"
      },
      "outputs": [
        {
          "output_type": "stream",
          "name": "stderr",
          "text": [
            "/usr/local/lib/python3.8/dist-packages/seaborn/distributions.py:2619: FutureWarning: `distplot` is a deprecated function and will be removed in a future version. Please adapt your code to use either `displot` (a figure-level function with similar flexibility) or `histplot` (an axes-level function for histograms).\n",
            "  warnings.warn(msg, FutureWarning)\n"
          ]
        },
        {
          "output_type": "display_data",
          "data": {
            "text/plain": [
              "<Figure size 432x288 with 1 Axes>"
            ],
            "image/png": "[encoded data removed]"
          },
          "metadata": {
            "needs_background": "light"
          }
        }
      ],
      "source": [
        "import seaborn as sns\n",
        "import matplotlib.pyplot as plt\n",
        "from scipy.stats import kurtosis, skew\n",
        "import random\n",
        "\n",
        "\n",
        "age_group = random.sample(range(2, 101), 50)\n",
        "\n",
        "\n",
        "\n",
        "fig, ax = plt.subplots()\n",
        "sns.distplot(age_group, ax = ax, bins=5)\n",
        "ax.set_xlim(1, 100)\n",
        "plt.show()"
      ]
    },
    {
      "cell_type": "code",
      "source": [
        "skew(age_group)"
      ],
      "metadata": {
        "colab": {
          "base_uri": "https://localhost:8080/"
        },
        "id": "2Vm0PXk7P-bC",
        "outputId": "01f35485-6cd8-4c80-ba88-72101d385b28"
      },
      "execution_count": 3,
      "outputs": [
        {
          "output_type": "execute_result",
          "data": {
            "text/plain": [
              "-0.021731765590366544"
            ]
          },
          "metadata": {},
          "execution_count": 3
        }
      ]
    },
    {
      "cell_type": "code",
      "source": [
        "kurtosis(age_group, fisher=False)\n",
        "#Fisher is set to False as we are using the Pearson's definition where normal = 3."
      ],
      "metadata": {
        "colab": {
          "base_uri": "https://localhost:8080/"
        },
        "id": "_8Anc3C1QVZP",
        "outputId": "81ce13d5-ad3f-43a2-a391-0fd6c71f2132"
      },
      "execution_count": 4,
      "outputs": [
        {
          "output_type": "execute_result",
          "data": {
            "text/plain": [
              "1.9085667740548582"
            ]
          },
          "metadata": {},
          "execution_count": 4
        }
      ]
    },
    {
      "cell_type": "markdown",
      "source": [
        "The kurtosis is to be platykurtic (< 3), this proves that a number of outliers is almost nonexistent.\n"
      ],
      "metadata": {
        "id": "xYR8HhpqQf_W"
      }
    },
    {
      "cell_type": "code",
      "source": [],
      "metadata": {
        "id": "YMLCZzGHQbrJ"
      },
      "execution_count": null,
      "outputs": []
    }
  ]
}