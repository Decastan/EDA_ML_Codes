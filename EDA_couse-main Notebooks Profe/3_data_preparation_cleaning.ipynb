{
 "cells": [
  {
   "cell_type": "markdown",
   "metadata": {
    "id": "i0W7bw9QVYX8"
   },
   "source": [
    "<p><img height=\"45px\" src=\"https://drive.google.com/uc?id=1dusNXTL_M0CB5BJDB_GCvTKNCqYz10U6\"align=\"left\" hspace=\"10px\" vspace=\"0px\"></p>\n",
    "\n",
    "<h1>Preparación de los datos</h1>\n",
    "<br>\n",
    "\n",
    "*Tiempo aproximado:* ***1 hora***\n",
    "\n",
    "---"
   ]
  },
  {
   "cell_type": "markdown",
   "metadata": {
    "id": "Exg6vI6eVYX9"
   },
   "source": [
    "# **Introducción**\n",
    "\n",
    "Cuando se realiza un proceso de comprensión de los datos, es posible encontrar algunos problemas potenciales que deben abordarse antes de la estapa de modelado. En esta práctica, aprenderá cómo puede manejar algunos problemas frecuentes de calidad de datos y preparar el conjunto de datos correctamente (instancias o atributos duplicados o irrelevantes, valores incorrectos, valores perdidos). Pero tenga cuidado: algunos problemas con los que se puede encontrar en su carrera como científico de datos, no necesariamente deben solucionarse. Algunos de los valores sospechosos o inesperados que encuentre pueden ser genuinos desde el punto de vista comercial. Por lo tanto, es extremadamente importante obtener el visto bueno del equipo de ingeniería de datos antes de modificar el *dataset*. Es su responsabilidad asegurarse de que está tomando las decisiones correctas para la empresa mientras prepara el conjunto de datos.\n",
    "<br><br>\n",
    "**Importar los datos**\n",
    "\n",
    "Para iniciar, importe la librería pandas y lea el archivo CSV que contiene el *dataset*, utilizando el método ```read_csv()```y la dirección URL https://raw.githubusercontent.com/lvmeninnovations/datasets/main/crispdm/auto.csv que almacena los datos (el *dataset* que utilizará es el mismo que exploró en la práctica anterior).\n"
   ]
  },
  {
   "cell_type": "code",
   "execution_count": 1,
   "metadata": {
    "executionInfo": {
     "elapsed": 1119,
     "status": "ok",
     "timestamp": 1617668288562,
     "user": {
      "displayName": "Lvmen Innovations",
      "photoUrl": "",
      "userId": "00377461434728345638"
     },
     "user_tz": 300
    },
    "id": "UpXrShecVYYD"
   },
   "outputs": [],
   "source": [
    "# Importar librería pandas\n",
    "import pandas as pd\n",
    "#import matplotlib.pylab as plt\n",
    "\n",
    "# URL del dataset\n",
    "filename = \"https://raw.githubusercontent.com/lvmeninnovations/datasets/main/crispdm/auto.csv\"\n",
    "\n",
    "# Lista de encabezados o nombres de los atributos\n",
    "headers = [\"factor-riesgo\",\"perdida-promedio-anual\",\"fabricante\",\"tipo-combustible\",\"aspiracion\", \"num-puertas\",\"estilo-carroceria\",\n",
    "         \"traccion\",\"ubicacion-motor\",\"distancia-entre-ejes\", \"longitud\",\"anchura\",\"altura\",\"peso-vacio\",\"tipo-motor\",\n",
    "         \"num-cilindros\", \"tamano-motor\",\"sistema-combustible\",\"calibre\",\"carrera\",\"relacion-compresion\",\"caballos-fuerza\",\n",
    "         \"pico-rpm\",\"millas_por_galon_ciudad\",\"millas_por_galon_carretera\",\"precio\"]\n",
    "\n",
    "# Leer el archivo CSV\n",
    "df = pd.read_csv(filename, names = headers)"
   ]
  },
  {
   "cell_type": "markdown",
   "metadata": {
    "id": "dcihylmgVYYT"
   },
   "source": [
    "Utilice el método ```head()```para visualizar las primeras cinco filas del *data frame*."
   ]
  },
  {
   "cell_type": "code",
   "execution_count": 2,
   "metadata": {
    "colab": {
     "base_uri": "https://localhost:8080/",
     "height": 258
    },
    "executionInfo": {
     "elapsed": 1129,
     "status": "ok",
     "timestamp": 1617668288584,
     "user": {
      "displayName": "Lvmen Innovations",
      "photoUrl": "",
      "userId": "00377461434728345638"
     },
     "user_tz": 300
    },
    "id": "Vq-wPCmMVYYU",
    "jupyter": {
     "outputs_hidden": false
    },
    "outputId": "018e8c68-91fe-47d3-b271-c08ce059e76a"
   },
   "outputs": [
    {
     "data": {
      "text/html": [
       "<div>\n",
       "<style scoped>\n",
       "    .dataframe tbody tr th:only-of-type {\n",
       "        vertical-align: middle;\n",
       "    }\n",
       "\n",
       "    .dataframe tbody tr th {\n",
       "        vertical-align: top;\n",
       "    }\n",
       "\n",
       "    .dataframe thead th {\n",
       "        text-align: right;\n",
       "    }\n",
       "</style>\n",
       "<table border=\"1\" class=\"dataframe\">\n",
       "  <thead>\n",
       "    <tr style=\"text-align: right;\">\n",
       "      <th></th>\n",
       "      <th>factor-riesgo</th>\n",
       "      <th>perdida-promedio-anual</th>\n",
       "      <th>fabricante</th>\n",
       "      <th>tipo-combustible</th>\n",
       "      <th>aspiracion</th>\n",
       "      <th>num-puertas</th>\n",
       "      <th>estilo-carroceria</th>\n",
       "      <th>traccion</th>\n",
       "      <th>ubicacion-motor</th>\n",
       "      <th>distancia-entre-ejes</th>\n",
       "      <th>longitud</th>\n",
       "      <th>anchura</th>\n",
       "      <th>altura</th>\n",
       "      <th>peso-vacio</th>\n",
       "      <th>tipo-motor</th>\n",
       "      <th>num-cilindros</th>\n",
       "      <th>tamano-motor</th>\n",
       "      <th>sistema-combustible</th>\n",
       "      <th>calibre</th>\n",
       "      <th>carrera</th>\n",
       "      <th>relacion-compresion</th>\n",
       "      <th>caballos-fuerza</th>\n",
       "      <th>pico-rpm</th>\n",
       "      <th>millas_por_galon_ciudad</th>\n",
       "      <th>millas_por_galon_carretera</th>\n",
       "      <th>precio</th>\n",
       "    </tr>\n",
       "  </thead>\n",
       "  <tbody>\n",
       "    <tr>\n",
       "      <th>0</th>\n",
       "      <td>3</td>\n",
       "      <td>?</td>\n",
       "      <td>alfa-romero</td>\n",
       "      <td>gas</td>\n",
       "      <td>std</td>\n",
       "      <td>two</td>\n",
       "      <td>convertible</td>\n",
       "      <td>rwd</td>\n",
       "      <td>front</td>\n",
       "      <td>88.6</td>\n",
       "      <td>168.8</td>\n",
       "      <td>64.1</td>\n",
       "      <td>48.8</td>\n",
       "      <td>2548</td>\n",
       "      <td>dohc</td>\n",
       "      <td>four</td>\n",
       "      <td>130</td>\n",
       "      <td>mpfi</td>\n",
       "      <td>3.47</td>\n",
       "      <td>2.68</td>\n",
       "      <td>9.0</td>\n",
       "      <td>111</td>\n",
       "      <td>5000</td>\n",
       "      <td>21</td>\n",
       "      <td>27</td>\n",
       "      <td>13495</td>\n",
       "    </tr>\n",
       "    <tr>\n",
       "      <th>1</th>\n",
       "      <td>3</td>\n",
       "      <td>?</td>\n",
       "      <td>alfa-romero</td>\n",
       "      <td>gas</td>\n",
       "      <td>std</td>\n",
       "      <td>two</td>\n",
       "      <td>convertible</td>\n",
       "      <td>rwd</td>\n",
       "      <td>front</td>\n",
       "      <td>88.6</td>\n",
       "      <td>168.8</td>\n",
       "      <td>64.1</td>\n",
       "      <td>48.8</td>\n",
       "      <td>2548</td>\n",
       "      <td>dohc</td>\n",
       "      <td>four</td>\n",
       "      <td>130</td>\n",
       "      <td>mpfi</td>\n",
       "      <td>3.47</td>\n",
       "      <td>2.68</td>\n",
       "      <td>9.0</td>\n",
       "      <td>111</td>\n",
       "      <td>5000</td>\n",
       "      <td>21</td>\n",
       "      <td>27</td>\n",
       "      <td>16500</td>\n",
       "    </tr>\n",
       "    <tr>\n",
       "      <th>2</th>\n",
       "      <td>1</td>\n",
       "      <td>?</td>\n",
       "      <td>alfa-romero</td>\n",
       "      <td>gas</td>\n",
       "      <td>std</td>\n",
       "      <td>two</td>\n",
       "      <td>hatchback</td>\n",
       "      <td>rwd</td>\n",
       "      <td>front</td>\n",
       "      <td>94.5</td>\n",
       "      <td>171.2</td>\n",
       "      <td>65.5</td>\n",
       "      <td>52.4</td>\n",
       "      <td>2823</td>\n",
       "      <td>ohcv</td>\n",
       "      <td>six</td>\n",
       "      <td>152</td>\n",
       "      <td>mpfi</td>\n",
       "      <td>2.68</td>\n",
       "      <td>3.47</td>\n",
       "      <td>9.0</td>\n",
       "      <td>154</td>\n",
       "      <td>5000</td>\n",
       "      <td>19</td>\n",
       "      <td>26</td>\n",
       "      <td>16500</td>\n",
       "    </tr>\n",
       "    <tr>\n",
       "      <th>3</th>\n",
       "      <td>2</td>\n",
       "      <td>164</td>\n",
       "      <td>audi</td>\n",
       "      <td>gas</td>\n",
       "      <td>std</td>\n",
       "      <td>four</td>\n",
       "      <td>sedan</td>\n",
       "      <td>fwd</td>\n",
       "      <td>front</td>\n",
       "      <td>99.8</td>\n",
       "      <td>176.6</td>\n",
       "      <td>66.2</td>\n",
       "      <td>54.3</td>\n",
       "      <td>2337</td>\n",
       "      <td>ohc</td>\n",
       "      <td>four</td>\n",
       "      <td>109</td>\n",
       "      <td>mpfi</td>\n",
       "      <td>3.19</td>\n",
       "      <td>3.40</td>\n",
       "      <td>10.0</td>\n",
       "      <td>102</td>\n",
       "      <td>5500</td>\n",
       "      <td>24</td>\n",
       "      <td>30</td>\n",
       "      <td>13950</td>\n",
       "    </tr>\n",
       "    <tr>\n",
       "      <th>4</th>\n",
       "      <td>2</td>\n",
       "      <td>164</td>\n",
       "      <td>audi</td>\n",
       "      <td>gas</td>\n",
       "      <td>std</td>\n",
       "      <td>four</td>\n",
       "      <td>sedan</td>\n",
       "      <td>4wd</td>\n",
       "      <td>front</td>\n",
       "      <td>99.4</td>\n",
       "      <td>176.6</td>\n",
       "      <td>66.4</td>\n",
       "      <td>54.3</td>\n",
       "      <td>2824</td>\n",
       "      <td>ohc</td>\n",
       "      <td>five</td>\n",
       "      <td>136</td>\n",
       "      <td>mpfi</td>\n",
       "      <td>3.19</td>\n",
       "      <td>3.40</td>\n",
       "      <td>8.0</td>\n",
       "      <td>115</td>\n",
       "      <td>5500</td>\n",
       "      <td>18</td>\n",
       "      <td>22</td>\n",
       "      <td>17450</td>\n",
       "    </tr>\n",
       "  </tbody>\n",
       "</table>\n",
       "</div>"
      ],
      "text/plain": [
       "   factor-riesgo perdida-promedio-anual  ... millas_por_galon_carretera precio\n",
       "0              3                      ?  ...                         27  13495\n",
       "1              3                      ?  ...                         27  16500\n",
       "2              1                      ?  ...                         26  16500\n",
       "3              2                    164  ...                         30  13950\n",
       "4              2                    164  ...                         22  17450\n",
       "\n",
       "[5 rows x 26 columns]"
      ]
     },
     "execution_count": 2,
     "metadata": {
      "tags": []
     },
     "output_type": "execute_result"
    }
   ],
   "source": [
    "# Para ver cómo luce el dataset, utilizamos el método head().\n",
    "df.head()"
   ]
  },
  {
   "cell_type": "markdown",
   "metadata": {
    "id": "--hSnfZvVYYY"
   },
   "source": [
    "# **Identificar y manejar valores perdidos**\n",
    "\n",
    "Si ejecutó el código anterior, pudo darse cuenta que aparecen signos de interrogación en algunas celdas; esos son valores perdidos que pueden dificultar nuestro análisis posterior. ¿Cómo podemos identificar y lidiar con esos valores perdidos en el *data frame*?\n",
    "<br><br>\n",
    "Pasos para trabajar con datos perdidos.\n",
    "* Identificar valores perdidos\n",
    "* Lidiar con valores perdidos\n",
    "* Corregir formato de datos "
   ]
  },
  {
   "cell_type": "markdown",
   "metadata": {
    "id": "FPNgvEVB0vFj"
   },
   "source": [
    "## Identificar valores perdidos \n",
    "* ***Convertir \"?\" a NaN***\n",
    "\n",
    "En nuestro conjunto de datos, los datos perdidos están marcados con un signo de interrogación \"?\". Para que pandas reconozca la existencia de valores perdidos dentro del *data frame*, es necesarios marcarlos como tal. En este caso, el marcador predeterminado que utiliza Python es **NaN (Not a Number)**. \n",
    "<br><br>\n",
    "Utilizaremos la función ```.replace(A, B, inplace = True)```para reemplazar A por B. Para poder utilizar esta función, debe importar la librería ```numpy```."
   ]
  },
  {
   "cell_type": "code",
   "execution_count": 3,
   "metadata": {
    "colab": {
     "base_uri": "https://localhost:8080/",
     "height": 258
    },
    "executionInfo": {
     "elapsed": 1601,
     "status": "ok",
     "timestamp": 1617668289060,
     "user": {
      "displayName": "Lvmen Innovations",
      "photoUrl": "",
      "userId": "00377461434728345638"
     },
     "user_tz": 300
    },
    "id": "NJ3ZmsKaVYYY",
    "jupyter": {
     "outputs_hidden": false
    },
    "outputId": "f33c9405-1233-4c2c-c41a-84e06c60ffd5"
   },
   "outputs": [
    {
     "data": {
      "text/html": [
       "<div>\n",
       "<style scoped>\n",
       "    .dataframe tbody tr th:only-of-type {\n",
       "        vertical-align: middle;\n",
       "    }\n",
       "\n",
       "    .dataframe tbody tr th {\n",
       "        vertical-align: top;\n",
       "    }\n",
       "\n",
       "    .dataframe thead th {\n",
       "        text-align: right;\n",
       "    }\n",
       "</style>\n",
       "<table border=\"1\" class=\"dataframe\">\n",
       "  <thead>\n",
       "    <tr style=\"text-align: right;\">\n",
       "      <th></th>\n",
       "      <th>factor-riesgo</th>\n",
       "      <th>perdida-promedio-anual</th>\n",
       "      <th>fabricante</th>\n",
       "      <th>tipo-combustible</th>\n",
       "      <th>aspiracion</th>\n",
       "      <th>num-puertas</th>\n",
       "      <th>estilo-carroceria</th>\n",
       "      <th>traccion</th>\n",
       "      <th>ubicacion-motor</th>\n",
       "      <th>distancia-entre-ejes</th>\n",
       "      <th>longitud</th>\n",
       "      <th>anchura</th>\n",
       "      <th>altura</th>\n",
       "      <th>peso-vacio</th>\n",
       "      <th>tipo-motor</th>\n",
       "      <th>num-cilindros</th>\n",
       "      <th>tamano-motor</th>\n",
       "      <th>sistema-combustible</th>\n",
       "      <th>calibre</th>\n",
       "      <th>carrera</th>\n",
       "      <th>relacion-compresion</th>\n",
       "      <th>caballos-fuerza</th>\n",
       "      <th>pico-rpm</th>\n",
       "      <th>millas_por_galon_ciudad</th>\n",
       "      <th>millas_por_galon_carretera</th>\n",
       "      <th>precio</th>\n",
       "    </tr>\n",
       "  </thead>\n",
       "  <tbody>\n",
       "    <tr>\n",
       "      <th>0</th>\n",
       "      <td>3</td>\n",
       "      <td>NaN</td>\n",
       "      <td>alfa-romero</td>\n",
       "      <td>gas</td>\n",
       "      <td>std</td>\n",
       "      <td>two</td>\n",
       "      <td>convertible</td>\n",
       "      <td>rwd</td>\n",
       "      <td>front</td>\n",
       "      <td>88.6</td>\n",
       "      <td>168.8</td>\n",
       "      <td>64.1</td>\n",
       "      <td>48.8</td>\n",
       "      <td>2548</td>\n",
       "      <td>dohc</td>\n",
       "      <td>four</td>\n",
       "      <td>130</td>\n",
       "      <td>mpfi</td>\n",
       "      <td>3.47</td>\n",
       "      <td>2.68</td>\n",
       "      <td>9.0</td>\n",
       "      <td>111</td>\n",
       "      <td>5000</td>\n",
       "      <td>21</td>\n",
       "      <td>27</td>\n",
       "      <td>13495</td>\n",
       "    </tr>\n",
       "    <tr>\n",
       "      <th>1</th>\n",
       "      <td>3</td>\n",
       "      <td>NaN</td>\n",
       "      <td>alfa-romero</td>\n",
       "      <td>gas</td>\n",
       "      <td>std</td>\n",
       "      <td>two</td>\n",
       "      <td>convertible</td>\n",
       "      <td>rwd</td>\n",
       "      <td>front</td>\n",
       "      <td>88.6</td>\n",
       "      <td>168.8</td>\n",
       "      <td>64.1</td>\n",
       "      <td>48.8</td>\n",
       "      <td>2548</td>\n",
       "      <td>dohc</td>\n",
       "      <td>four</td>\n",
       "      <td>130</td>\n",
       "      <td>mpfi</td>\n",
       "      <td>3.47</td>\n",
       "      <td>2.68</td>\n",
       "      <td>9.0</td>\n",
       "      <td>111</td>\n",
       "      <td>5000</td>\n",
       "      <td>21</td>\n",
       "      <td>27</td>\n",
       "      <td>16500</td>\n",
       "    </tr>\n",
       "    <tr>\n",
       "      <th>2</th>\n",
       "      <td>1</td>\n",
       "      <td>NaN</td>\n",
       "      <td>alfa-romero</td>\n",
       "      <td>gas</td>\n",
       "      <td>std</td>\n",
       "      <td>two</td>\n",
       "      <td>hatchback</td>\n",
       "      <td>rwd</td>\n",
       "      <td>front</td>\n",
       "      <td>94.5</td>\n",
       "      <td>171.2</td>\n",
       "      <td>65.5</td>\n",
       "      <td>52.4</td>\n",
       "      <td>2823</td>\n",
       "      <td>ohcv</td>\n",
       "      <td>six</td>\n",
       "      <td>152</td>\n",
       "      <td>mpfi</td>\n",
       "      <td>2.68</td>\n",
       "      <td>3.47</td>\n",
       "      <td>9.0</td>\n",
       "      <td>154</td>\n",
       "      <td>5000</td>\n",
       "      <td>19</td>\n",
       "      <td>26</td>\n",
       "      <td>16500</td>\n",
       "    </tr>\n",
       "    <tr>\n",
       "      <th>3</th>\n",
       "      <td>2</td>\n",
       "      <td>164</td>\n",
       "      <td>audi</td>\n",
       "      <td>gas</td>\n",
       "      <td>std</td>\n",
       "      <td>four</td>\n",
       "      <td>sedan</td>\n",
       "      <td>fwd</td>\n",
       "      <td>front</td>\n",
       "      <td>99.8</td>\n",
       "      <td>176.6</td>\n",
       "      <td>66.2</td>\n",
       "      <td>54.3</td>\n",
       "      <td>2337</td>\n",
       "      <td>ohc</td>\n",
       "      <td>four</td>\n",
       "      <td>109</td>\n",
       "      <td>mpfi</td>\n",
       "      <td>3.19</td>\n",
       "      <td>3.40</td>\n",
       "      <td>10.0</td>\n",
       "      <td>102</td>\n",
       "      <td>5500</td>\n",
       "      <td>24</td>\n",
       "      <td>30</td>\n",
       "      <td>13950</td>\n",
       "    </tr>\n",
       "    <tr>\n",
       "      <th>4</th>\n",
       "      <td>2</td>\n",
       "      <td>164</td>\n",
       "      <td>audi</td>\n",
       "      <td>gas</td>\n",
       "      <td>std</td>\n",
       "      <td>four</td>\n",
       "      <td>sedan</td>\n",
       "      <td>4wd</td>\n",
       "      <td>front</td>\n",
       "      <td>99.4</td>\n",
       "      <td>176.6</td>\n",
       "      <td>66.4</td>\n",
       "      <td>54.3</td>\n",
       "      <td>2824</td>\n",
       "      <td>ohc</td>\n",
       "      <td>five</td>\n",
       "      <td>136</td>\n",
       "      <td>mpfi</td>\n",
       "      <td>3.19</td>\n",
       "      <td>3.40</td>\n",
       "      <td>8.0</td>\n",
       "      <td>115</td>\n",
       "      <td>5500</td>\n",
       "      <td>18</td>\n",
       "      <td>22</td>\n",
       "      <td>17450</td>\n",
       "    </tr>\n",
       "  </tbody>\n",
       "</table>\n",
       "</div>"
      ],
      "text/plain": [
       "   factor-riesgo perdida-promedio-anual  ... millas_por_galon_carretera precio\n",
       "0              3                    NaN  ...                         27  13495\n",
       "1              3                    NaN  ...                         27  16500\n",
       "2              1                    NaN  ...                         26  16500\n",
       "3              2                    164  ...                         30  13950\n",
       "4              2                    164  ...                         22  17450\n",
       "\n",
       "[5 rows x 26 columns]"
      ]
     },
     "execution_count": 3,
     "metadata": {
      "tags": []
     },
     "output_type": "execute_result"
    }
   ],
   "source": [
    "import numpy as np\n",
    "\n",
    "# Reemplazar \"?\" por NaN\n",
    "df.replace(\"?\", np.nan, inplace = True)\n",
    "df.head(5)"
   ]
  },
  {
   "cell_type": "markdown",
   "metadata": {
    "id": "q6MsTNjRVYYb"
   },
   "source": [
    "* ***Evaluar los datos perdidos***\n",
    "Una vez convertidos los datos perdidos a los valores predeterminados de Python, pasamos a utilizar funciones integradas de Python que nos permiten identificar estos datos. Hay tres métodos para detectar valores perdidos: ```.isnull()```, ```.notnull()``` y ```.isna()```. Sus salidas son un valor booleano que indica si el valor que se pasa en los argumentos es un dato perdido."
   ]
  },
  {
   "cell_type": "code",
   "execution_count": 4,
   "metadata": {
    "colab": {
     "base_uri": "https://localhost:8080/",
     "height": 258
    },
    "executionInfo": {
     "elapsed": 1601,
     "status": "ok",
     "timestamp": 1617668289067,
     "user": {
      "displayName": "Lvmen Innovations",
      "photoUrl": "",
      "userId": "00377461434728345638"
     },
     "user_tz": 300
    },
    "id": "fas6np4EVYYb",
    "jupyter": {
     "outputs_hidden": false
    },
    "outputId": "53432eb7-bf35-4612-fd7c-7e643f50726f"
   },
   "outputs": [
    {
     "data": {
      "text/html": [
       "<div>\n",
       "<style scoped>\n",
       "    .dataframe tbody tr th:only-of-type {\n",
       "        vertical-align: middle;\n",
       "    }\n",
       "\n",
       "    .dataframe tbody tr th {\n",
       "        vertical-align: top;\n",
       "    }\n",
       "\n",
       "    .dataframe thead th {\n",
       "        text-align: right;\n",
       "    }\n",
       "</style>\n",
       "<table border=\"1\" class=\"dataframe\">\n",
       "  <thead>\n",
       "    <tr style=\"text-align: right;\">\n",
       "      <th></th>\n",
       "      <th>factor-riesgo</th>\n",
       "      <th>perdida-promedio-anual</th>\n",
       "      <th>fabricante</th>\n",
       "      <th>tipo-combustible</th>\n",
       "      <th>aspiracion</th>\n",
       "      <th>num-puertas</th>\n",
       "      <th>estilo-carroceria</th>\n",
       "      <th>traccion</th>\n",
       "      <th>ubicacion-motor</th>\n",
       "      <th>distancia-entre-ejes</th>\n",
       "      <th>longitud</th>\n",
       "      <th>anchura</th>\n",
       "      <th>altura</th>\n",
       "      <th>peso-vacio</th>\n",
       "      <th>tipo-motor</th>\n",
       "      <th>num-cilindros</th>\n",
       "      <th>tamano-motor</th>\n",
       "      <th>sistema-combustible</th>\n",
       "      <th>calibre</th>\n",
       "      <th>carrera</th>\n",
       "      <th>relacion-compresion</th>\n",
       "      <th>caballos-fuerza</th>\n",
       "      <th>pico-rpm</th>\n",
       "      <th>millas_por_galon_ciudad</th>\n",
       "      <th>millas_por_galon_carretera</th>\n",
       "      <th>precio</th>\n",
       "    </tr>\n",
       "  </thead>\n",
       "  <tbody>\n",
       "    <tr>\n",
       "      <th>0</th>\n",
       "      <td>False</td>\n",
       "      <td>True</td>\n",
       "      <td>False</td>\n",
       "      <td>False</td>\n",
       "      <td>False</td>\n",
       "      <td>False</td>\n",
       "      <td>False</td>\n",
       "      <td>False</td>\n",
       "      <td>False</td>\n",
       "      <td>False</td>\n",
       "      <td>False</td>\n",
       "      <td>False</td>\n",
       "      <td>False</td>\n",
       "      <td>False</td>\n",
       "      <td>False</td>\n",
       "      <td>False</td>\n",
       "      <td>False</td>\n",
       "      <td>False</td>\n",
       "      <td>False</td>\n",
       "      <td>False</td>\n",
       "      <td>False</td>\n",
       "      <td>False</td>\n",
       "      <td>False</td>\n",
       "      <td>False</td>\n",
       "      <td>False</td>\n",
       "      <td>False</td>\n",
       "    </tr>\n",
       "    <tr>\n",
       "      <th>1</th>\n",
       "      <td>False</td>\n",
       "      <td>True</td>\n",
       "      <td>False</td>\n",
       "      <td>False</td>\n",
       "      <td>False</td>\n",
       "      <td>False</td>\n",
       "      <td>False</td>\n",
       "      <td>False</td>\n",
       "      <td>False</td>\n",
       "      <td>False</td>\n",
       "      <td>False</td>\n",
       "      <td>False</td>\n",
       "      <td>False</td>\n",
       "      <td>False</td>\n",
       "      <td>False</td>\n",
       "      <td>False</td>\n",
       "      <td>False</td>\n",
       "      <td>False</td>\n",
       "      <td>False</td>\n",
       "      <td>False</td>\n",
       "      <td>False</td>\n",
       "      <td>False</td>\n",
       "      <td>False</td>\n",
       "      <td>False</td>\n",
       "      <td>False</td>\n",
       "      <td>False</td>\n",
       "    </tr>\n",
       "    <tr>\n",
       "      <th>2</th>\n",
       "      <td>False</td>\n",
       "      <td>True</td>\n",
       "      <td>False</td>\n",
       "      <td>False</td>\n",
       "      <td>False</td>\n",
       "      <td>False</td>\n",
       "      <td>False</td>\n",
       "      <td>False</td>\n",
       "      <td>False</td>\n",
       "      <td>False</td>\n",
       "      <td>False</td>\n",
       "      <td>False</td>\n",
       "      <td>False</td>\n",
       "      <td>False</td>\n",
       "      <td>False</td>\n",
       "      <td>False</td>\n",
       "      <td>False</td>\n",
       "      <td>False</td>\n",
       "      <td>False</td>\n",
       "      <td>False</td>\n",
       "      <td>False</td>\n",
       "      <td>False</td>\n",
       "      <td>False</td>\n",
       "      <td>False</td>\n",
       "      <td>False</td>\n",
       "      <td>False</td>\n",
       "    </tr>\n",
       "    <tr>\n",
       "      <th>3</th>\n",
       "      <td>False</td>\n",
       "      <td>False</td>\n",
       "      <td>False</td>\n",
       "      <td>False</td>\n",
       "      <td>False</td>\n",
       "      <td>False</td>\n",
       "      <td>False</td>\n",
       "      <td>False</td>\n",
       "      <td>False</td>\n",
       "      <td>False</td>\n",
       "      <td>False</td>\n",
       "      <td>False</td>\n",
       "      <td>False</td>\n",
       "      <td>False</td>\n",
       "      <td>False</td>\n",
       "      <td>False</td>\n",
       "      <td>False</td>\n",
       "      <td>False</td>\n",
       "      <td>False</td>\n",
       "      <td>False</td>\n",
       "      <td>False</td>\n",
       "      <td>False</td>\n",
       "      <td>False</td>\n",
       "      <td>False</td>\n",
       "      <td>False</td>\n",
       "      <td>False</td>\n",
       "    </tr>\n",
       "    <tr>\n",
       "      <th>4</th>\n",
       "      <td>False</td>\n",
       "      <td>False</td>\n",
       "      <td>False</td>\n",
       "      <td>False</td>\n",
       "      <td>False</td>\n",
       "      <td>False</td>\n",
       "      <td>False</td>\n",
       "      <td>False</td>\n",
       "      <td>False</td>\n",
       "      <td>False</td>\n",
       "      <td>False</td>\n",
       "      <td>False</td>\n",
       "      <td>False</td>\n",
       "      <td>False</td>\n",
       "      <td>False</td>\n",
       "      <td>False</td>\n",
       "      <td>False</td>\n",
       "      <td>False</td>\n",
       "      <td>False</td>\n",
       "      <td>False</td>\n",
       "      <td>False</td>\n",
       "      <td>False</td>\n",
       "      <td>False</td>\n",
       "      <td>False</td>\n",
       "      <td>False</td>\n",
       "      <td>False</td>\n",
       "    </tr>\n",
       "  </tbody>\n",
       "</table>\n",
       "</div>"
      ],
      "text/plain": [
       "   factor-riesgo  perdida-promedio-anual  ...  millas_por_galon_carretera  precio\n",
       "0          False                    True  ...                       False   False\n",
       "1          False                    True  ...                       False   False\n",
       "2          False                    True  ...                       False   False\n",
       "3          False                   False  ...                       False   False\n",
       "4          False                   False  ...                       False   False\n",
       "\n",
       "[5 rows x 26 columns]"
      ]
     },
     "execution_count": 4,
     "metadata": {
      "tags": []
     },
     "output_type": "execute_result"
    }
   ],
   "source": [
    "missing_data = df.isnull()\n",
    "missing_data.head(5)"
   ]
  },
  {
   "cell_type": "markdown",
   "metadata": {
    "id": "WezJ9HOaasAk"
   },
   "source": [
    "En el ejemplo anterior, \"True\" significa valor perdido, mientras que \"False\" significa valor no perdido."
   ]
  },
  {
   "cell_type": "markdown",
   "metadata": {
    "id": "xPU7X8whVYYf"
   },
   "source": [
    "* ***Contar los valores perdidos de cada columna***\n",
    "\n",
    "Utilizando un bucle ```for``` podemos calcular el número de valores perdidos de cada columna. Como se mencionó anteriormente, \"True\" representa un valor faltante, mientras que \"False\" significa que el valor sí está presente en el conjunto de datos. En el cuerpo del bucle ```for``` que ejecutará a continuación, el método ```.value_counts()``` cuenta el número de valores \"True\"."
   ]
  },
  {
   "cell_type": "code",
   "execution_count": 5,
   "metadata": {
    "colab": {
     "base_uri": "https://localhost:8080/"
    },
    "executionInfo": {
     "elapsed": 1597,
     "status": "ok",
     "timestamp": 1617668289069,
     "user": {
      "displayName": "Lvmen Innovations",
      "photoUrl": "",
      "userId": "00377461434728345638"
     },
     "user_tz": 300
    },
    "id": "PIZm8y5sVYYf",
    "jupyter": {
     "outputs_hidden": false
    },
    "outputId": "24a0fb5f-6aa4-4ce0-d08f-14c33bdaf84e"
   },
   "outputs": [
    {
     "name": "stdout",
     "output_type": "stream",
     "text": [
      "factor-riesgo\n",
      "False    205\n",
      "Name: factor-riesgo, dtype: int64\n",
      "\n",
      "perdida-promedio-anual\n",
      "False    164\n",
      "True      41\n",
      "Name: perdida-promedio-anual, dtype: int64\n",
      "\n",
      "fabricante\n",
      "False    205\n",
      "Name: fabricante, dtype: int64\n",
      "\n",
      "tipo-combustible\n",
      "False    205\n",
      "Name: tipo-combustible, dtype: int64\n",
      "\n",
      "aspiracion\n",
      "False    205\n",
      "Name: aspiracion, dtype: int64\n",
      "\n",
      "num-puertas\n",
      "False    203\n",
      "True       2\n",
      "Name: num-puertas, dtype: int64\n",
      "\n",
      "estilo-carroceria\n",
      "False    205\n",
      "Name: estilo-carroceria, dtype: int64\n",
      "\n",
      "traccion\n",
      "False    205\n",
      "Name: traccion, dtype: int64\n",
      "\n",
      "ubicacion-motor\n",
      "False    205\n",
      "Name: ubicacion-motor, dtype: int64\n",
      "\n",
      "distancia-entre-ejes\n",
      "False    205\n",
      "Name: distancia-entre-ejes, dtype: int64\n",
      "\n",
      "longitud\n",
      "False    205\n",
      "Name: longitud, dtype: int64\n",
      "\n",
      "anchura\n",
      "False    205\n",
      "Name: anchura, dtype: int64\n",
      "\n",
      "altura\n",
      "False    205\n",
      "Name: altura, dtype: int64\n",
      "\n",
      "peso-vacio\n",
      "False    205\n",
      "Name: peso-vacio, dtype: int64\n",
      "\n",
      "tipo-motor\n",
      "False    205\n",
      "Name: tipo-motor, dtype: int64\n",
      "\n",
      "num-cilindros\n",
      "False    205\n",
      "Name: num-cilindros, dtype: int64\n",
      "\n",
      "tamano-motor\n",
      "False    205\n",
      "Name: tamano-motor, dtype: int64\n",
      "\n",
      "sistema-combustible\n",
      "False    205\n",
      "Name: sistema-combustible, dtype: int64\n",
      "\n",
      "calibre\n",
      "False    201\n",
      "True       4\n",
      "Name: calibre, dtype: int64\n",
      "\n",
      "carrera\n",
      "False    201\n",
      "True       4\n",
      "Name: carrera, dtype: int64\n",
      "\n",
      "relacion-compresion\n",
      "False    205\n",
      "Name: relacion-compresion, dtype: int64\n",
      "\n",
      "caballos-fuerza\n",
      "False    203\n",
      "True       2\n",
      "Name: caballos-fuerza, dtype: int64\n",
      "\n",
      "pico-rpm\n",
      "False    203\n",
      "True       2\n",
      "Name: pico-rpm, dtype: int64\n",
      "\n",
      "millas_por_galon_ciudad\n",
      "False    205\n",
      "Name: millas_por_galon_ciudad, dtype: int64\n",
      "\n",
      "millas_por_galon_carretera\n",
      "False    205\n",
      "Name: millas_por_galon_carretera, dtype: int64\n",
      "\n",
      "precio\n",
      "False    201\n",
      "True       4\n",
      "Name: precio, dtype: int64\n",
      "\n"
     ]
    }
   ],
   "source": [
    "for column in missing_data.columns.values.tolist():\n",
    "    print(column)\n",
    "    print (missing_data[column].value_counts())\n",
    "    print(\"\")    "
   ]
  },
  {
   "cell_type": "markdown",
   "metadata": {
    "id": "mckNTyfTVYYk"
   },
   "source": [
    "Según el resultado anterior, cada columna tiene 205 filas de datos, y existen siete filas que contienen valores perdidos: \n",
    "\n",
    "1.   \"perdida-promedio-anual\": 41 valores perdidos\n",
    "2.   \"num-puertas\": 2 valores perdidos\n",
    "3.   \"calibre\": 4 valores perdidos\n",
    "4.   \"carrera\" : 4 valores perdidos\n",
    "5.   \"caballos-fuerza\": 2 valores perdidos\n",
    "6.   \"pico-rpm\": 2 valores perdidos\n",
    "7.   \"precio\": 4 valores perdidos"
   ]
  },
  {
   "cell_type": "markdown",
   "metadata": {
    "id": "HaHCh5Q3WpTk"
   },
   "source": [
    "## Ejercicio 1\n",
    "\n",
    "Para contar los valores perdidos que hay en cada atributo, también puede utilizar la función ```.sum()``` después de cualquiera de las funciones para detectar valores perdidos en el *data frame* (```.isnull()```, ```.notnull()```, y ```.isna()```). Esta función sumará todos los valores *True* y proporcionará un resumen para cada atributo, además no tendrá necesidad de utilizar un bucle.\n",
    "<br><br>\n",
    "**Vea el resumen de los valores perdidos para los atributos del dataset.** Ingrese sus líneas de código a continuación:"
   ]
  },
  {
   "cell_type": "code",
   "execution_count": 7,
   "metadata": {
    "colab": {
     "base_uri": "https://localhost:8080/"
    },
    "executionInfo": {
     "elapsed": 690,
     "status": "ok",
     "timestamp": 1617668291351,
     "user": {
      "displayName": "Lvmen Innovations",
      "photoUrl": "",
      "userId": "00377461434728345638"
     },
     "user_tz": 300
    },
    "id": "0Mvl3DUKFNTP",
    "outputId": "f4c49df1-1eb0-4d0e-b48b-4ba051daa53e"
   },
   "outputs": [
    {
     "data": {
      "text/plain": [
       "factor-riesgo                  0\n",
       "perdida-promedio-anual        41\n",
       "fabricante                     0\n",
       "tipo-combustible               0\n",
       "aspiracion                     0\n",
       "num-puertas                    2\n",
       "estilo-carroceria              0\n",
       "traccion                       0\n",
       "ubicacion-motor                0\n",
       "distancia-entre-ejes           0\n",
       "longitud                       0\n",
       "anchura                        0\n",
       "altura                         0\n",
       "peso-vacio                     0\n",
       "tipo-motor                     0\n",
       "num-cilindros                  0\n",
       "tamano-motor                   0\n",
       "sistema-combustible            0\n",
       "calibre                        4\n",
       "carrera                        4\n",
       "relacion-compresion            0\n",
       "caballos-fuerza                2\n",
       "pico-rpm                       2\n",
       "millas_por_galon_ciudad        0\n",
       "millas_por_galon_carretera     0\n",
       "precio                         4\n",
       "dtype: int64"
      ]
     },
     "execution_count": 7,
     "metadata": {
      "tags": []
     },
     "output_type": "execute_result"
    }
   ],
   "source": [
    "#Escriba su código a continuación y presione Shift + Enter para ejecutar\n",
    "df.isna().sum()\n"
   ]
  },
  {
   "cell_type": "markdown",
   "metadata": {
    "id": "mflYNy59amvX"
   },
   "source": [
    "**SOLUCIÓN DEL EJERCICIO:**"
   ]
  },
  {
   "cell_type": "markdown",
   "metadata": {
    "id": "P5yZSuTNaf0F"
   },
   "source": [
    "Haga doble clic **aquí** para ver la solución del Ejercicio 1. \n",
    "\n",
    "<!-- La respuesta es la siguiente:\n",
    "\n",
    "# HAY DOS OPCIONES POSIBLES PARA CONTAR LOS VALORES PERDIDOS DE CADA COLUMNA:\n",
    "\n",
    "# Opción 1:\n",
    "df.isna().sum()\n",
    "\n",
    "# Opción 2:\n",
    "df.isnull().sum()\n",
    "\n",
    "-->"
   ]
  },
  {
   "cell_type": "markdown",
   "metadata": {
    "id": "DJmu4bTfVYYk"
   },
   "source": [
    "## Lidiar con valores perdidos\n",
    "\n",
    "Cuando tenemos un *dataset* con valores perdidos, podemos tomar las siguientes decisiones:\n",
    "\n",
    "* Eliminar datos\n",
    " *   Eliminar toda la fila\n",
    " *   Eliminar toda la columna\n",
    "\n",
    "* Reemplazar datos\n",
    " *   Reemplazar por la media (o promedio)\n",
    " *   Reemplazar por la frecuencia\n",
    " *   Reemplazar en función de otras funciones\n",
    "\n",
    "\n",
    "Tenga en cuenta que una columna entera se puede descartar solo si la mayoría de sus valores están vacíos. En nuestro conjunto de datos, ninguna de las columnas está lo suficientemente vacía como para eliminarla por completo, así que reemplazaremos los valores perdidos. En este punto, tenemos cierta libertad para elegir el método de reemplazo, sin embargo, algunos métodos pueden parecer más razonables que otros. Aquí aplicaremos cada método a diferentes columnas:\n",
    "<br><br>\n",
    "* ***REEMPLAZAR POR LA MEDIA:*** <br>\n",
    "\"perdida-promedio-anual\", \"carrera\", \"calibre\", \"caballos-fuerza\", y \"pico-rpm\".\n",
    "\n",
    "Para empezar, necesitamos conocer la media de las columnas donde se hará el reemplazo por media. Entonces, debemos calcular el promedio de dichas columnas. En el siguiente ejemplo hacemos el cálculo de tres de ellas:"
   ]
  },
  {
   "cell_type": "code",
   "execution_count": null,
   "metadata": {
    "id": "L8cPA7nwVYYm",
    "jupyter": {
     "outputs_hidden": false
    }
   },
   "outputs": [],
   "source": [
    "# Promedio/media de la columna perdida-promedio-anual\n",
    "avg_perdida_promedio_anual = df[\"perdida-promedio-anual\"].astype(\"float\").mean()\n",
    "\n",
    "# Promedio/media de la columna carrera\n",
    "avg_carrera = df[\"carrera\"].astype(\"float\").mean()\n",
    "\n",
    "# Promedio/media de la columna calibre\n",
    "avg_calibre = df[\"calibre\"].astype(\"float\").mean()\n",
    "\n",
    "# Imprimir los resultados \n",
    "print(\"Promedio de perdida-promedio-anual:\", avg_perdida_promedio_anual)\n",
    "print(\"Promedio de carrera:\", avg_carrera)\n",
    "print(\"Promedio de calibre:\", avg_calibre)"
   ]
  },
  {
   "cell_type": "markdown",
   "metadata": {
    "id": "UPrzzJaJVYYp"
   },
   "source": [
    "Luego, reemplazamos \"NaN\" por el valor promedio de la columna donde deseamos hacer el reemplazo. Veamos el reemplazo para las tres columnas anteriores, utilizando el método ```replace()```:"
   ]
  },
  {
   "cell_type": "code",
   "execution_count": null,
   "metadata": {
    "id": "-jBkhKzEVYYq"
   },
   "outputs": [],
   "source": [
    "# Reemplazo de NaN por la media, columna perdida-promedio-anual\n",
    "df[\"perdida-promedio-anual\"].replace(np.nan, avg_perdida_promedio_anual, inplace=True)\n",
    "\n",
    "# Reemplazo de NaN por la media, columna carrera\n",
    "df[\"carrera\"].replace(np.nan, avg_carrera, inplace=True)\n",
    "\n",
    "# Reemplazo de NaN por la media, columna bore\n",
    "df[\"calibre\"].replace(np.nan, avg_calibre, inplace=True)"
   ]
  },
  {
   "cell_type": "markdown",
   "metadata": {
    "id": "-YrrksFuQ3VD"
   },
   "source": [
    "Podemos verificar los cambios en el *data frame*:"
   ]
  },
  {
   "cell_type": "code",
   "execution_count": null,
   "metadata": {
    "id": "Yl_4TP0sQ31m"
   },
   "outputs": [],
   "source": [
    "df.head(5)"
   ]
  },
  {
   "cell_type": "markdown",
   "metadata": {
    "id": "y-IZV4s8VYYz"
   },
   "source": [
    "## Ejercicio 2\n",
    "\n",
    "El método ```.fillna()``` de pandas también nos permite hacer reemplazos, sólo debemos proporcionarle dos parámetros: el valor que imputaremos y ```inplace = True```\n",
    "<br><br>\n",
    "**De acuerdo con el ejemplo anterior, reemplace NaN por el promedio en la columna \"caballos-fuerza\" utilizando el método ```replace()```, y en la columna \"pico-rpm\" utilizando el método ```fillna()```**. Ingrese sus líneas de código a continuación:"
   ]
  },
  {
   "cell_type": "code",
   "execution_count": null,
   "metadata": {
    "id": "G2BXDd3HVYYz",
    "jupyter": {
     "outputs_hidden": false
    }
   },
   "outputs": [],
   "source": [
    "# Escriba su código a continuación y presione Shift + Enter para ejecutar\n"
   ]
  },
  {
   "cell_type": "markdown",
   "metadata": {
    "id": "nMT2tn__Raxl"
   },
   "source": [
    "**SOLUCIÓN DEL EJERCICIO:**"
   ]
  },
  {
   "cell_type": "markdown",
   "metadata": {
    "id": "UF1buRT5VYY1"
   },
   "source": [
    "Haga doble clic **aquí** para ver la solución del Ejercicio 2. \n",
    "\n",
    "<!-- La respuesta es la siguiente:\n",
    "\n",
    "# --- PROCEDIMIENTO PARA LA COLUMNA horsepower ---\n",
    "avg_caballos_fuerza = df['caballos-fuerza'].astype('float').mean(axis=0)\n",
    "print(\"Promedio de caballos-fuerza:\", avg_caballos_fuerza)\n",
    "# Reemplazo con el método replace\n",
    "df['caballos-fuerza'].replace(np.nan, avg_caballos_fuerza, inplace=True)\n",
    "\n",
    "# --- PROCEDIMIENTO PARA LA COLUMNA peak-rpm ---\n",
    "avg_pico_rpm = df['pico-rpm'].astype('float').mean(axis=0)\n",
    "print(\"Promedio de pico-rpm:\", avg_pico_rpm)\n",
    "# Reemplazo con el método fillna\n",
    "df['pico-rpm'].fillna(avg_pico_rpm, inplace=True)\n",
    "\n",
    "-->\n"
   ]
  },
  {
   "cell_type": "markdown",
   "metadata": {
    "id": "JThPK1tWVYZC"
   },
   "source": [
    "* ***REEMPLAZAR POR LA FRECUENCIA:***<br>\n",
    "\"num-puertas\". En este caso la frecuencia es \"four\" porque el 84% de los automóviles son de cuatro puertas, por lo tanto cuatro puertas es más frecuente y es más probable que ocurra.\n",
    "\n",
    "\n",
    "Para observar la frecuencia, podemos ver qué valores están presentes en una columna en particular empleando el método ```.value_counts()```:"
   ]
  },
  {
   "cell_type": "code",
   "execution_count": null,
   "metadata": {
    "colab": {
     "base_uri": "https://localhost:8080/",
     "height": 68
    },
    "executionInfo": {
     "elapsed": 536,
     "status": "ok",
     "timestamp": 1602340162447,
     "user": {
      "displayName": "Lvmen Innovations",
      "photoUrl": "",
      "userId": "00377461434728345638"
     },
     "user_tz": 300
    },
    "id": "edbWeoMmVYZC",
    "jupyter": {
     "outputs_hidden": false
    },
    "outputId": "92ea3cbe-b9c8-468d-9178-ca7a858f712e"
   },
   "outputs": [
    {
     "data": {
      "text/plain": [
       "four    114\n",
       "two      89\n",
       "Name: num-puertas, dtype: int64"
      ]
     },
     "execution_count": 13,
     "metadata": {
      "tags": []
     },
     "output_type": "execute_result"
    }
   ],
   "source": [
    "df['num-puertas'].value_counts()"
   ]
  },
  {
   "cell_type": "markdown",
   "metadata": {
    "id": "OhtJyI_TVYZG"
   },
   "source": [
    "Si ejecutó el código anterior pudo darse cuenta que \"four\" es el número de puertas más común. También podemos usar el método ```.idxmax()``` para calcular el tipo más común automáticamente:"
   ]
  },
  {
   "cell_type": "code",
   "execution_count": null,
   "metadata": {
    "id": "gXYzVs_zVYZH",
    "jupyter": {
     "outputs_hidden": false
    }
   },
   "outputs": [],
   "source": [
    "df['num-puertas'].value_counts().idxmax()"
   ]
  },
  {
   "cell_type": "markdown",
   "metadata": {
    "id": "mF-9kJB3VYZK"
   },
   "source": [
    "El procedimiento de reemplazo es muy similar al que vimos anteriormente."
   ]
  },
  {
   "cell_type": "code",
   "execution_count": null,
   "metadata": {
    "id": "q0Ydee--VYZK",
    "jupyter": {
     "outputs_hidden": false
    }
   },
   "outputs": [],
   "source": [
    "# Reemplazar los valores perdidos de'num-puertas' por el valor más frecuente \n",
    "df[\"num-puertas\"].replace(np.nan, \"four\", inplace=True)"
   ]
  },
  {
   "cell_type": "markdown",
   "metadata": {
    "id": "ysYAhYmhWc-w"
   },
   "source": [
    "* ***ELIMINAR TODA LA FILA:***<br>\n",
    "\"precio\". El precio es lo que queremos predecir. Cualquier instancia sin precio no puede ser utilizada porque no será util para aprender de ella."
   ]
  },
  {
   "cell_type": "markdown",
   "metadata": {
    "id": "h3wV7F1FVYZM"
   },
   "source": [
    "El paquete pandas proporciona un método que podemos usar para eliminar fácilmente los valores faltantes: ```.dropna()```. Este método devuelve un nuevo DataFrame sin las filas que tienen valores perdidos. De forma predeterminada, evalúa los valores perdidos de todas las columnas, pero Usted puede especificar una lista de columnas para que centre su búsqueda en esos atributos:\n",
    "\n",
    "```df.dropna (subset = ['columna'])```\n",
    "<br><br>\n",
    "Este método devuelve un nuevo *DataFrame* sin valores perdidos para las columnas especificadas. Si desea reemplazar el conjunto de datos original directamente, puede usar el parámetro ```inplace = True```:\n",
    "\n",
    "```df.dropna(subset=['columna'], inplace=True)```\n",
    "<br><br>\n",
    "Entonces, eliminemos todas las instancias que no tienen datos en el atributo \"precio\", utilizando el método ```.dropna()```:"
   ]
  },
  {
   "cell_type": "code",
   "execution_count": null,
   "metadata": {
    "id": "IEWPKMysVYZN"
   },
   "outputs": [],
   "source": [
    "# Elimine la fila/instancia completa que tiene valor NaN en la columna \"precio\" \n",
    "df.dropna(subset=[\"precio\"], axis=0, inplace=True)\n",
    "\n",
    "# Restablezca el índice del dataframe porque se eliminaron dos filas\n",
    "df.reset_index(drop=True, inplace=True)"
   ]
  },
  {
   "cell_type": "markdown",
   "metadata": {
    "id": "uEJhp-jnZ76S"
   },
   "source": [
    "Verifiquemos nuevamente cuántos valores perdidos tiene el conjunto de datos"
   ]
  },
  {
   "cell_type": "code",
   "execution_count": null,
   "metadata": {
    "id": "4LQMrV2FaBXN"
   },
   "outputs": [],
   "source": [
    "df.isna().sum()"
   ]
  },
  {
   "cell_type": "markdown",
   "metadata": {
    "id": "7qBU80HqVYZS"
   },
   "source": [
    "**Muy bien!** Ahora, tenemos el *dataset* sin valores perdidos. "
   ]
  },
  {
   "cell_type": "markdown",
   "metadata": {
    "id": "67e6kYpHVYZS"
   },
   "source": [
    "## Corregir formato de datos\n",
    "\n",
    "El último paso en la limpieza de datos es verificar y asegurarse de que todos los datos estén en el formato correcto (*int*, *float*, *text* u otro). En pandas utilizamos los métodos:\n",
    "```.dtype()``` para ver los tipos de datos, y ```.astype()``` para cambiar tipos de datos.\n",
    "<br><br>\n",
    "Veamos los tipos de datos para cada columna:"
   ]
  },
  {
   "cell_type": "code",
   "execution_count": null,
   "metadata": {
    "id": "1AhWoOrxh44Y"
   },
   "outputs": [],
   "source": [
    "df.dtypes"
   ]
  },
  {
   "cell_type": "markdown",
   "metadata": {
    "id": "63KJbpRCVYZT"
   },
   "source": [
    "Como podemos ver arriba, algunas columnas no son del tipo de datos correcto. Las variables numéricas deben tener el tipo 'float' o 'int', y las variables con cadenas de texto como categorías deben tener el tipo 'object'. Por ejemplo, las variables 'calibre' y 'carrera' son valores numéricos que describen los motores, por lo que deberíamos esperar que sean del tipo 'float' o 'int'; sin embargo, se muestran como tipo 'objeto'. Tenemos que convertir los tipos de datos a un formato adecuado para cada columna usando el método ```astype()```.\n",
    "<br><br>\n",
    "Convirtamos los tipos de datos al formato apropiado:\n"
   ]
  },
  {
   "cell_type": "code",
   "execution_count": null,
   "metadata": {
    "id": "UraZ46bgVYZU",
    "jupyter": {
     "outputs_hidden": false
    }
   },
   "outputs": [],
   "source": [
    "df[[\"calibre\", \"carrera\"]] = df[[\"calibre\", \"carrera\"]].astype(\"float\")\n",
    "df[[\"perdida-promedio-anual\"]] = df[[\"perdida-promedio-anual\"]].astype(\"int\")\n",
    "df[[\"precio\"]] = df[[\"precio\"]].astype(\"float\")\n",
    "df[[\"pico-rpm\"]] = df[[\"pico-rpm\"]].astype(\"float\")"
   ]
  },
  {
   "cell_type": "markdown",
   "metadata": {
    "id": "mbwgbinaVYZY"
   },
   "source": [
    "Veamos los tipos de datos de los atributos después de la conversión:"
   ]
  },
  {
   "cell_type": "code",
   "execution_count": null,
   "metadata": {
    "id": "MQ_OTsGvVYZZ",
    "jupyter": {
     "outputs_hidden": false
    }
   },
   "outputs": [],
   "source": [
    "df.dtypes"
   ]
  },
  {
   "cell_type": "markdown",
   "metadata": {
    "id": "KhyM5T5cVYZc"
   },
   "source": [
    "**Excelente!** Ahora, ya tenemos el conjunto de datos limpio, sin valores perdidos y con todos los datos en su formato adecuado."
   ]
  },
  {
   "cell_type": "markdown",
   "metadata": {
    "id": "1sQu3iERVYZc"
   },
   "source": [
    "# **Estandarización de los tipo de datos**\n",
    "\n",
    "Los datos se recolectan de diferentes fuentes con diferentes formatos. Por ejemplo, si nuestro *dataset* se recolecta de diferentes agencias, algunas podrían manejar los datos de consumo de combustible en millas por galón (mpg) mientras que otros en kilómetros por galón (km/gal). \n",
    "<br><br>\n",
    "**¿Qué es estandarización?**\n",
    "<br>\n",
    "Es el proceso de transformar los datos en un formato común que nos permita hacer una comparación con sentido.\n",
    "<br><br>\n",
    "\n",
    "*Ejemplo:*\n",
    "\n",
    "En nuestro *dataset*, las columnas de consumo de combustible \"millas_por_galon_ciudad\" y \"millas_por_galon_carretera\" se representan por unidades *mpg* (millas por galón). Supongamos que estamos desarrollando una aplicación en un país que acepta el consumo de combustible con el estándar *L/100km* (litros por 100 kilómetros), entonces necesitaremos aplicar la transformación de datos para convertir *mpg* en *L/100km*.\n",
    "<br><br>\n",
    "La fórmula para la conversión es: ```L/100km = 235 / mpg```\n",
    "<br><br>\n",
    "Pandas nos permite realizar operaciones directamente con las columnas: \n"
   ]
  },
  {
   "cell_type": "code",
   "execution_count": null,
   "metadata": {
    "id": "XzK-5SvHVYZh",
    "jupyter": {
     "outputs_hidden": false
    }
   },
   "outputs": [],
   "source": [
    "# Veamos las columnas actuales de nuestro dataframe\n",
    "df.head()"
   ]
  },
  {
   "cell_type": "code",
   "execution_count": null,
   "metadata": {
    "id": "Kr0KCYk0VYZj",
    "jupyter": {
     "outputs_hidden": false
    }
   },
   "outputs": [],
   "source": [
    "# Convertir mpg a L/100km con una operación matemática (235 dividido por mpg)\n",
    "df['ciudad-L/100km'] = 235/df[\"millas_por_galon_ciudad\"]\n",
    "\n",
    "# Verifiquemos las columnas para visualizar la transformación de los datos \n",
    "df.head()"
   ]
  },
  {
   "cell_type": "markdown",
   "metadata": {
    "id": "Ucg-az43J2MB"
   },
   "source": [
    "---\n",
    "\n",
    "*NOTA: El término estandarización también se utiliza para referirse a un tipo particular de normalización, donde se resta la media y se divide por la desviación estándar.*\n",
    "\n",
    "---"
   ]
  },
  {
   "cell_type": "markdown",
   "metadata": {
    "id": "rHayV2rBVYZl"
   },
   "source": [
    "## Ejercicio 3\n",
    "\n",
    "**Basándose en el ejemplo anterior, transforme mpg a L/100km en la columna \"millas_por_galon_carretera\" y cambie el nombre de la columna a \"carretera-L/100km\".** Ingrese sus líneas de código a continuación:\n"
   ]
  },
  {
   "cell_type": "code",
   "execution_count": null,
   "metadata": {
    "id": "oLIIHvXnVYZm",
    "jupyter": {
     "outputs_hidden": false
    }
   },
   "outputs": [],
   "source": [
    "# Escriba su código a continuación y presione Shift + Enter para ejecutar\n"
   ]
  },
  {
   "cell_type": "markdown",
   "metadata": {
    "id": "jrNpsqNDL26o"
   },
   "source": [
    "**SOLUCIÓN DEL EJERCICIO:**"
   ]
  },
  {
   "cell_type": "markdown",
   "metadata": {
    "id": "0YW-20pCVYZo"
   },
   "source": [
    "Haga doble clic **aquí** para ver la solución del Ejercicio 3. \n",
    "\n",
    "<!-- La respuesta es la siguiente:\n",
    "\n",
    "# Transformar mpg a L/100km con una operación matemática (235 dividido por mpg)\n",
    "df[\"millas_por_galon_carretera\"] = 235/df[\"millas_por_galon_carretera\"]\n",
    "\n",
    "# Re-nombrar el nombre de la columna \"millas_por_galon_carretera\" a \"carretera-L/100km\"\n",
    "df.rename(columns={'millas_por_galon_carretera':'carretera-L/100km'}, inplace=True)\n",
    "\n",
    "# Verificar la transformación de los datos \n",
    "df.head()\n",
    "\n",
    "-->\n"
   ]
  },
  {
   "cell_type": "markdown",
   "metadata": {
    "id": "Jt3ytgHVVYZp"
   },
   "source": [
    "# **Normalización de los datos**\n",
    "\n",
    "**¿Qué es la normalización?**\n",
    "\n",
    "Es el proceso de transformar valores de varias variables a un rango similar. Dentro de las normalizaciones típicas se incluyen: escalar la variable de tal manera que su promedio sea 0, escalar la variable para que la varianza sea 1, o escalar la variable para que los valores de la variable oscilen entre 0 y 1.\n",
    "<br><br>\n",
    "*Ejemplo:*\n",
    "\n",
    "Para demostrar la normalización, supongamos que queremos escalar las columnas \"longitud\",\t\"anchura\" y\t\"altura\". \n",
    "* Objetivo: Normalizar esas variables para que su valor oscile entre 0 y 1.\n",
    "* Enfoque: Reemplazar el valor original por (valor original)/(valor máximo)"
   ]
  },
  {
   "cell_type": "code",
   "execution_count": null,
   "metadata": {
    "id": "nO6B6clAVYZq",
    "jupyter": {
     "outputs_hidden": false
    }
   },
   "outputs": [],
   "source": [
    "# Reemplazar valor original por (valor original)/(valor máximo)\n",
    "df['longitud'] = df['longitud']/df['longitud'].max()\n",
    "df['anchura'] = df['anchura']/df['anchura'].max()\n",
    "\n",
    "# Ver las columnas escaladas\n",
    "df[[\"longitud\",\"anchura\"]].head()"
   ]
  },
  {
   "cell_type": "markdown",
   "metadata": {
    "id": "pm-asrVPVYZs"
   },
   "source": [
    "## Ejercicio 4\n",
    "\n",
    "**De acuerdo al ejemplo anterior, normalice la columna \"altura\".** Ingrese sus líneas de código a continuación:"
   ]
  },
  {
   "cell_type": "code",
   "execution_count": null,
   "metadata": {
    "id": "9Qzf27ojVYZs",
    "jupyter": {
     "outputs_hidden": false
    }
   },
   "outputs": [],
   "source": [
    "# Escriba su código a continuación y presione Shift + Enter para ejecutar\n"
   ]
  },
  {
   "cell_type": "markdown",
   "metadata": {
    "id": "PCTk9_DYP0Md"
   },
   "source": [
    "**SOLUCIÓN DEL EJERCICIO:**"
   ]
  },
  {
   "cell_type": "markdown",
   "metadata": {
    "id": "8LYTXJ-4VYZv"
   },
   "source": [
    "[texto del enlace](https://)Haga doble clic **aquí** para ver la solución del Ejercicio 4. \n",
    "\n",
    "<!-- La respuesta es la siguiente:\n",
    "\n",
    "df['altura'] = df['altura']/df['altura'].max() \n",
    "# Mostrar las columnas escaladas: \n",
    "df[[\"longitud\",\"anchura\",\"altura\"]].head()\n",
    "\n",
    "-->"
   ]
  },
  {
   "cell_type": "markdown",
   "metadata": {
    "id": "IrRAGql7VYZv"
   },
   "source": [
    "Aquí podemos ver que hemos normalizado \"longitud\", \"anchura\" y \"altura\" en el rango de [0,1]."
   ]
  },
  {
   "cell_type": "markdown",
   "metadata": {
    "id": "HgPuBf0PVYZv"
   },
   "source": [
    "# **Discretizar valores**\n",
    "\n",
    "**¿Qué es discretizar?**\n",
    "\n",
    "Es el proceso de transformar variables numéricas continuas en discretas categóricas.\n",
    "<br><br>\n",
    "*Ejemplo:*\n",
    "\n",
    "En nuestro *dataset*, \"caballos-fuerza\" es una variable con valores reales entre 48 y 288, y contiene 57 valores únicos. ¿Qué pasa si sólo nos preocupamos por la diferencia de precio entre los automóviles de alta potencia, potencia media y baja potencia (3 tipos)? ¿Podemos reorganizar la variable \"caballos-fuerza\" de acuerdo a estos tres tipos para simplificr el análisis?\n",
    "<br><br>\n",
    "Utilizaremos el método ```cut```de pandas para segmentar la columna \"caballos-fuerza\" en estas tres categorías.\n",
    "<br><br>\n",
    "Primero veamos el tipo de dato de la columna \"caballos-fuerza\":"
   ]
  },
  {
   "cell_type": "code",
   "execution_count": null,
   "metadata": {
    "id": "wGJjQK8STu80"
   },
   "outputs": [],
   "source": [
    "df.dtypes"
   ]
  },
  {
   "cell_type": "markdown",
   "metadata": {
    "id": "-n6xPPtuai_f"
   },
   "source": [
    "Debemos convertir el tipo de dato de \"caballos-fuerza\" al tipo correcto (int)."
   ]
  },
  {
   "cell_type": "code",
   "execution_count": null,
   "metadata": {
    "id": "UCzz-CAZVYZw",
    "jupyter": {
     "outputs_hidden": false
    }
   },
   "outputs": [],
   "source": [
    "df[\"caballos-fuerza\"]=df[\"caballos-fuerza\"].astype(\"int\", copy=True)"
   ]
  },
  {
   "cell_type": "markdown",
   "metadata": {
    "id": "Tm7ps8BKVYZ0"
   },
   "source": [
    "Tracemos el histograma del atributo \"caballos-fuerza\" para ver cómo luce su distribución. En esta ocasión, utilizaremos la librería ```matploit``` para graficar."
   ]
  },
  {
   "cell_type": "code",
   "execution_count": null,
   "metadata": {
    "id": "BzoYEmpWVYZ1"
   },
   "outputs": [],
   "source": [
    "%matplotlib inline\n",
    "import matplotlib as plt\n",
    "from matplotlib import pyplot\n",
    "plt.pyplot.hist(df[\"caballos-fuerza\"])\n",
    "\n",
    "# Establecer las etiquetas x/y y el título del gráfico\n",
    "plt.pyplot.xlabel(\"caballos-fuerza\")\n",
    "plt.pyplot.ylabel(\"conteo de automóviles\")\n",
    "plt.pyplot.title(\"caballos de fuerza vs #automóviles\")"
   ]
  },
  {
   "cell_type": "markdown",
   "metadata": {
    "id": "Ul5VK6jXVYZ8"
   },
   "source": [
    "Nos gustaría tener 3 rangos de igual tamaño y para definirlos utilizaremos la función ```linspace(start_value, end_value, numbers_generated)``` de la librería numpy.\n",
    "<br><br>\n",
    "Como queremos incluir el valor mínimo de caballos de fuerza, vamos a establecer el valor ```start_value=min(df[\"caballos-fuerza\"])```.\n",
    "<br><br>\n",
    "Como queremos incluir el valor máximo de caballos de fuerza, vamos a establecer el valor ```end_value=max(df[\"caballos-fuerza\"])```.\n",
    "<br><br>\n",
    "Como estamos construyendo 3 categorías de igual tamaño, deben haber 4 puntos de corte, por lo que utilizaremos el parámetro ```numbers_generated=4```.\n",
    "<br><br>\n",
    "Con los datos anteriores, la función ```linspace()``` nos retornará un arreglo que contiene los valores que determinan cuándo inicia un rango e inicia otro."
   ]
  },
  {
   "cell_type": "code",
   "execution_count": null,
   "metadata": {
    "id": "fe4db8DgVYaB",
    "jupyter": {
     "outputs_hidden": false
    }
   },
   "outputs": [],
   "source": [
    "bins = np.linspace(min(df[\"caballos-fuerza\"]), max(df[\"caballos-fuerza\"]), 4)\n",
    "bins"
   ]
  },
  {
   "cell_type": "markdown",
   "metadata": {
    "id": "3Sm9-njkVYaI"
   },
   "source": [
    "Definimos los nombres de las categorías:"
   ]
  },
  {
   "cell_type": "code",
   "execution_count": null,
   "metadata": {
    "id": "5Pd72TcyVYaJ",
    "jupyter": {
     "outputs_hidden": true
    }
   },
   "outputs": [],
   "source": [
    "group_names = ['Low', 'Medium', 'High']"
   ]
  },
  {
   "cell_type": "markdown",
   "metadata": {
    "id": "NgF4dgfIVYaN"
   },
   "source": [
    "Aplicamos la función ```cut```para determinar a qué caterogía pertenece cada valor de la columna ```df['caballos-fuerza']```."
   ]
  },
  {
   "cell_type": "code",
   "execution_count": null,
   "metadata": {
    "id": "7CBWCHMsVYaO",
    "jupyter": {
     "outputs_hidden": false
    }
   },
   "outputs": [],
   "source": [
    "df['caballos-fuerza-discretos'] = pd.cut(df['caballos-fuerza'], bins, labels=group_names, include_lowest=True )\n",
    "df[['caballos-fuerza','caballos-fuerza-discretos']].head(20)"
   ]
  },
  {
   "cell_type": "markdown",
   "metadata": {
    "id": "j7hg0kKFVYaU"
   },
   "source": [
    "Veamos el número de automóviles de cada categoría:\n"
   ]
  },
  {
   "cell_type": "code",
   "execution_count": null,
   "metadata": {
    "id": "KsRgrxfkVYaW"
   },
   "outputs": [],
   "source": [
    "df[\"caballos-fuerza-discretos\"].value_counts()"
   ]
  },
  {
   "cell_type": "markdown",
   "metadata": {
    "id": "WH7YWnqsVYaZ"
   },
   "source": [
    "Grafiquemos la distribución de las nuevas categorías:"
   ]
  },
  {
   "cell_type": "code",
   "execution_count": null,
   "metadata": {
    "id": "tsQBhwu0VYaa"
   },
   "outputs": [],
   "source": [
    "%matplotlib inline\n",
    "import matplotlib as plt\n",
    "from matplotlib import pyplot\n",
    "pyplot.bar(group_names, df[\"caballos-fuerza-discretos\"].value_counts())\n",
    "\n",
    "# Establecer las etiquetas x/y y el título del gráfico\n",
    "plt.pyplot.xlabel(\"caballos-fuerza\")\n",
    "plt.pyplot.ylabel(\"conteo de automóviles\")\n",
    "plt.pyplot.title(\"caballos de fuerza (valores discretos) vs #automóviles\")"
   ]
  },
  {
   "cell_type": "markdown",
   "metadata": {
    "id": "Hpa2m5V7VYae"
   },
   "source": [
    "Hemos reducido con éxito el número de valores únicos (de 57 a 3). Si observamos el *data frame* podremos encontrar que la última columna especifica las caterogías para \"caballos-fuerza\" con 3 valores (\"Low\", \"Medium\" y \"High\")."
   ]
  },
  {
   "cell_type": "code",
   "execution_count": null,
   "metadata": {
    "id": "WErXzubfv5Mq"
   },
   "outputs": [],
   "source": [
    "df.head()"
   ]
  },
  {
   "cell_type": "markdown",
   "metadata": {
    "id": "2OyhH2YAVYag"
   },
   "source": [
    "A continuación vamos a graficar el histograma del atributo \"caballos-fuerza\" agrupando los valores del eje x en 3 grupos."
   ]
  },
  {
   "cell_type": "code",
   "execution_count": null,
   "metadata": {
    "id": "_JvPNsUPVYah",
    "jupyter": {
     "outputs_hidden": false
    }
   },
   "outputs": [],
   "source": [
    "%matplotlib inline\n",
    "import matplotlib as plt\n",
    "from matplotlib import pyplot\n",
    "\n",
    "a = (0,1,2)\n",
    "\n",
    "# Graficar el histograma de \"caballos-fuerza\" con 3 rangos (bins = 3)\n",
    "plt.pyplot.hist(df[\"caballos-fuerza\"], bins = 3)\n",
    "\n",
    "#  Establecer las etiquetas x/y y el título del gráfico\n",
    "plt.pyplot.xlabel(\"caballos-fuerza\")\n",
    "plt.pyplot.ylabel(\"conteo de automóviles\")\n",
    "plt.pyplot.title(\"caballos-fuerza por rangos\")"
   ]
  },
  {
   "cell_type": "markdown",
   "metadata": {
    "id": "wj0vR1ZZVYaj"
   },
   "source": [
    "El gráfico anterior muestra que resultado que obtuvimos al discretizar el atributo \"caballos-fuerza\" en tres valores categóricos, evidentemente es correcto."
   ]
  },
  {
   "cell_type": "markdown",
   "metadata": {
    "id": "SJpf5u2aVYaj"
   },
   "source": [
    "# **Variable indicadora (o variable ficticia)**\n",
    "\n",
    "**Qué es una variable indicadora?**\n",
    "\n",
    "Es una variable numérica que se utiliza para etiquetar categorías. Se les llama \"ficticias\" porque los números en sí no representan una cantidad y por lo tanto no tienen un significado inherente.\n",
    "<br><br>\n",
    "*Ejemplo*\n",
    "\n",
    "En nuestro *data frame* vemos que la columna \"tipo-combustible\" tiene dos valores únicos: \"gas\" o \"diesel\". Un problema de regresión, no entiende palabras, solamente números. Por lo tanto, para utilizar este atributo en un análisis de regresión, debemos convertir a \"tipo-combustible\" en una variable indicadora. \n",
    "<br><br>\n",
    "Utilizaremos el método de pandas ```get_dummies```para asignarle valores numéricos a las diferentes categorías del atributo en cuestión. Este método nos retornará un nuevo *data frame* con dos columnas (una por cada valor único de \"tipo-combustible\") que corresponden a las variables indicadoras."
   ]
  },
  {
   "cell_type": "code",
   "execution_count": null,
   "metadata": {
    "id": "bTe2rrACVYam",
    "jupyter": {
     "outputs_hidden": false
    }
   },
   "outputs": [],
   "source": [
    "# Obtener variables indicadoras y asignarlas al nuevo dataframe dummy_variable_1\n",
    "dummy_variable_1 = pd.get_dummies(df[\"tipo-combustible\"])\n",
    "dummy_variable_1.head()"
   ]
  },
  {
   "cell_type": "markdown",
   "metadata": {
    "id": "fbTJzyMXVYao"
   },
   "source": [
    "Cambiemos el nombre de las columnas para mayor claridad."
   ]
  },
  {
   "cell_type": "code",
   "execution_count": null,
   "metadata": {
    "id": "46T4iZ1OVYap",
    "jupyter": {
     "outputs_hidden": false
    }
   },
   "outputs": [],
   "source": [
    "dummy_variable_1.rename(columns={'gas':'tipo-combustible-gas', 'diesel':'tipo-combustible-diesel'}, inplace=True)\n",
    "dummy_variable_1.head()\n"
   ]
  },
  {
   "cell_type": "markdown",
   "metadata": {
    "id": "rMNNq1V2VYax"
   },
   "source": [
    "Insertaremos estas columnas en nuestro *dataset* original, y eliminamos la columna original \"fuel-type\"."
   ]
  },
  {
   "cell_type": "code",
   "execution_count": null,
   "metadata": {
    "id": "18CDvb1IVYax",
    "jupyter": {
     "outputs_hidden": true
    }
   },
   "outputs": [],
   "source": [
    "# Unir data frame \"df\" y \"dummy_variable_1\" \n",
    "df = pd.concat([df, dummy_variable_1], axis=1)\n",
    "\n",
    "# Eliminar la columna original \"tipo-combustible\" de \"df\"\n",
    "df.drop(\"tipo-combustible\", axis = 1, inplace=True)"
   ]
  },
  {
   "cell_type": "code",
   "execution_count": null,
   "metadata": {
    "id": "vYj5Lr0BVYa0",
    "jupyter": {
     "outputs_hidden": false
    }
   },
   "outputs": [],
   "source": [
    "df.head()"
   ]
  },
  {
   "cell_type": "markdown",
   "metadata": {
    "id": "alvYJv7cVYa7"
   },
   "source": [
    "Las últimas dos columnas ahora son la variable indicadora que representan la variable original \"tipo-combustible\". Ahora todos sus valores son 0 o 1."
   ]
  },
  {
   "cell_type": "markdown",
   "metadata": {
    "id": "jHJNAd8cVYa7"
   },
   "source": [
    "## Ejercicio 5\n",
    "\n",
    "**Como se hizo en el ejemplo anterior, cree una variable indicadora para la columna \"aspiracion\" para representar los valores \"std\" y \"turbo\" con números. Una vez creada la variable indicadora, únala con el data frame original y elimine la columna \"aspiracion\"** Ingrese sus líneas de código a continuación:"
   ]
  },
  {
   "cell_type": "code",
   "execution_count": null,
   "metadata": {
    "id": "cVVo5fboVYa7",
    "jupyter": {
     "outputs_hidden": false
    }
   },
   "outputs": [],
   "source": [
    "# Escriba su código a continuación y presione Shift + Enter para ejecutar\n",
    "\n",
    "# Obtener la variable indicadora y asignarla al nuevo data frame \"dummy_variable_2\"\n",
    "dummy_variable_2 = pd.get_dummies(df[\"aspiracion\"])\n",
    "\n",
    "# Cambiar los nombres de las columnas para mayor claridad\n",
    "dummy_variable_2.rename(columns={'std':'aspiracion_std', 'turbo':'aspiracion_turbo'}, inplace=True)\n",
    "\n",
    "# Unir data frame \"df\" y \"dummy_variable_2\"\n",
    "df = pd.concat([df,dummy_variable_2], axis=1)\n",
    "\n",
    "# Eliminar la columna original de \"df\"\n",
    "df.drop(\"aspiracion\", axis=1, inplace=True)\n",
    "\n",
    "# Ver el resultado\n",
    "df.head()"
   ]
  },
  {
   "cell_type": "markdown",
   "metadata": {
    "id": "cSe-tqp7H4RJ"
   },
   "source": [
    "**SOLUCIÓN DEL EJERCICIO:**"
   ]
  },
  {
   "cell_type": "markdown",
   "metadata": {
    "id": "Ikro9w9HVYbC"
   },
   "source": [
    "Haga doble clic **aquí** para ver la solución del Ejercicio 5. \n",
    "\n",
    "<!-- La respuesta es la siguiente:\n",
    "# Obtener la variable indicadora y asignarla al nuevo data frame \"dummy_variable_2\"\n",
    "dummy_variable_2 = pd.get_dummies(df[\"aspiracion\"])\n",
    "\n",
    "# Cambiar los nombres de las columnas para mayor claridad\n",
    "dummy_variable_2.rename(columns={'std':'aspiracion_std', 'turbo':'aspiracion_turbo'}, inplace=True)\n",
    "\n",
    "# Unir data frame \"df\" y \"dummy_variable_2\"\n",
    "df = pd.concat([df,dummy_variable_2], axis=1)\n",
    "\n",
    "# Eliminar la columna original de \"df\"\n",
    "df.drop(\"aspiracion\", axis=1, inplace=True)\n",
    "\n",
    "# Ver el resultado\n",
    "df.head()\n",
    "-->"
   ]
  },
  {
   "cell_type": "markdown",
   "metadata": {
    "id": "Hrmko9jmVYbF"
   },
   "source": [
    "Finalmente, si lo desea, guarde el *dataset* en su nueva versión. "
   ]
  },
  {
   "cell_type": "code",
   "execution_count": null,
   "metadata": {
    "id": "VF2HwKhWVYbJ"
   },
   "outputs": [],
   "source": [
    "from google.colab import files\n",
    "df.to_csv(\"clean_df.csv\")\n",
    "files.download(\"clean_df.csv\")"
   ]
  },
  {
   "cell_type": "markdown",
   "metadata": {
    "id": "qKKArFW5VYbL"
   },
   "source": [
    "<h3>Acerca de los autores:</h3>\n",
    "\n",
    "Este cuaderno se hizo con base en el diseñado por <a href=\"https://www.linkedin.com/in/mahdi-noorian-58219234/\" target=\"_blank\">Mahdi Noorian PhD</a>, <a href=\"https://www.linkedin.com/in/joseph-s-50398b136/\" target=\"_blank\">Joseph Santarcangelo</a>, Bahare Talayian, Eric Xiao, Steven Dong, Parizad, Hima Vsudevan, <a href=\"https://www.linkedin.com/in/fiorellawever/\" target=\"_blank\">Fiorella Wenver</a> and <a href=\" https://www.linkedin.com/in/yi-leng-yao-84451275/ \" target=\"_blank\" >Yi Yao</a>.\n",
    "\n",
    "---\n",
    "\n",
    "Utilizamos y modificamos el cuaderno original, acogiéndonos a la Licencia <a href=\"https://cognitiveclass.ai/mit-license/\">MIT License</a>."
   ]
  }
 ],
 "metadata": {
  "anaconda-cloud": {},
  "colab": {
   "name": "3_data_preparation_cleaning.ipynb",
   "provenance": [],
   "toc_visible": true
  },
  "kernelspec": {
   "display_name": "Python 3 (ipykernel)",
   "language": "python",
   "name": "python3"
  },
  "language_info": {
   "codemirror_mode": {
    "name": "ipython",
    "version": 3
   },
   "file_extension": ".py",
   "mimetype": "text/x-python",
   "name": "python",
   "nbconvert_exporter": "python",
   "pygments_lexer": "ipython3",
   "version": "3.9.13"
  }
 },
 "nbformat": 4,
 "nbformat_minor": 1
}
