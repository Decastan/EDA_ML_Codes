{
  "nbformat": 4,
  "nbformat_minor": 0,
  "metadata": {
    "colab": {
      "provenance": [],
      "authorship_tag": "ABX9TyPvFjbq2LWiFi/NjnpUqrCF",
      "include_colab_link": true
    },
    "kernelspec": {
      "name": "python3",
      "display_name": "Python 3"
    },
    "language_info": {
      "name": "python"
    }
  },
  "cells": [
    {
      "cell_type": "markdown",
      "metadata": {
        "id": "view-in-github",
        "colab_type": "text"
      },
      "source": [
        "<a href=\"https://colab.research.google.com/github/armandoordonez/eda_couse/blob/main/Cook_distance.ipynb\" target=\"_parent\"><img src=\"https://colab.research.google.com/assets/colab-badge.svg\" alt=\"Open In Colab\"/></a>"
      ]
    },
    {
      "cell_type": "code",
      "execution_count": 3,
      "metadata": {
        "colab": {
          "base_uri": "https://localhost:8080/",
          "height": 183
        },
        "id": "pE2YlveoP0g_",
        "outputId": "0b1e96f6-d53e-4233-87fa-5276c2eab6e7"
      },
      "outputs": [
        {
          "output_type": "error",
          "ename": "NameError",
          "evalue": "ignored",
          "traceback": [
            "\u001b[0;31m---------------------------------------------------------------------------\u001b[0m",
            "\u001b[0;31mNameError\u001b[0m                                 Traceback (most recent call last)",
            "\u001b[0;32m<ipython-input-3-6b3effe0be25>\u001b[0m in \u001b[0;36m<module>\u001b[0;34m\u001b[0m\n\u001b[0;32m----> 1\u001b[0;31m \u001b[0mlibrary\u001b[0m\u001b[0;34m(\u001b[0m\u001b[0mggplot2\u001b[0m\u001b[0;34m)\u001b[0m\u001b[0;34m\u001b[0m\u001b[0;34m\u001b[0m\u001b[0m\n\u001b[0m\u001b[1;32m      2\u001b[0m \u001b[0mlibrary\u001b[0m\u001b[0;34m(\u001b[0m\u001b[0mgridExtra\u001b[0m\u001b[0;34m)\u001b[0m\u001b[0;34m\u001b[0m\u001b[0;34m\u001b[0m\u001b[0m\n",
            "\u001b[0;31mNameError\u001b[0m: name 'library' is not defined"
          ]
        }
      ],
      "source": [
        "library(ggplot2)\n",
        "library(gridExtra)\n"
      ]
    },
    {
      "cell_type": "code",
      "source": [
        "#create data frame with no outliers\n",
        "no_outliers <- data.frame(x = c(1, 2, 2, 3, 4, 5, 7, 3, 2, 12, 11, 15, 14, 17, 22),\n",
        "                          y = c(22, 23, 24, 23, 19, 34, 35, 36, 36, 34, 32, 38, 41,\n",
        "                                42, 44))\n",
        "\n",
        "#create data frame with two outliers\n",
        "outliers <- data.frame(x = c(1, 2, 2, 3, 4, 5, 7, 3, 2, 12, 11, 15, 14, 17, 22),\n",
        "                       y = c(190, 23, 24, 23, 19, 34, 35, 36, 36, 34, 32, 38, 41,\n",
        "                             42, 180))"
      ],
      "metadata": {
        "colab": {
          "base_uri": "https://localhost:8080/",
          "height": 235
        },
        "id": "GA_TiPshP3Kk",
        "outputId": "df010ab5-2d30-45c0-b28c-1e27d70a18a0"
      },
      "execution_count": 4,
      "outputs": [
        {
          "output_type": "error",
          "ename": "NameError",
          "evalue": "ignored",
          "traceback": [
            "\u001b[0;31m---------------------------------------------------------------------------\u001b[0m",
            "\u001b[0;31mNameError\u001b[0m                                 Traceback (most recent call last)",
            "\u001b[0;32m<ipython-input-4-3f3bcf5ac3f6>\u001b[0m in \u001b[0;36m<module>\u001b[0;34m\u001b[0m\n\u001b[1;32m      1\u001b[0m \u001b[0;31m#create data frame with no outliers\u001b[0m\u001b[0;34m\u001b[0m\u001b[0;34m\u001b[0m\u001b[0;34m\u001b[0m\u001b[0m\n\u001b[0;32m----> 2\u001b[0;31m no_outliers <- data.frame(x = c(1, 2, 2, 3, 4, 5, 7, 3, 2, 12, 11, 15, 14, 17, 22),\n\u001b[0m\u001b[1;32m      3\u001b[0m                           y = c(22, 23, 24, 23, 19, 34, 35, 36, 36, 34, 32, 38, 41,\n\u001b[1;32m      4\u001b[0m                                 42, 44))\n\u001b[1;32m      5\u001b[0m \u001b[0;34m\u001b[0m\u001b[0m\n",
            "\u001b[0;31mNameError\u001b[0m: name 'no_outliers' is not defined"
          ]
        }
      ]
    },
    {
      "cell_type": "code",
      "source": [
        "#create scatterplot for data frame with no outliers\n",
        "no_outliers_plot <- ggplot(data = no_outliers, aes(x = x, y = y)) +\n",
        "  geom_point() +\n",
        "  geom_smooth(method = lm) +\n",
        "  ylim(0, 200) +\n",
        "  ggtitle(\"No Outliers\")\n",
        "\n",
        "#create scatterplot for data frame with outliers\n",
        "outliers_plot <- ggplot(data = outliers, aes(x = x, y = y)) +\n",
        "  geom_point() +\n",
        "  geom_smooth(method = lm) +\n",
        "  ylim(0, 200) +\n",
        "  ggtitle(\"With Outliers\")\n",
        "\n",
        "#plot the two scatterplots side by side\n",
        "gridExtra::grid.arrange(no_outliers_plot, outliers_plot, ncol=2)"
      ],
      "metadata": {
        "colab": {
          "base_uri": "https://localhost:8080/",
          "height": 130
        },
        "id": "T0hSb2SKP55a",
        "outputId": "006a4297-1402-4070-f1ab-f098582d166c"
      },
      "execution_count": 5,
      "outputs": [
        {
          "output_type": "error",
          "ename": "SyntaxError",
          "evalue": "ignored",
          "traceback": [
            "\u001b[0;36m  File \u001b[0;32m\"<ipython-input-5-75869ef4fece>\"\u001b[0;36m, line \u001b[0;32m2\u001b[0m\n\u001b[0;31m    no_outliers_plot <- ggplot(data = no_outliers, aes(x = x, y = y)) +\u001b[0m\n\u001b[0m                                                                       ^\u001b[0m\n\u001b[0;31mSyntaxError\u001b[0m\u001b[0;31m:\u001b[0m invalid syntax\n"
          ]
        }
      ]
    },
    {
      "cell_type": "code",
      "source": [
        "#fit the linear regression model to the dataset with outliers\n",
        "model <- lm(y ~ x, data = outliers)\n",
        "\n",
        "#find Cook's distance for each observation in the dataset\n",
        "cooksD <- cooks.distance(model)\n",
        "\n",
        "# Plot Cook's Distance with a horizontal line at 4/n to see which observations\n",
        "#exceed this thresdhold\n",
        "n <- nrow(outliers)\n",
        "plot(cooksD, main = \"Cooks Distance for Influential Obs\")\n",
        "abline(h = 4/n, lty = 2, col = \"steelblue\") # add cutoff line"
      ],
      "metadata": {
        "id": "w1HgU2pCQHkc"
      },
      "execution_count": 5,
      "outputs": []
    },
    {
      "cell_type": "code",
      "source": [
        "#identify influential points\n",
        "influential_obs <- as.numeric(names(cooksD)[(cooksD > (4/n))])\n",
        "\n",
        "#define new data frame with influential points removed\n",
        "outliers_removed <- outliers[-influential_obs, ]"
      ],
      "metadata": {
        "id": "pL1WZDTgQSXo"
      },
      "execution_count": null,
      "outputs": []
    },
    {
      "cell_type": "code",
      "source": [
        "#create scatterplot with outliers present\n",
        "outliers_present <- ggplot(data = outliers, aes(x = x, y = y)) +\n",
        "  geom_point() +\n",
        "  geom_smooth(method = lm) +\n",
        "  ylim(0, 200) +\n",
        "  ggtitle(\"Outliers Present\")\n",
        "\n",
        "#create scatterplot with outliers removed\n",
        "outliers_removed <- ggplot(data = outliers_removed, aes(x = x, y = y)) +\n",
        "  geom_point() +\n",
        "  geom_smooth(method = lm) +\n",
        "  ylim(0, 200) +\n",
        "  ggtitle(\"Outliers Removed\")\n",
        "\n",
        "#plot both scatterplots side by side\n",
        "gridExtra::grid.arrange(outliers_present, outliers_removed, ncol = 2)"
      ],
      "metadata": {
        "id": "r27pi7HWQW2i"
      },
      "execution_count": null,
      "outputs": []
    },
    {
      "cell_type": "code",
      "source": [],
      "metadata": {
        "id": "YVxD-KocQSap"
      },
      "execution_count": null,
      "outputs": []
    },
    {
      "cell_type": "code",
      "source": [],
      "metadata": {
        "id": "23DZVv3_QSeb"
      },
      "execution_count": null,
      "outputs": []
    },
    {
      "cell_type": "code",
      "source": [],
      "metadata": {
        "id": "TlprvgLTQSjc"
      },
      "execution_count": null,
      "outputs": []
    }
  ]
}