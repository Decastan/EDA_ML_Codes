{
  "nbformat": 4,
  "nbformat_minor": 0,
  "metadata": {
    "colab": {
      "provenance": [],
      "authorship_tag": "ABX9TyN4jJTOb+WMP0LnJUnCNQJu",
      "include_colab_link": true
    },
    "kernelspec": {
      "name": "python3",
      "display_name": "Python 3"
    },
    "language_info": {
      "name": "python"
    }
  },
  "cells": [
    {
      "cell_type": "markdown",
      "metadata": {
        "id": "view-in-github",
        "colab_type": "text"
      },
      "source": [
        "<a href=\"https://colab.research.google.com/github/armandoordonez/eda_couse/blob/main/Pipeline_1.ipynb\" target=\"_parent\"><img src=\"https://colab.research.google.com/assets/colab-badge.svg\" alt=\"Open In Colab\"/></a>"
      ]
    },
    {
      "cell_type": "code",
      "execution_count": 1,
      "metadata": {
        "colab": {
          "base_uri": "https://localhost:8080/"
        },
        "id": "14C24tVVh4Xk",
        "outputId": "e85783d5-52a3-4c4e-f55b-f7fdc4a6b2b4"
      },
      "outputs": [
        {
          "output_type": "stream",
          "name": "stdout",
          "text": [
            "[Pipeline] ............... (step 1 of 3) Processing pca, total=   0.0s\n",
            "[Pipeline] ............... (step 2 of 3) Processing std, total=   0.0s\n",
            "[Pipeline] ..... (step 3 of 3) Processing decision_tree, total=   0.0s\n",
            "0.96\n"
          ]
        }
      ],
      "source": [
        "from sklearn import datasets\n",
        "from sklearn.model_selection import train_test_split\n",
        "from sklearn.preprocessing import StandardScaler\n",
        "from sklearn.decomposition import PCA\n",
        "from sklearn.tree import DecisionTreeClassifier\n",
        "# database is imported from inbuilt sklearn datasets\n",
        "iris = datasets.load_iris()\n",
        "X = iris.data\n",
        "y = iris.target\n",
        " \n",
        "#The data spliting is executed here\n",
        "X_train, X_test, y_train, y_test = train_test_split(X, y, test_size = 0.50)\n",
        "\n",
        "# importing pipes for making the Pipe flow\n",
        "from sklearn.pipeline import Pipeline\n",
        "# The sequence of pipe flow is :\n",
        "# PCA dimension is reduced by 2 >> Data gets scaled >> Classification of decission tree\n",
        "pipe = Pipeline([('pca', PCA(n_components = 2)), ('std', StandardScaler()), ('decision_tree', DecisionTreeClassifier())], verbose = True)\n",
        " \n",
        "# fitting the data in the pipeline\n",
        "pipe.fit(X_train, y_train)\n",
        " \n",
        "# scoring data\n",
        "from sklearn.metrics import accuracy_score\n",
        "print(accuracy_score(y_test, pipe.predict(X_test)))"
      ]
    },
    {
      "cell_type": "code",
      "source": [
        "pipe = Pipeline([('pca', PCA(n_components = 2)), ('decision_tree', DecisionTreeClassifier())], verbose = True)\n",
        " \n",
        "# fitting the data in the pipeline\n",
        "pipe.fit(X_train, y_train)\n",
        " \n",
        "# scoring data\n",
        "from sklearn.metrics import accuracy_score\n",
        "print(accuracy_score(y_test, pipe.predict(X_test)))"
      ],
      "metadata": {
        "colab": {
          "base_uri": "https://localhost:8080/"
        },
        "id": "ihqTw6g8iPtg",
        "outputId": "8b52cb56-5688-4c62-d79a-96c883f42454"
      },
      "execution_count": 2,
      "outputs": [
        {
          "output_type": "stream",
          "name": "stdout",
          "text": [
            "[Pipeline] ............... (step 1 of 2) Processing pca, total=   0.0s\n",
            "[Pipeline] ..... (step 2 of 2) Processing decision_tree, total=   0.0s\n",
            "0.9466666666666667\n"
          ]
        }
      ]
    },
    {
      "cell_type": "code",
      "source": [
        "pipe = Pipeline([('decision_tree', DecisionTreeClassifier())], verbose = True)\n",
        " \n",
        "# fitting the data in the pipeline\n",
        "pipe.fit(X_train, y_train)\n",
        " \n",
        "# scoring data\n",
        "from sklearn.metrics import accuracy_score\n",
        "print(accuracy_score(y_test, pipe.predict(X_test)))"
      ],
      "metadata": {
        "colab": {
          "base_uri": "https://localhost:8080/"
        },
        "id": "apzqj_3DiX_5",
        "outputId": "1f1d8820-6a1a-46f4-828f-f2a2907e722a"
      },
      "execution_count": 3,
      "outputs": [
        {
          "output_type": "stream",
          "name": "stdout",
          "text": [
            "[Pipeline] ..... (step 1 of 1) Processing decision_tree, total=   0.0s\n",
            "0.96\n"
          ]
        }
      ]
    },
    {
      "cell_type": "code",
      "source": [],
      "metadata": {
        "id": "_aHFqlzmiede"
      },
      "execution_count": null,
      "outputs": []
    }
  ]
}