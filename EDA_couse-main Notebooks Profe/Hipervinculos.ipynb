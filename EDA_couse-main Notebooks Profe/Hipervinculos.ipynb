{
  "nbformat": 4,
  "nbformat_minor": 0,
  "metadata": {
    "colab": {
      "provenance": [],
      "authorship_tag": "ABX9TyO44mgFYXuY4yFX9QnucMv1",
      "include_colab_link": true
    },
    "kernelspec": {
      "name": "python3",
      "display_name": "Python 3"
    },
    "language_info": {
      "name": "python"
    }
  },
  "cells": [
    {
      "cell_type": "markdown",
      "metadata": {
        "id": "view-in-github",
        "colab_type": "text"
      },
      "source": [
        "<a href=\"https://colab.research.google.com/github/armandoordonez/eda_couse/blob/main/Hipervinculos.ipynb\" target=\"_parent\"><img src=\"https://colab.research.google.com/assets/colab-badge.svg\" alt=\"Open In Colab\"/></a>"
      ]
    },
    {
      "cell_type": "code",
      "execution_count": null,
      "metadata": {
        "id": "Ff-g-JbVK25e"
      },
      "outputs": [],
      "source": [
        "[Subir](#top)\n",
        "# Título de nuestro documento\n",
        " \n",
        "## Índice de contenidos\n",
        "* [Contenido 1](#item1)\n",
        "* [Contenido 2](#item2)\n",
        "* [Contenido 3](#item3)\n",
        "* [Contenido 4](#item4)\n",
        " \n",
        "Lorem ipsum dolor\n",
        " \n",
        "# tomado de https://victorhckinthefreeworld.com/2019/03/07/enlaces-internos-a-partes-de-un-documento-en-formato-markdown/\n",
        "\n",
        "\n",
        "<a name=\"item1\"></a>\n",
        "### Contenido 1\n",
        " \n",
        "Lorem ipsum dolor sit amet, consectetur adipiscing elit, sed do eiusmod tempor incididunt ut labore et dolore magna aliqua.\n",
        " \n",
        "[Subir](#top)\n",
        " \n",
        "<a name=\"item2\"></a>\n",
        "### Contenido 2\n",
        " \n",
        "Lorem ipsum dolor sit amet, consectetur adipiscing elit, sed do eiusmod tempor incididunt ut labore et dolore magna aliqua.\n",
        " \n",
        "Ut enim ad minim veniam, quis nostrud exercitation ullamco laboris nisi ut aliquip ex ea commodo consequat.\n",
        " \n",
        "[Subir](#top)\n",
        " \n",
        "<a name=\"item3\"></a>\n",
        "### Contenido 3\n",
        " \n",
        "Lorem ipsum dolor sit amet, consectetur adipiscing elit, sed do eiusmod tempor incididunt ut labore et dolore magna aliqua.\n",
        " \n",
        "Ut enim ad minim veniam, quis nostrud exercitation ullamco laboris nisi ut aliquip ex ea commodo consequat. Duis aute irure dolor in reprehenderit in voluptate velit esse cillum dolore eu fugiat nulla pariatur.\n",
        " \n",
        "[Subir](#top)\n",
        " \n",
        "<a name=\"item4\"></a>\n",
        "### Contenido 4\n",
        " \n",
        "Lorem ipsum dolor sit amet, consectetur adipiscing elit, sed do eiusmod tempor incididunt ut labore et dolore magna aliqua.\n",
        " \n",
        "Ut enim ad minim veniam, quis nostrud exercitation ullamco laboris nisi ut aliquip ex ea commodo consequat. Duis aute irure dolor in reprehenderit in voluptate velit esse cillum dolore eu fugiat nulla pariatur.\n",
        " \n",
        "Excepteur sint occaecat cupidatat non proident, sunt in culpa qui officia deserunt mollit anim id est laborum.\n",
        " \n",
        "[Subir](#top)"
      ]
    }
  ]
}