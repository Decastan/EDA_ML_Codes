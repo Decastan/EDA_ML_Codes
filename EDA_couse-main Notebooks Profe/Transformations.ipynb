{
  "nbformat": 4,
  "nbformat_minor": 0,
  "metadata": {
    "colab": {
      "provenance": [],
      "authorship_tag": "ABX9TyN5mYbsAz5+IG5eWkopzNxH",
      "include_colab_link": true
    },
    "kernelspec": {
      "name": "python3",
      "display_name": "Python 3"
    },
    "language_info": {
      "name": "python"
    }
  },
  "cells": [
    {
      "cell_type": "markdown",
      "metadata": {
        "id": "view-in-github",
        "colab_type": "text"
      },
      "source": [
        "<a href=\"https://colab.research.google.com/github/armandoordonez/eda_couse/blob/main/Transformations.ipynb\" target=\"_parent\"><img src=\"https://colab.research.google.com/assets/colab-badge.svg\" alt=\"Open In Colab\"/></a>"
      ]
    },
    {
      "cell_type": "code",
      "execution_count": null,
      "metadata": {
        "colab": {
          "base_uri": "https://localhost:8080/",
          "height": 298
        },
        "id": "yd9p0Ym-5CBE",
        "outputId": "2bb40031-9808-41e2-ed2c-5b3bc4ea1d5e"
      },
      "outputs": [
        {
          "output_type": "execute_result",
          "data": {
            "text/plain": [
              "Text(0.5, 1.0, 'Log-Transformed Data')"
            ]
          },
          "metadata": {},
          "execution_count": 1
        },
        {
          "output_type": "display_data",
          "data": {
            "text/plain": [
              "<Figure size 432x288 with 2 Axes>"
            ],
            "image/png": "[encoded data removed]"
          },
          "metadata": {
            "needs_background": "light"
          }
        }
      ],
      "source": [
        "import numpy as np\n",
        "import matplotlib.pyplot as plt\n",
        "\n",
        "#make this example reproducible\n",
        "np.random.seed(0)\n",
        "\n",
        "#create beta distributed random variable with 200 values\n",
        "data = np.random.beta(a=4, b=15, size=300)\n",
        "\n",
        "#create log-transformed data\n",
        "data_log = np.log(data)\n",
        "\n",
        "#define grid of plots\n",
        "fig, axs = plt.subplots(nrows=1, ncols=2)\n",
        "\n",
        "#create histograms\n",
        "axs[0].hist(data, edgecolor='black')\n",
        "axs[1].hist(data_log, edgecolor='black')\n",
        "\n",
        "#add title to each histogram\n",
        "axs[0].set_title('Original Data')\n",
        "axs[1].set_title('Log-Transformed Data')"
      ]
    },
    {
      "cell_type": "code",
      "source": [
        "import numpy as np\n",
        "import matplotlib.pyplot as plt\n",
        "\n",
        "#make this example reproducible\n",
        "np.random.seed(0)\n",
        "\n",
        "#create beta distributed random variable with 200 values\n",
        "data = np.random.beta(a=1, b=5, size=300)\n",
        "\n",
        "#create log-transformed data\n",
        "data_log = np.sqrt(data)\n",
        "\n",
        "#define grid of plots\n",
        "fig, axs = plt.subplots(nrows=1, ncols=2)\n",
        "\n",
        "#create histograms\n",
        "axs[0].hist(data, edgecolor='black')\n",
        "axs[1].hist(data_log, edgecolor='black')\n",
        "\n",
        "#add title to each histogram\n",
        "axs[0].set_title('Original Data')\n",
        "axs[1].set_title('Square Root Transformed Data')"
      ],
      "metadata": {
        "colab": {
          "base_uri": "https://localhost:8080/",
          "height": 298
        },
        "id": "P9KZokH_5NVF",
        "outputId": "a16f6186-ef3c-4ac1-83b6-5f36123aea1b"
      },
      "execution_count": null,
      "outputs": [
        {
          "output_type": "execute_result",
          "data": {
            "text/plain": [
              "Text(0.5, 1.0, 'Square Root Transformed Data')"
            ]
          },
          "metadata": {},
          "execution_count": 2
        },
        {
          "output_type": "display_data",
          "data": {
            "text/plain": [
              "<Figure size 432x288 with 2 Axes>"
            ],
            "image/png": "[encoded data removed]"
          },
          "metadata": {
            "needs_background": "light"
          }
        }
      ]
    },
    {
      "cell_type": "code",
      "source": [
        "import numpy as np\n",
        "import matplotlib.pyplot as plt\n",
        "\n",
        "#make this example reproducible\n",
        "np.random.seed(0)\n",
        "\n",
        "#create beta distributed random variable with 200 values\n",
        "data = np.random.beta(a=1, b=5, size=300)\n",
        "\n",
        "#create log-transformed data\n",
        "data_log = np.cbrt(data)\n",
        "\n",
        "#define grid of plots\n",
        "fig, axs = plt.subplots(nrows=1, ncols=2)\n",
        "\n",
        "#create histograms\n",
        "axs[0].hist(data, edgecolor='black')\n",
        "axs[1].hist(data_log, edgecolor='black')\n",
        "\n",
        "#add title to each histogram\n",
        "axs[0].set_title('Original Data')\n",
        "axs[1].set_title('Cube Root Transformed Data')"
      ],
      "metadata": {
        "colab": {
          "base_uri": "https://localhost:8080/",
          "height": 298
        },
        "id": "3jfPcKrX5Rzp",
        "outputId": "56581cab-a8f5-4498-c616-e16d7baed0b3"
      },
      "execution_count": null,
      "outputs": [
        {
          "output_type": "execute_result",
          "data": {
            "text/plain": [
              "Text(0.5, 1.0, 'Cube Root Transformed Data')"
            ]
          },
          "metadata": {},
          "execution_count": 3
        },
        {
          "output_type": "display_data",
          "data": {
            "text/plain": [
              "<Figure size 432x288 with 2 Axes>"
            ],
            "image/png": "[encoded data removed]"
          },
          "metadata": {
            "needs_background": "light"
          }
        }
      ]
    },
    {
      "cell_type": "code",
      "source": [],
      "metadata": {
        "id": "TpvYVDmU5fG9"
      },
      "execution_count": null,
      "outputs": []
    },
    {
      "cell_type": "code",
      "source": [],
      "metadata": {
        "id": "nEjMdlOD7kR-"
      },
      "execution_count": null,
      "outputs": []
    }
  ]
}